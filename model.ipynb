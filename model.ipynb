{
 "cells": [
  {
   "cell_type": "markdown",
   "metadata": {},
   "source": [
    "# P000456CSITCP - Hate Speech Detection"
   ]
  },
  {
   "cell_type": "markdown",
   "metadata": {},
   "source": [
    "*This will be a summary of the entire jupyternotebook* I will do this at the end :)"
   ]
  },
  {
   "cell_type": "code",
   "execution_count": 1,
   "metadata": {},
   "outputs": [],
   "source": [
    "import pandas as pd\n",
    "\n",
    "import numpy as np\n",
    "import matplotlib.pyplot as plt\n",
    "import seaborn as sns\n",
    "import re\n",
    "import string\n",
    "import nltk\n",
    "from nltk.corpus import stopwords\n",
    "from nltk.tokenize import word_tokenize\n",
    "from nltk.stem import PorterStemmer\n",
    "from sklearn.feature_extraction.text import CountVectorizer\n",
    "from sklearn.model_selection import train_test_split\n",
    "from sklearn.linear_model import LogisticRegression"
   ]
  },
  {
   "cell_type": "markdown",
   "metadata": {},
   "source": [
    "## Loading The Dataset \n",
    "\n",
    "- The twitter.csv file is loaded into the variable name data. This is then used to condut initial analysis onthe data.\n",
    "- The variables on this csv file are unamed, count, hate_speech, offensive_language, neither and class. \n",
    "\n",
    "Below is a list explaining each variable \n",
    "- count: The total number of annotations for each tweet. (Integer) </br>\n",
    "- hate_speech: The number of annotations classifying a tweet as hate speech. (Integer)</br>\n",
    "- offensive_language_count: The number of annotations classifying a tweet as offensive language. (Integer)</br>\n",
    "- neither_count: The number of annotations classifying a tweet as neither hate speech nor offensive language. (Integer)</br>\n",
    "- class: The level of hate in which the twitter comment is projecting; hate speech, offensive language or neither. (Integer) </br>\n",
    "- tweet: The tweet which the classfications are being made (String) </br>\n",
    "\n",
    "NOTE: The Unnamed column looks to be an index column."
   ]
  },
  {
   "cell_type": "code",
   "execution_count": 2,
   "metadata": {},
   "outputs": [
    {
     "name": "stdout",
     "output_type": "stream",
     "text": [
      "   Unnamed: 0  count  hate_speech  offensive_language  neither  class  \\\n",
      "0           0      3            0                   0        3      2   \n",
      "1           1      3            0                   3        0      1   \n",
      "2           2      3            0                   3        0      1   \n",
      "3           3      3            0                   2        1      1   \n",
      "4           4      6            0                   6        0      1   \n",
      "\n",
      "                                               tweet  \n",
      "0  !!! RT @mayasolovely: As a woman you shouldn't...  \n",
      "1  !!!!! RT @mleew17: boy dats cold...tyga dwn ba...  \n",
      "2  !!!!!!! RT @UrKindOfBrand Dawg!!!! RT @80sbaby...  \n",
      "3  !!!!!!!!! RT @C_G_Anderson: @viva_based she lo...  \n",
      "4  !!!!!!!!!!!!! RT @ShenikaRoberts: The shit you...  \n"
     ]
    }
   ],
   "source": [
    "# Load the data\n",
    "data = pd.read_csv('twitter.csv')\n",
    "\n",
    "# Display the first 5 rows of the data\n",
    "print(data.head())\n"
   ]
  },
  {
   "cell_type": "code",
   "execution_count": 3,
   "metadata": {},
   "outputs": [
    {
     "data": {
      "text/plain": [
       "1    19190\n",
       "2     4163\n",
       "0     1430\n",
       "Name: class, dtype: int64"
      ]
     },
     "execution_count": 3,
     "metadata": {},
     "output_type": "execute_result"
    }
   ],
   "source": [
    "data['class'].value_counts()"
   ]
  },
  {
   "cell_type": "markdown",
   "metadata": {},
   "source": [
    "To really understand the level of hate in which the dataset entials the class variable in looked into further. It can be said that 'class' 1 has the most counts followed by 'class' 2 then 3. \n",
    "\n",
    "The class column indicates \n",
    "- 0: Hate Speech \n",
    "- 1: Offensive Language\n",
    "- 2: Neither "
   ]
  },
  {
   "cell_type": "code",
   "execution_count": 4,
   "metadata": {},
   "outputs": [
    {
     "data": {
      "text/html": [
       "<div>\n",
       "<style scoped>\n",
       "    .dataframe tbody tr th:only-of-type {\n",
       "        vertical-align: middle;\n",
       "    }\n",
       "\n",
       "    .dataframe tbody tr th {\n",
       "        vertical-align: top;\n",
       "    }\n",
       "\n",
       "    .dataframe thead th {\n",
       "        text-align: right;\n",
       "    }\n",
       "</style>\n",
       "<table border=\"1\" class=\"dataframe\">\n",
       "  <thead>\n",
       "    <tr style=\"text-align: right;\">\n",
       "      <th></th>\n",
       "      <th>Unnamed: 0</th>\n",
       "      <th>count</th>\n",
       "      <th>hate_speech</th>\n",
       "      <th>offensive_language</th>\n",
       "      <th>neither</th>\n",
       "      <th>class</th>\n",
       "    </tr>\n",
       "  </thead>\n",
       "  <tbody>\n",
       "    <tr>\n",
       "      <th>count</th>\n",
       "      <td>24783.000000</td>\n",
       "      <td>24783.000000</td>\n",
       "      <td>24783.000000</td>\n",
       "      <td>24783.000000</td>\n",
       "      <td>24783.000000</td>\n",
       "      <td>24783.000000</td>\n",
       "    </tr>\n",
       "    <tr>\n",
       "      <th>mean</th>\n",
       "      <td>12681.192027</td>\n",
       "      <td>3.243473</td>\n",
       "      <td>0.280515</td>\n",
       "      <td>2.413711</td>\n",
       "      <td>0.549247</td>\n",
       "      <td>1.110277</td>\n",
       "    </tr>\n",
       "    <tr>\n",
       "      <th>std</th>\n",
       "      <td>7299.553863</td>\n",
       "      <td>0.883060</td>\n",
       "      <td>0.631851</td>\n",
       "      <td>1.399459</td>\n",
       "      <td>1.113299</td>\n",
       "      <td>0.462089</td>\n",
       "    </tr>\n",
       "    <tr>\n",
       "      <th>min</th>\n",
       "      <td>0.000000</td>\n",
       "      <td>3.000000</td>\n",
       "      <td>0.000000</td>\n",
       "      <td>0.000000</td>\n",
       "      <td>0.000000</td>\n",
       "      <td>0.000000</td>\n",
       "    </tr>\n",
       "    <tr>\n",
       "      <th>25%</th>\n",
       "      <td>6372.500000</td>\n",
       "      <td>3.000000</td>\n",
       "      <td>0.000000</td>\n",
       "      <td>2.000000</td>\n",
       "      <td>0.000000</td>\n",
       "      <td>1.000000</td>\n",
       "    </tr>\n",
       "    <tr>\n",
       "      <th>50%</th>\n",
       "      <td>12703.000000</td>\n",
       "      <td>3.000000</td>\n",
       "      <td>0.000000</td>\n",
       "      <td>3.000000</td>\n",
       "      <td>0.000000</td>\n",
       "      <td>1.000000</td>\n",
       "    </tr>\n",
       "    <tr>\n",
       "      <th>75%</th>\n",
       "      <td>18995.500000</td>\n",
       "      <td>3.000000</td>\n",
       "      <td>0.000000</td>\n",
       "      <td>3.000000</td>\n",
       "      <td>0.000000</td>\n",
       "      <td>1.000000</td>\n",
       "    </tr>\n",
       "    <tr>\n",
       "      <th>max</th>\n",
       "      <td>25296.000000</td>\n",
       "      <td>9.000000</td>\n",
       "      <td>7.000000</td>\n",
       "      <td>9.000000</td>\n",
       "      <td>9.000000</td>\n",
       "      <td>2.000000</td>\n",
       "    </tr>\n",
       "  </tbody>\n",
       "</table>\n",
       "</div>"
      ],
      "text/plain": [
       "         Unnamed: 0         count   hate_speech  offensive_language  \\\n",
       "count  24783.000000  24783.000000  24783.000000        24783.000000   \n",
       "mean   12681.192027      3.243473      0.280515            2.413711   \n",
       "std     7299.553863      0.883060      0.631851            1.399459   \n",
       "min        0.000000      3.000000      0.000000            0.000000   \n",
       "25%     6372.500000      3.000000      0.000000            2.000000   \n",
       "50%    12703.000000      3.000000      0.000000            3.000000   \n",
       "75%    18995.500000      3.000000      0.000000            3.000000   \n",
       "max    25296.000000      9.000000      7.000000            9.000000   \n",
       "\n",
       "            neither         class  \n",
       "count  24783.000000  24783.000000  \n",
       "mean       0.549247      1.110277  \n",
       "std        1.113299      0.462089  \n",
       "min        0.000000      0.000000  \n",
       "25%        0.000000      1.000000  \n",
       "50%        0.000000      1.000000  \n",
       "75%        0.000000      1.000000  \n",
       "max        9.000000      2.000000  "
      ]
     },
     "execution_count": 4,
     "metadata": {},
     "output_type": "execute_result"
    }
   ],
   "source": [
    "data.describe()"
   ]
  },
  {
   "cell_type": "markdown",
   "metadata": {},
   "source": [
    "Looking at the statistical analysis of each variable (excluding count and unamed) it can be said that:\n",
    "\n",
    "- hate_speech: With a mean of 0.28 it can be said that most entries have low levels of hate_speech and thus most likely not being classified as hate speech. Aditionally with a 0.0 distibrution for the 25, 50 and 75 percentile show no hate speech in the data points. With a max of 7 it can highlight some entires of high levels of hate speech \n",
    "\n",
    "- offesnive_language: A mean of 2.41 shows a higher average than hate_speech and can therefore be said that offensive language is more common than hate speech. It can be noted that half of the data had a score of 3 or lower for offensive langauge. Some entires also show high levels of offensive language with a max value of 9. \n",
    "\n",
    "- neither: The mean od 0.55 shows a good portion of the data is neither hate speech or offensive language. Aditionally with a 0.0 distibrution for the 25, 50 and 75 percentile show that the data falls into other categories. Some entires also show high levels of neither category with a max value of 9. \n",
    "\n",
    "- class: 1.11 mean shows most enties are classified as offensive langauge (1). This can be shown with the 25th and 50th percentiles being 1. The max value of 2 shows that hate speech is present but less common. \n",
    "\n",
    "Ultimately the data is skewed towards offensive language. A larger proportion of the data can be seen to be offensive language as seen by the class in comparison to hate speech and a small group within neither."
   ]
  },
  {
   "cell_type": "code",
   "execution_count": 5,
   "metadata": {},
   "outputs": [
    {
     "data": {
      "text/plain": [
       "Unnamed: 0            0\n",
       "count                 0\n",
       "hate_speech           0\n",
       "offensive_language    0\n",
       "neither               0\n",
       "class                 0\n",
       "tweet                 0\n",
       "dtype: int64"
      ]
     },
     "execution_count": 5,
     "metadata": {},
     "output_type": "execute_result"
    }
   ],
   "source": [
    "data.isna().sum()"
   ]
  },
  {
   "cell_type": "code",
   "execution_count": 6,
   "metadata": {},
   "outputs": [
    {
     "data": {
      "text/plain": [
       "0"
      ]
     },
     "execution_count": 6,
     "metadata": {},
     "output_type": "execute_result"
    }
   ],
   "source": [
    "data.duplicated().sum()"
   ]
  },
  {
   "cell_type": "markdown",
   "metadata": {},
   "source": [
    "It can also be seen that there are no n/a data within any of the variables and no duplicated data in the dataset as well. "
   ]
  },
  {
   "cell_type": "code",
   "execution_count": 7,
   "metadata": {},
   "outputs": [
    {
     "data": {
      "text/plain": [
       "<AxesSubplot:xlabel='class', ylabel='Count'>"
      ]
     },
     "execution_count": 7,
     "metadata": {},
     "output_type": "execute_result"
    },
    {
     "data": {
      "image/png": "[encoded data removed]",
      "text/plain": [
       "<Figure size 432x288 with 1 Axes>"
      ]
     },
     "metadata": {
      "needs_background": "light"
     },
     "output_type": "display_data"
    }
   ],
   "source": [
    "# plot the distribution of the classes\n",
    "sns.histplot(data['class'])\n"
   ]
  },
  {
   "cell_type": "markdown",
   "metadata": {},
   "source": [
    "Looking at the histogram it can be reinstated that the offensive langauge category is classfied heavily in the dataset followed by approximately 25% of the data classfied as neither and hate speech."
   ]
  },
  {
   "cell_type": "markdown",
   "metadata": {},
   "source": [
    "## Data Processing\n",
    "\n",
    "- The data preprocessing stage is important to turn the raw data (twitter.csv) into clean data that can then be used for training and testing. "
   ]
  },
  {
   "cell_type": "markdown",
   "metadata": {},
   "source": [
    "The next steps that must be taken after the intial data analysis is data preprocessing. Here the dataset is taken and the following elements are removed from the dataset: \n",
    "\n",
    "- urls\n",
    "- usernames (especially for anonymity)\n",
    "- emojis\n",
    "- punctuation\n",
    "- single characters + double spaces\n",
    "\n",
    "The following are processed to ensure clarity in the data:\n",
    "\n",
    "- Turning everything lowercase"
   ]
  },
  {
   "cell_type": "code",
   "execution_count": 8,
   "metadata": {},
   "outputs": [
    {
     "data": {
      "text/html": [
       "<div>\n",
       "<style scoped>\n",
       "    .dataframe tbody tr th:only-of-type {\n",
       "        vertical-align: middle;\n",
       "    }\n",
       "\n",
       "    .dataframe tbody tr th {\n",
       "        vertical-align: top;\n",
       "    }\n",
       "\n",
       "    .dataframe thead th {\n",
       "        text-align: right;\n",
       "    }\n",
       "</style>\n",
       "<table border=\"1\" class=\"dataframe\">\n",
       "  <thead>\n",
       "    <tr style=\"text-align: right;\">\n",
       "      <th></th>\n",
       "      <th>tweet</th>\n",
       "      <th>class</th>\n",
       "    </tr>\n",
       "  </thead>\n",
       "  <tbody>\n",
       "    <tr>\n",
       "      <th>0</th>\n",
       "      <td>!!! RT @mayasolovely: As a woman you shouldn't...</td>\n",
       "      <td>2</td>\n",
       "    </tr>\n",
       "    <tr>\n",
       "      <th>1</th>\n",
       "      <td>!!!!! RT @mleew17: boy dats cold...tyga dwn ba...</td>\n",
       "      <td>1</td>\n",
       "    </tr>\n",
       "    <tr>\n",
       "      <th>2</th>\n",
       "      <td>!!!!!!! RT @UrKindOfBrand Dawg!!!! RT @80sbaby...</td>\n",
       "      <td>1</td>\n",
       "    </tr>\n",
       "    <tr>\n",
       "      <th>3</th>\n",
       "      <td>!!!!!!!!! RT @C_G_Anderson: @viva_based she lo...</td>\n",
       "      <td>1</td>\n",
       "    </tr>\n",
       "    <tr>\n",
       "      <th>4</th>\n",
       "      <td>!!!!!!!!!!!!! RT @ShenikaRoberts: The shit you...</td>\n",
       "      <td>1</td>\n",
       "    </tr>\n",
       "  </tbody>\n",
       "</table>\n",
       "</div>"
      ],
      "text/plain": [
       "                                               tweet  class\n",
       "0  !!! RT @mayasolovely: As a woman you shouldn't...      2\n",
       "1  !!!!! RT @mleew17: boy dats cold...tyga dwn ba...      1\n",
       "2  !!!!!!! RT @UrKindOfBrand Dawg!!!! RT @80sbaby...      1\n",
       "3  !!!!!!!!! RT @C_G_Anderson: @viva_based she lo...      1\n",
       "4  !!!!!!!!!!!!! RT @ShenikaRoberts: The shit you...      1"
      ]
     },
     "execution_count": 8,
     "metadata": {},
     "output_type": "execute_result"
    }
   ],
   "source": [
    "data_processed=data[['tweet','class']]\n",
    "data_processed.head()"
   ]
  },
  {
   "cell_type": "code",
   "execution_count": 9,
   "metadata": {},
   "outputs": [
    {
     "name": "stderr",
     "output_type": "stream",
     "text": [
      "/var/folders/22/vpq71tdd6t7d2hvqqzjsv3vr0000gn/T/ipykernel_1373/2544297350.py:2: SettingWithCopyWarning: \n",
      "A value is trying to be set on a copy of a slice from a DataFrame.\n",
      "Try using .loc[row_indexer,col_indexer] = value instead\n",
      "\n",
      "See the caveats in the documentation: https://pandas.pydata.org/pandas-docs/stable/user_guide/indexing.html#returning-a-view-versus-a-copy\n",
      "  data_processed[\"tweet\"] = data_processed[\"tweet\"].apply(lambda x:re.sub(r'https?://\\S+', '', str(x)))\n"
     ]
    },
    {
     "data": {
      "text/plain": [
       "0        !!! RT @mayasolovely: As a woman you shouldn't...\n",
       "1        !!!!! RT @mleew17: boy dats cold...tyga dwn ba...\n",
       "2        !!!!!!! RT @UrKindOfBrand Dawg!!!! RT @80sbaby...\n",
       "3        !!!!!!!!! RT @C_G_Anderson: @viva_based she lo...\n",
       "4        !!!!!!!!!!!!! RT @ShenikaRoberts: The shit you...\n",
       "                               ...                        \n",
       "24778    you's a muthaf***in lie &#8220;@LifeAsKing: @2...\n",
       "24779    you've gone and broke the wrong heart baby, an...\n",
       "24780    young buck wanna eat!!.. dat nigguh like I ain...\n",
       "24781                youu got wild bitches tellin you lies\n",
       "24782    ~~Ruffled | Ntac Eileen Dahlia - Beautiful col...\n",
       "Name: tweet, Length: 24783, dtype: object"
      ]
     },
     "execution_count": 9,
     "metadata": {},
     "output_type": "execute_result"
    }
   ],
   "source": [
    "# remove the urls\n",
    "data_processed[\"tweet\"] = data_processed[\"tweet\"].apply(lambda x:re.sub(r'https?://\\S+', '', str(x)))\n",
    "data_processed[\"tweet\"]\n"
   ]
  },
  {
   "cell_type": "code",
   "execution_count": 10,
   "metadata": {},
   "outputs": [
    {
     "name": "stderr",
     "output_type": "stream",
     "text": [
      "/var/folders/22/vpq71tdd6t7d2hvqqzjsv3vr0000gn/T/ipykernel_1373/1831671013.py:2: SettingWithCopyWarning: \n",
      "A value is trying to be set on a copy of a slice from a DataFrame.\n",
      "Try using .loc[row_indexer,col_indexer] = value instead\n",
      "\n",
      "See the caveats in the documentation: https://pandas.pydata.org/pandas-docs/stable/user_guide/indexing.html#returning-a-view-versus-a-copy\n",
      "  data_processed['tweet'] = data_processed['tweet'].apply(lambda x: \" \".join(x.lower() for x in x.split()))\n"
     ]
    },
    {
     "data": {
      "text/plain": [
       "0        !!! rt @mayasolovely: as a woman you shouldn't...\n",
       "1        !!!!! rt @mleew17: boy dats cold...tyga dwn ba...\n",
       "2        !!!!!!! rt @urkindofbrand dawg!!!! rt @80sbaby...\n",
       "3        !!!!!!!!! rt @c_g_anderson: @viva_based she lo...\n",
       "4        !!!!!!!!!!!!! rt @shenikaroberts: the shit you...\n",
       "                               ...                        \n",
       "24778    you's a muthaf***in lie &#8220;@lifeasking: @2...\n",
       "24779    you've gone and broke the wrong heart baby, an...\n",
       "24780    young buck wanna eat!!.. dat nigguh like i ain...\n",
       "24781                youu got wild bitches tellin you lies\n",
       "24782    ~~ruffled | ntac eileen dahlia - beautiful col...\n",
       "Name: tweet, Length: 24783, dtype: object"
      ]
     },
     "execution_count": 10,
     "metadata": {},
     "output_type": "execute_result"
    }
   ],
   "source": [
    "# Lowercase removal\n",
    "data_processed['tweet'] = data_processed['tweet'].apply(lambda x: \" \".join(x.lower() for x in x.split()))\n",
    "data_processed['tweet']"
   ]
  },
  {
   "cell_type": "code",
   "execution_count": 11,
   "metadata": {},
   "outputs": [
    {
     "name": "stderr",
     "output_type": "stream",
     "text": [
      "/var/folders/22/vpq71tdd6t7d2hvqqzjsv3vr0000gn/T/ipykernel_1373/2353336898.py:2: FutureWarning: The default value of regex will change from True to False in a future version.\n",
      "  data_processed['tweet'] = data_processed['tweet'].str.replace('[^\\w\\s]','')\n",
      "/var/folders/22/vpq71tdd6t7d2hvqqzjsv3vr0000gn/T/ipykernel_1373/2353336898.py:2: SettingWithCopyWarning: \n",
      "A value is trying to be set on a copy of a slice from a DataFrame.\n",
      "Try using .loc[row_indexer,col_indexer] = value instead\n",
      "\n",
      "See the caveats in the documentation: https://pandas.pydata.org/pandas-docs/stable/user_guide/indexing.html#returning-a-view-versus-a-copy\n",
      "  data_processed['tweet'] = data_processed['tweet'].str.replace('[^\\w\\s]','')\n"
     ]
    },
    {
     "data": {
      "text/plain": [
       "0         rt mayasolovely as a woman you shouldnt compl...\n",
       "1         rt mleew17 boy dats coldtyga dwn bad for cuff...\n",
       "2         rt urkindofbrand dawg rt 80sbaby4life you eve...\n",
       "3         rt c_g_anderson viva_based she look like a tr...\n",
       "4         rt shenikaroberts the shit you hear about me ...\n",
       "                               ...                        \n",
       "24778    yous a muthafin lie 8220lifeasking 20_pearls c...\n",
       "24779    youve gone and broke the wrong heart baby and ...\n",
       "24780    young buck wanna eat dat nigguh like i aint fu...\n",
       "24781                youu got wild bitches tellin you lies\n",
       "24782    ruffled  ntac eileen dahlia  beautiful color c...\n",
       "Name: tweet, Length: 24783, dtype: object"
      ]
     },
     "execution_count": 11,
     "metadata": {},
     "output_type": "execute_result"
    }
   ],
   "source": [
    "# Punctuation Removal\n",
    "data_processed['tweet'] = data_processed['tweet'].str.replace('[^\\w\\s]','')\n",
    "data_processed['tweet']"
   ]
  },
  {
   "cell_type": "code",
   "execution_count": 12,
   "metadata": {},
   "outputs": [
    {
     "name": "stderr",
     "output_type": "stream",
     "text": [
      "/var/folders/22/vpq71tdd6t7d2hvqqzjsv3vr0000gn/T/ipykernel_1373/3867049835.py:2: SettingWithCopyWarning: \n",
      "A value is trying to be set on a copy of a slice from a DataFrame.\n",
      "Try using .loc[row_indexer,col_indexer] = value instead\n",
      "\n",
      "See the caveats in the documentation: https://pandas.pydata.org/pandas-docs/stable/user_guide/indexing.html#returning-a-view-versus-a-copy\n",
      "  data_processed['tweet'] = data_processed['tweet'].apply(lambda x:re.sub(r'\\s+[a-zA-Z]\\s+', ' ', x))\n"
     ]
    },
    {
     "data": {
      "text/plain": [
       "0         rt mayasolovely as woman you shouldnt complai...\n",
       "1         rt mleew17 boy dats coldtyga dwn bad for cuff...\n",
       "2         rt urkindofbrand dawg rt 80sbaby4life you eve...\n",
       "3          rt c_g_anderson viva_based she look like tranny\n",
       "4         rt shenikaroberts the shit you hear about me ...\n",
       "                               ...                        \n",
       "24778    yous muthafin lie 8220lifeasking 20_pearls cor...\n",
       "24779    youve gone and broke the wrong heart baby and ...\n",
       "24780    young buck wanna eat dat nigguh like aint fuck...\n",
       "24781                youu got wild bitches tellin you lies\n",
       "24782    ruffled  ntac eileen dahlia  beautiful color c...\n",
       "Name: tweet, Length: 24783, dtype: object"
      ]
     },
     "execution_count": 12,
     "metadata": {},
     "output_type": "execute_result"
    }
   ],
   "source": [
    "# Single character and double space removal (a/i/n etc)\n",
    "data_processed['tweet'] = data_processed['tweet'].apply(lambda x:re.sub(r'\\s+[a-zA-Z]\\s+', ' ', x))\n",
    "data_processed['tweet'] "
   ]
  },
  {
   "cell_type": "code",
   "execution_count": 13,
   "metadata": {},
   "outputs": [
    {
     "name": "stderr",
     "output_type": "stream",
     "text": [
      "/var/folders/22/vpq71tdd6t7d2hvqqzjsv3vr0000gn/T/ipykernel_1373/3113575936.py:2: SettingWithCopyWarning: \n",
      "A value is trying to be set on a copy of a slice from a DataFrame.\n",
      "Try using .loc[row_indexer,col_indexer] = value instead\n",
      "\n",
      "See the caveats in the documentation: https://pandas.pydata.org/pandas-docs/stable/user_guide/indexing.html#returning-a-view-versus-a-copy\n",
      "  data_processed['tweet'] = data_processed['tweet'].apply(lambda x:re.sub(r'@\\w+', '', x))\n"
     ]
    },
    {
     "data": {
      "text/plain": [
       "0         rt mayasolovely as woman you shouldnt complai...\n",
       "1         rt mleew17 boy dats coldtyga dwn bad for cuff...\n",
       "2         rt urkindofbrand dawg rt 80sbaby4life you eve...\n",
       "3          rt c_g_anderson viva_based she look like tranny\n",
       "4         rt shenikaroberts the shit you hear about me ...\n",
       "                               ...                        \n",
       "24778    yous muthafin lie 8220lifeasking 20_pearls cor...\n",
       "24779    youve gone and broke the wrong heart baby and ...\n",
       "24780    young buck wanna eat dat nigguh like aint fuck...\n",
       "24781                youu got wild bitches tellin you lies\n",
       "24782    ruffled  ntac eileen dahlia  beautiful color c...\n",
       "Name: tweet, Length: 24783, dtype: object"
      ]
     },
     "execution_count": 13,
     "metadata": {},
     "output_type": "execute_result"
    }
   ],
   "source": [
    "# remove usernames/handles \n",
    "data_processed['tweet'] = data_processed['tweet'].apply(lambda x:re.sub(r'@\\w+', '', x))\n",
    "data_processed['tweet']"
   ]
  },
  {
   "cell_type": "code",
   "execution_count": 14,
   "metadata": {},
   "outputs": [
    {
     "name": "stderr",
     "output_type": "stream",
     "text": [
      "/var/folders/22/vpq71tdd6t7d2hvqqzjsv3vr0000gn/T/ipykernel_1373/643837315.py:2: SettingWithCopyWarning: \n",
      "A value is trying to be set on a copy of a slice from a DataFrame.\n",
      "Try using .loc[row_indexer,col_indexer] = value instead\n",
      "\n",
      "See the caveats in the documentation: https://pandas.pydata.org/pandas-docs/stable/user_guide/indexing.html#returning-a-view-versus-a-copy\n",
      "  data_processed['tweet'] = data_processed['tweet'].apply(lambda x: x.encode('ascii', 'ignore').decode('ascii'))\n"
     ]
    },
    {
     "data": {
      "text/plain": [
       "0         rt mayasolovely as woman you shouldnt complai...\n",
       "1         rt mleew17 boy dats coldtyga dwn bad for cuff...\n",
       "2         rt urkindofbrand dawg rt 80sbaby4life you eve...\n",
       "3          rt c_g_anderson viva_based she look like tranny\n",
       "4         rt shenikaroberts the shit you hear about me ...\n",
       "                               ...                        \n",
       "24778    yous muthafin lie 8220lifeasking 20_pearls cor...\n",
       "24779    youve gone and broke the wrong heart baby and ...\n",
       "24780    young buck wanna eat dat nigguh like aint fuck...\n",
       "24781                youu got wild bitches tellin you lies\n",
       "24782    ruffled  ntac eileen dahlia  beautiful color c...\n",
       "Name: tweet, Length: 24783, dtype: object"
      ]
     },
     "execution_count": 14,
     "metadata": {},
     "output_type": "execute_result"
    }
   ],
   "source": [
    "# remove emojis\n",
    "data_processed['tweet'] = data_processed['tweet'].apply(lambda x: x.encode('ascii', 'ignore').decode('ascii'))\n",
    "data_processed['tweet']"
   ]
  },
  {
   "cell_type": "markdown",
   "metadata": {},
   "source": [
    "After removing emojis, usernames/handles, single charters, double spaces, punctuations, lowercases and URLs, the most common words are generated to understand what is the most common words amongst tweets. "
   ]
  },
  {
   "cell_type": "code",
   "execution_count": 15,
   "metadata": {},
   "outputs": [
    {
     "data": {
      "text/plain": [
       "bitch      8120\n",
       "rt         7578\n",
       "the        7168\n",
       "you        6075\n",
       "to         5332\n",
       "and        3950\n",
       "my         3576\n",
       "that       3515\n",
       "in         3049\n",
       "bitches    3045\n",
       "dtype: int64"
      ]
     },
     "execution_count": 15,
     "metadata": {},
     "output_type": "execute_result"
    }
   ],
   "source": [
    "# Most common words\n",
    "freq = pd.Series(' '.join(data_processed['tweet']).split()).value_counts()[:10]\n",
    "freq\n"
   ]
  },
  {
   "cell_type": "markdown",
   "metadata": {},
   "source": [
    "It can be noted that the words/symbols 'rt' and ':' are the most common among the tweets. These two words/symbols are of no benefit for this dataset and do not contribute to the analysis of hate speech. The term 'rt' is used in twitter to say retweet which is the action of re posting a twitter post and the semicolon, :, can be used for gramatical purposes. \n",
    "\n",
    "For this analysis, \"rt\" and the \":\" symbol are not needed, so we can remove them as well. "
   ]
  },
  {
   "cell_type": "code",
   "execution_count": 16,
   "metadata": {},
   "outputs": [
    {
     "name": "stderr",
     "output_type": "stream",
     "text": [
      "/var/folders/22/vpq71tdd6t7d2hvqqzjsv3vr0000gn/T/ipykernel_1373/48207569.py:2: SettingWithCopyWarning: \n",
      "A value is trying to be set on a copy of a slice from a DataFrame.\n",
      "Try using .loc[row_indexer,col_indexer] = value instead\n",
      "\n",
      "See the caveats in the documentation: https://pandas.pydata.org/pandas-docs/stable/user_guide/indexing.html#returning-a-view-versus-a-copy\n",
      "  data_processed['tweet'] = data_processed['tweet'].apply(lambda x:re.sub(r'rt', '', x))\n",
      "/var/folders/22/vpq71tdd6t7d2hvqqzjsv3vr0000gn/T/ipykernel_1373/48207569.py:3: SettingWithCopyWarning: \n",
      "A value is trying to be set on a copy of a slice from a DataFrame.\n",
      "Try using .loc[row_indexer,col_indexer] = value instead\n",
      "\n",
      "See the caveats in the documentation: https://pandas.pydata.org/pandas-docs/stable/user_guide/indexing.html#returning-a-view-versus-a-copy\n",
      "  data_processed['tweet'] = data_processed['tweet'].apply(lambda x:re.sub(r':', '', x))\n"
     ]
    },
    {
     "data": {
      "text/plain": [
       "0          mayasolovely as woman you shouldnt complain ...\n",
       "1          mleew17 boy dats coldtyga dwn bad for cuffin...\n",
       "2          urkindofbrand dawg  80sbaby4life you ever fu...\n",
       "3             c_g_anderson viva_based she look like tranny\n",
       "4          shenikarobes the shit you hear about me migh...\n",
       "                               ...                        \n",
       "24778    yous muthafin lie 8220lifeasking 20_pearls cor...\n",
       "24779    youve gone and broke the wrong hea baby and dr...\n",
       "24780    young buck wanna eat dat nigguh like aint fuck...\n",
       "24781                youu got wild bitches tellin you lies\n",
       "24782    ruffled  ntac eileen dahlia  beautiful color c...\n",
       "Name: tweet, Length: 24783, dtype: object"
      ]
     },
     "execution_count": 16,
     "metadata": {},
     "output_type": "execute_result"
    }
   ],
   "source": [
    "# remove the words rt and :\n",
    "data_processed['tweet'] = data_processed['tweet'].apply(lambda x:re.sub(r'rt', '', x))\n",
    "data_processed['tweet'] = data_processed['tweet'].apply(lambda x:re.sub(r':', '', x))\n",
    "data_processed['tweet']"
   ]
  },
  {
   "cell_type": "code",
   "execution_count": 17,
   "metadata": {},
   "outputs": [
    {
     "data": {
      "text/plain": [
       "bitch      8120\n",
       "the        7168\n",
       "you        6075\n",
       "to         5332\n",
       "and        3950\n",
       "my         3576\n",
       "that       3515\n",
       "in         3050\n",
       "bitches    3045\n",
       "is         2909\n",
       "dtype: int64"
      ]
     },
     "execution_count": 17,
     "metadata": {},
     "output_type": "execute_result"
    }
   ],
   "source": [
    "# show the most common words\n",
    "freq = pd.Series(' '.join(data_processed['tweet']).split()).value_counts()[:10]\n",
    "freq"
   ]
  },
  {
   "cell_type": "markdown",
   "metadata": {},
   "source": [
    "Looking at the most common words the list only displays words however there are still special characters in the data which will interfere with the analysis, so we can remove those. "
   ]
  },
  {
   "cell_type": "code",
   "execution_count": 18,
   "metadata": {},
   "outputs": [
    {
     "name": "stderr",
     "output_type": "stream",
     "text": [
      "/var/folders/22/vpq71tdd6t7d2hvqqzjsv3vr0000gn/T/ipykernel_1373/4181547221.py:2: SettingWithCopyWarning: \n",
      "A value is trying to be set on a copy of a slice from a DataFrame.\n",
      "Try using .loc[row_indexer,col_indexer] = value instead\n",
      "\n",
      "See the caveats in the documentation: https://pandas.pydata.org/pandas-docs/stable/user_guide/indexing.html#returning-a-view-versus-a-copy\n",
      "  data_processed['tweet'] = data_processed['tweet'].apply(lambda x:re.sub(r'[^a-zA-Z\\s]', '', x))\n"
     ]
    },
    {
     "data": {
      "text/plain": [
       "0          mayasolovely as woman you shouldnt complain ...\n",
       "1          mleew boy dats coldtyga dwn bad for cuffin d...\n",
       "2          urkindofbrand dawg  sbabylife you ever fuck ...\n",
       "3                cganderson vivabased she look like tranny\n",
       "4          shenikarobes the shit you hear about me migh...\n",
       "                               ...                        \n",
       "24778    yous muthafin lie lifeasking pearls coreyemanu...\n",
       "24779    youve gone and broke the wrong hea baby and dr...\n",
       "24780    young buck wanna eat dat nigguh like aint fuck...\n",
       "24781                youu got wild bitches tellin you lies\n",
       "24782    ruffled  ntac eileen dahlia  beautiful color c...\n",
       "Name: tweet, Length: 24783, dtype: object"
      ]
     },
     "execution_count": 18,
     "metadata": {},
     "output_type": "execute_result"
    }
   ],
   "source": [
    "# remove special and numeric characters\n",
    "data_processed['tweet'] = data_processed['tweet'].apply(lambda x:re.sub(r'[^a-zA-Z\\s]', '', x))\n",
    "data_processed['tweet']"
   ]
  },
  {
   "cell_type": "code",
   "execution_count": 19,
   "metadata": {},
   "outputs": [
    {
     "name": "stderr",
     "output_type": "stream",
     "text": [
      "/var/folders/22/vpq71tdd6t7d2hvqqzjsv3vr0000gn/T/ipykernel_1373/689008908.py:2: SettingWithCopyWarning: \n",
      "A value is trying to be set on a copy of a slice from a DataFrame.\n",
      "Try using .loc[row_indexer,col_indexer] = value instead\n",
      "\n",
      "See the caveats in the documentation: https://pandas.pydata.org/pandas-docs/stable/user_guide/indexing.html#returning-a-view-versus-a-copy\n",
      "  data_processed['tweet'] = data_processed['tweet'].apply(lambda x:re.sub(r'\\s+', ' ', x))\n"
     ]
    },
    {
     "data": {
      "text/plain": [
       "0         mayasolovely as woman you shouldnt complain a...\n",
       "1         mleew boy dats coldtyga dwn bad for cuffin da...\n",
       "2         urkindofbrand dawg sbabylife you ever fuck bi...\n",
       "3                cganderson vivabased she look like tranny\n",
       "4         shenikarobes the shit you hear about me might...\n",
       "                               ...                        \n",
       "24778    yous muthafin lie lifeasking pearls coreyemanu...\n",
       "24779    youve gone and broke the wrong hea baby and dr...\n",
       "24780    young buck wanna eat dat nigguh like aint fuck...\n",
       "24781                youu got wild bitches tellin you lies\n",
       "24782    ruffled ntac eileen dahlia beautiful color com...\n",
       "Name: tweet, Length: 24783, dtype: object"
      ]
     },
     "execution_count": 19,
     "metadata": {},
     "output_type": "execute_result"
    }
   ],
   "source": [
    "# remove any double spaces\n",
    "data_processed['tweet'] = data_processed['tweet'].apply(lambda x:re.sub(r'\\s+', ' ', x))\n",
    "data_processed['tweet']"
   ]
  },
  {
   "cell_type": "code",
   "execution_count": 20,
   "metadata": {},
   "outputs": [
    {
     "name": "stderr",
     "output_type": "stream",
     "text": [
      "[nltk_data] Downloading package stopwords to /Users/ceyda/nltk_data...\n",
      "[nltk_data]   Package stopwords is already up-to-date!\n"
     ]
    },
    {
     "data": {
      "text/plain": [
       "True"
      ]
     },
     "execution_count": 20,
     "metadata": {},
     "output_type": "execute_result"
    }
   ],
   "source": [
    "import nltk\n",
    "from nltk.corpus import stopwords\n",
    "nltk.download('stopwords')"
   ]
  },
  {
   "cell_type": "markdown",
   "metadata": {},
   "source": [
    "Additionally stopwords can be removed to only display keywords which may be curcial in identifying hate speech, offensive langauge tweets in datasets."
   ]
  },
  {
   "cell_type": "code",
   "execution_count": 21,
   "metadata": {},
   "outputs": [
    {
     "name": "stderr",
     "output_type": "stream",
     "text": [
      "/var/folders/22/vpq71tdd6t7d2hvqqzjsv3vr0000gn/T/ipykernel_1373/3851837317.py:3: SettingWithCopyWarning: \n",
      "A value is trying to be set on a copy of a slice from a DataFrame.\n",
      "Try using .loc[row_indexer,col_indexer] = value instead\n",
      "\n",
      "See the caveats in the documentation: https://pandas.pydata.org/pandas-docs/stable/user_guide/indexing.html#returning-a-view-versus-a-copy\n",
      "  data_processed['tweet'] = data_processed['tweet'].apply(lambda x: \" \".join(x for x in x.split() if x not in stop))\n"
     ]
    },
    {
     "data": {
      "text/plain": [
       "0        mayasolovely woman shouldnt complain cleaning ...\n",
       "1        mleew boy dats coldtyga dwn bad cuffin dat hoe...\n",
       "2        urkindofbrand dawg sbabylife ever fuck bitch s...\n",
       "3                    cganderson vivabased look like tranny\n",
       "4        shenikarobes shit hear might true might faker ...\n",
       "                               ...                        \n",
       "24778    yous muthafin lie lifeasking pearls coreyemanu...\n",
       "24779    youve gone broke wrong hea baby drove redneck ...\n",
       "24780    young buck wanna eat dat nigguh like aint fuck...\n",
       "24781                    youu got wild bitches tellin lies\n",
       "24782    ruffled ntac eileen dahlia beautiful color com...\n",
       "Name: tweet, Length: 24783, dtype: object"
      ]
     },
     "execution_count": 21,
     "metadata": {},
     "output_type": "execute_result"
    }
   ],
   "source": [
    "# remove stopwords\n",
    "stop = stopwords.words('english')\n",
    "data_processed['tweet'] = data_processed['tweet'].apply(lambda x: \" \".join(x for x in x.split() if x not in stop))\n",
    "data_processed['tweet']\n"
   ]
  },
  {
   "cell_type": "markdown",
   "metadata": {},
   "source": [
    "## Cleaning twitterhate.csv As A Test set \n",
    "\n",
    "The above process can now be applied on the twitterhate.csv file which can be used as the test set which will assist in anomly detction for misinformation/hate speech. "
   ]
  },
  {
   "cell_type": "code",
   "execution_count": 22,
   "metadata": {},
   "outputs": [
    {
     "name": "stdout",
     "output_type": "stream",
     "text": [
      "   id  label                                              tweet\n",
      "0   1      0   @user when a father is dysfunctional and is s...\n",
      "1   2      0  @user @user thanks for #lyft credit i can't us...\n",
      "2   3      0                                bihday your majesty\n",
      "3   4      0  #model   i love u take with u all the time in ...\n",
      "4   5      0             factsguide: society now    #motivation\n",
      "Index(['id', 'label', 'tweet'], dtype='object')\n"
     ]
    }
   ],
   "source": [
    "# Load the TwitterHate dataset\n",
    "twitter_hate_data = pd.read_csv('TwitterHate.csv')\n",
    "\n",
    "# Display the first few rows of the TwitterHate dataset to inspect its structure\n",
    "print(twitter_hate_data.head())\n",
    "\n",
    "# Display the column names to check what keys are available for merging\n",
    "print(twitter_hate_data.columns)\n"
   ]
  },
  {
   "cell_type": "markdown",
   "metadata": {},
   "source": [
    "## Loading The Dataset \n",
    "\n",
    "- The twitterhate.csv file is loaded into the variable name twitter_hate_data. This is then used to condut initial analysis on the data.\n",
    "- The variables on this csv file are id, label and tweet. \n",
    "\n",
    "Below is a list explaining each variable \n",
    "- label: CLasifies the data as either 0 or 1, 0: Non-hate, 1:Hate speech (Integer) </br>\n",
    "- tweet: The tweet which the classficiations are being made on (String) </br>\n",
    "\n",
    "NOTE: The id column looks to be an index column."
   ]
  },
  {
   "cell_type": "code",
   "execution_count": 23,
   "metadata": {},
   "outputs": [
    {
     "name": "stdout",
     "output_type": "stream",
     "text": [
      "\n",
      "Twitter Hate Data first 10 rows:\n",
      "   id  label                                              tweet\n",
      "0   1      0   @user when a father is dysfunctional and is s...\n",
      "1   2      0  @user @user thanks for #lyft credit i can't us...\n",
      "2   3      0                                bihday your majesty\n",
      "3   4      0  #model   i love u take with u all the time in ...\n",
      "4   5      0             factsguide: society now    #motivation\n",
      "5   6      0  [2/2] huge fan fare and big talking before the...\n",
      "6   7      0   @user camping tomorrow @user @user @user @use...\n",
      "7   8      0  the next school year is the year for exams.ð...\n",
      "8   9      0  we won!!! love the land!!! #allin #cavs #champ...\n",
      "9  10      0   @user @user welcome here !  i'm   it's so #gr...\n",
      "\n",
      "Twitter Hate Data Info:\n",
      "<class 'pandas.core.frame.DataFrame'>\n",
      "RangeIndex: 31962 entries, 0 to 31961\n",
      "Data columns (total 3 columns):\n",
      " #   Column  Non-Null Count  Dtype \n",
      "---  ------  --------------  ----- \n",
      " 0   id      31962 non-null  int64 \n",
      " 1   label   31962 non-null  int64 \n",
      " 2   tweet   31962 non-null  object\n",
      "dtypes: int64(2), object(1)\n",
      "memory usage: 749.2+ KB\n",
      "None\n"
     ]
    }
   ],
   "source": [
    "# Display the first few rows of the 2nd dataset\n",
    "print(\"\\nTwitter Hate Data first 10 rows:\")\n",
    "print(twitter_hate_data.head(10))\n",
    "\n",
    "# Check the structure and column names\n",
    "print(\"\\nTwitter Hate Data Info:\")\n",
    "print(twitter_hate_data.info())\n",
    "\n"
   ]
  },
  {
   "cell_type": "code",
   "execution_count": 24,
   "metadata": {
    "scrolled": true
   },
   "outputs": [
    {
     "name": "stdout",
     "output_type": "stream",
     "text": [
      "\n",
      "Twitter Hate Data Description:\n"
     ]
    },
    {
     "data": {
      "text/html": [
       "<div>\n",
       "<style scoped>\n",
       "    .dataframe tbody tr th:only-of-type {\n",
       "        vertical-align: middle;\n",
       "    }\n",
       "\n",
       "    .dataframe tbody tr th {\n",
       "        vertical-align: top;\n",
       "    }\n",
       "\n",
       "    .dataframe thead th {\n",
       "        text-align: right;\n",
       "    }\n",
       "</style>\n",
       "<table border=\"1\" class=\"dataframe\">\n",
       "  <thead>\n",
       "    <tr style=\"text-align: right;\">\n",
       "      <th></th>\n",
       "      <th>id</th>\n",
       "      <th>label</th>\n",
       "    </tr>\n",
       "  </thead>\n",
       "  <tbody>\n",
       "    <tr>\n",
       "      <th>count</th>\n",
       "      <td>31962.000000</td>\n",
       "      <td>31962.000000</td>\n",
       "    </tr>\n",
       "    <tr>\n",
       "      <th>mean</th>\n",
       "      <td>15981.500000</td>\n",
       "      <td>0.070146</td>\n",
       "    </tr>\n",
       "    <tr>\n",
       "      <th>std</th>\n",
       "      <td>9226.778988</td>\n",
       "      <td>0.255397</td>\n",
       "    </tr>\n",
       "    <tr>\n",
       "      <th>min</th>\n",
       "      <td>1.000000</td>\n",
       "      <td>0.000000</td>\n",
       "    </tr>\n",
       "    <tr>\n",
       "      <th>25%</th>\n",
       "      <td>7991.250000</td>\n",
       "      <td>0.000000</td>\n",
       "    </tr>\n",
       "    <tr>\n",
       "      <th>50%</th>\n",
       "      <td>15981.500000</td>\n",
       "      <td>0.000000</td>\n",
       "    </tr>\n",
       "    <tr>\n",
       "      <th>75%</th>\n",
       "      <td>23971.750000</td>\n",
       "      <td>0.000000</td>\n",
       "    </tr>\n",
       "    <tr>\n",
       "      <th>max</th>\n",
       "      <td>31962.000000</td>\n",
       "      <td>1.000000</td>\n",
       "    </tr>\n",
       "  </tbody>\n",
       "</table>\n",
       "</div>"
      ],
      "text/plain": [
       "                 id         label\n",
       "count  31962.000000  31962.000000\n",
       "mean   15981.500000      0.070146\n",
       "std     9226.778988      0.255397\n",
       "min        1.000000      0.000000\n",
       "25%     7991.250000      0.000000\n",
       "50%    15981.500000      0.000000\n",
       "75%    23971.750000      0.000000\n",
       "max    31962.000000      1.000000"
      ]
     },
     "execution_count": 24,
     "metadata": {},
     "output_type": "execute_result"
    }
   ],
   "source": [
    "print(\"\\nTwitter Hate Data Description:\")\n",
    "twitter_hate_data.describe()"
   ]
  },
  {
   "cell_type": "markdown",
   "metadata": {},
   "source": [
    "Looking at the statistical data analysis (ignoring the id column) it can be said that:\n",
    "\n",
    "- Label: The mean of 0.07 indictaes that 7% of the tweets are classfied as hate speech. A standard deviation of 0.26 can reflect most of the values in the coloumn being close to the mean. At least 75% of the data is not classfied as hate speech as the 25th, 50th and 75th percentile are all 0. "
   ]
  },
  {
   "cell_type": "code",
   "execution_count": 25,
   "metadata": {},
   "outputs": [
    {
     "name": "stdout",
     "output_type": "stream",
     "text": [
      "\n",
      "Missing values in Twitter Hate Data:\n",
      "id       0\n",
      "label    0\n",
      "tweet    0\n",
      "dtype: int64\n",
      "\n",
      "Duplicated values in Twitter Hate Data:\n",
      "0\n",
      "\n",
      "N/a values in Twitter Hate Data:\n",
      "id       0\n",
      "label    0\n",
      "tweet    0\n",
      "dtype: int64\n",
      "\n",
      "Unique values in 'label' column (Twitter Hate Data):\n",
      "[0 1]\n",
      "\n",
      "Value counts for 'label' in Twitter Hate Data:\n",
      "0    29720\n",
      "1     2242\n",
      "Name: label, dtype: int64\n"
     ]
    }
   ],
   "source": [
    "# Check for missing values\n",
    "print(\"\\nMissing values in Twitter Hate Data:\")\n",
    "print(twitter_hate_data.isnull().sum())\n",
    "\n",
    "#Check for duplicated values \n",
    "print(\"\\nDuplicated values in Twitter Hate Data:\")\n",
    "print(twitter_hate_data.duplicated().sum())\n",
    "\n",
    "#Check for nas in the dataset\n",
    "print(\"\\nN/a values in Twitter Hate Data:\")\n",
    "print(twitter_hate_data.isna().sum())\n",
    "\n",
    "# Get unique values in categorical columns (e.g., 'class' and 'label')\n",
    "print(\"\\nUnique values in 'label' column (Twitter Hate Data):\")\n",
    "print(twitter_hate_data['label'].unique())\n",
    "\n",
    "# Value counts for each label\n",
    "print(\"\\nValue counts for 'label' in Twitter Hate Data:\")\n",
    "print(twitter_hate_data['label'].value_counts())\n"
   ]
  },
  {
   "cell_type": "markdown",
   "metadata": {},
   "source": [
    "This dataset has no missing values, only 0 or 1 values in the label column and a total of 31,962 tweets. \n",
    "Additionally the dataset has no duplicated values or n/a values."
   ]
  },
  {
   "cell_type": "markdown",
   "metadata": {},
   "source": [
    "## Data Processing PART 2\n",
    "\n",
    "- The data preprocessing stage is important to turn the raw data (twitterhate.csv) into clean data that can then be used for training and testing. "
   ]
  },
  {
   "cell_type": "markdown",
   "metadata": {},
   "source": [
    "The next steps that must be taken after the intial data analysis is data preprocessing. Here the dataset is taken and the following elements are removed from the dataset: \n",
    "\n",
    "- urls\n",
    "- usernames (especially for anonymity)\n",
    "- emojis\n",
    "- punctuation\n",
    "- single characters + double spaces\n",
    "\n",
    "The following are processed to ensure clarity in the data:\n",
    "\n",
    "- Turning everything lowercase"
   ]
  },
  {
   "cell_type": "code",
   "execution_count": 26,
   "metadata": {},
   "outputs": [
    {
     "name": "stdout",
     "output_type": "stream",
     "text": [
      "Most common words in Twitter Hate Data:\n",
      " user    17495\n",
      "the     10192\n",
      "to       9843\n",
      "you      5456\n",
      "and      4895\n",
      "in       4653\n",
      "for      4496\n",
      "is       4185\n",
      "of       4178\n",
      "my       3691\n",
      "dtype: int64\n"
     ]
    }
   ],
   "source": [
    "# Data preprocessing for the 'tweet' column (Twitter Hate Data)\n",
    "twitter_hate_data['tweet'] = twitter_hate_data['tweet'].apply(lambda x: re.sub(r'https?://\\S+', '', x))  # remove URLs\n",
    "twitter_hate_data['tweet'] = twitter_hate_data['tweet'].apply(lambda x: \" \".join(x.lower() for x in x.split()))  # lowercase\n",
    "twitter_hate_data['tweet'] = twitter_hate_data['tweet'].apply(lambda x: re.sub(r'[^\\w\\s]', '', x))  # remove punctuation\n",
    "twitter_hate_data['tweet'] = twitter_hate_data['tweet'].apply(lambda x: re.sub(r'\\s+[a-zA-Z]\\s+', ' ', x))  # remove single characters\n",
    "twitter_hate_data['tweet'] = twitter_hate_data['tweet'].apply(lambda x: re.sub(r'@\\w+', '', x))  # remove usernames\n",
    "twitter_hate_data['tweet'] = twitter_hate_data['tweet'].apply(lambda x: x.encode('ascii', 'ignore').decode('ascii'))  # remove emojis\n",
    "twitter_hate_data['tweet'] = twitter_hate_data['tweet'].apply(lambda x:re.sub(r'\\s+', ' ', x))  # remove double spaces\n",
    "\n",
    "# Most common words in Twitter Hate Data\n",
    "freq_twitter_hate = pd.Series(' '.join(twitter_hate_data['tweet']).split()).value_counts()[:10]\n",
    "print(\"Most common words in Twitter Hate Data:\\n\", freq_twitter_hate)"
   ]
  },
  {
   "cell_type": "markdown",
   "metadata": {},
   "source": [
    "After removing emojis, usernames/handles, single charters, double spaces, punctuations, lowercases and URLs, the most common words are generated to understand what is the most common words amongst tweets. "
   ]
  },
  {
   "cell_type": "code",
   "execution_count": 27,
   "metadata": {},
   "outputs": [
    {
     "name": "stdout",
     "output_type": "stream",
     "text": [
      "0    user father dysfunctional selfish drags kids d...\n",
      "1    user user thanks lyft credit cant use cause do...\n",
      "2                                       bihday majesty\n",
      "3                              model love take time ur\n",
      "4                        factsguide society motivation\n",
      "Name: tweet, dtype: object\n"
     ]
    }
   ],
   "source": [
    "# Remove stopwords\n",
    "twitter_hate_data['tweet'] = twitter_hate_data['tweet'].apply(lambda x: \" \".join(x for x in x.split() if x not in stop))\n",
    "# Display the cleaned dataset for verification\n",
    "print(twitter_hate_data['tweet'].head())"
   ]
  },
  {
   "cell_type": "markdown",
   "metadata": {},
   "source": [
    "Additionally stopwords can be removed to only display keywords which may be curcial in identifying hate speech, offensive langauge tweets in datasets."
   ]
  },
  {
   "cell_type": "code",
   "execution_count": 28,
   "metadata": {},
   "outputs": [
    {
     "name": "stdout",
     "output_type": "stream",
     "text": [
      "0    father dysfunctional selfish drags kids dysfun...\n",
      "1    thanks lyft credit cant use cause dont offer w...\n",
      "2                                       bihday majesty\n",
      "3                              model love take time ur\n",
      "4                        factsguide society motivation\n",
      "Name: tweet, dtype: object\n"
     ]
    }
   ],
   "source": [
    "# add an additional stopword 'user' to remove from twitter hate data\n",
    "stop.append('user')\n",
    "twitter_hate_data['tweet'] = twitter_hate_data['tweet'].apply(lambda x: \" \".join(x for x in x.split() if x not in stop))\n",
    "# Display the cleaned dataset for verification\n",
    "print(twitter_hate_data['tweet'].head())\n"
   ]
  },
  {
   "cell_type": "code",
   "execution_count": 29,
   "metadata": {},
   "outputs": [
    {
     "name": "stdout",
     "output_type": "stream",
     "text": [
      "Most common words in Twitter Hate Data:\n",
      " love     2725\n",
      "day      2253\n",
      "happy    1691\n",
      "amp      1601\n",
      "im       1156\n",
      "life     1126\n",
      "time     1126\n",
      "like     1052\n",
      "today    1004\n",
      "new       988\n",
      "dtype: int64\n",
      "          id  label                                              tweet\n",
      "6          7      0                             camping tomorrow danny\n",
      "8          9      0  love land allin cavs champions cleveland cleve...\n",
      "22        23      0  product day happy man wine tool whos weekend t...\n",
      "64        65      0  wife adore miss poland show surgery name bridg...\n",
      "73        74      0  ferrari sake championship gp clearly turning p...\n",
      "...      ...    ...                                                ...\n",
      "31867  31868      0                     want cereal amp aint tryna get\n",
      "31881  31882      0  please like amp share agree dna dnaquotes quot...\n",
      "31933  31934      1  judd amp homophobic freemilo milo freemilo mil...\n",
      "31935  31936      0  ugh im trying enjoy happy hour drink amp talks...\n",
      "31942  31943      0            week flying humpday wednesday kamp ucsd\n",
      "\n",
      "[1907 rows x 3 columns]\n"
     ]
    }
   ],
   "source": [
    "# check frequent words\n",
    "freq_twitter_hate = pd.Series(' '.join(twitter_hate_data['tweet']).split()).value_counts()[:10]\n",
    "# check the most common words\n",
    "print(\"Most common words in Twitter Hate Data:\\n\", freq_twitter_hate)\n",
    "# filter rows where the word 'amp' is present in the tweet column and like see if it is 1 word or part of another word\n",
    "print(twitter_hate_data[twitter_hate_data['tweet'].str.contains('amp')])\n"
   ]
  },
  {
   "cell_type": "code",
   "execution_count": 30,
   "metadata": {},
   "outputs": [
    {
     "name": "stdout",
     "output_type": "stream",
     "text": [
      "22                           product day happy man wine tool whos weekend time open amp drink\n",
      "64                       wife adore miss poland show surgery name bridget amp shes everything\n",
      "82                                       altright uses amp insecurity lure men whitesupremacy\n",
      "111    im interested linguistics doesnt address race amp racism power raciolinguistics brings\n",
      "163                                                                  soed nut amp bolts bloke\n",
      "Name: tweet, dtype: object\n",
      "Most common words in Twitter Hate Data:\n",
      " love        2725\n",
      "day         2253\n",
      "happy       1691\n",
      "im          1156\n",
      "life        1126\n",
      "time        1126\n",
      "like        1052\n",
      "today       1004\n",
      "new          988\n",
      "positive     934\n",
      "dtype: int64\n"
     ]
    }
   ],
   "source": [
    "# show 5 rows where the word 'amp' is present in the tweet column and display the tweet column, 1 easy way to check if 'amp' is a separate word or part of another word\n",
    "# is by regex if there is a space before and after the word 'amp' then it is a separate word\n",
    "# Adjust pandas settings to display full content of the cell\n",
    "pd.set_option('display.max_colwidth', None)\n",
    "print(twitter_hate_data[twitter_hate_data['tweet'].str.contains(r'\\samp\\s')]['tweet'].head())\n",
    "   \n",
    "\n",
    "# add an additional stopword 'amp' to remove from twitter hate data\n",
    "stop.append('amp')\n",
    "twitter_hate_data['tweet'] = twitter_hate_data['tweet'].apply(lambda x: \" \".join(x for x in x.split() if x not in stop))\n",
    "# check frequent words\n",
    "freq_twitter_hate = pd.Series(' '.join(twitter_hate_data['tweet']).split()).value_counts()[:10]\n",
    "# check the most common words\n",
    "print(\"Most common words in Twitter Hate Data:\\n\", freq_twitter_hate)\n"
   ]
  },
  {
   "cell_type": "markdown",
   "metadata": {},
   "source": [
    "After examining the most common words list for twitterhate.csv the word 'amp' was the fourth most common word amongst 31,962 tweets. To ensure that amp wasnt apart of another word which may disrupt the flow of the tweet and thus removing crucial information and signifcance the first five rows were analised of where amp appears. This ensured that amp was in fact a word on its own and not apart of another word. This word is added to the stopword list which allows space for another more common word that carries more meaning and will assist in the testing and training of this project. "
   ]
  },
  {
   "cell_type": "code",
   "execution_count": 31,
   "metadata": {},
   "outputs": [
    {
     "name": "stdout",
     "output_type": "stream",
     "text": [
      "1    19190\n",
      "2     4163\n",
      "0     1430\n",
      "Name: class, dtype: int64\n",
      "0    29720\n",
      "1     2242\n",
      "Name: label, dtype: int64\n"
     ]
    }
   ],
   "source": [
    "# show the classes for both datasets\n",
    "print(data_processed['class'].value_counts())\n",
    "print(twitter_hate_data['label'].value_counts())\n"
   ]
  },
  {
   "cell_type": "markdown",
   "metadata": {},
   "source": [
    "for data processed, 1 is offensive, 2 is hate and 0 is normal\n",
    "for twitter hate, 0 is normal and 1 is hate "
   ]
  },
  {
   "cell_type": "markdown",
   "metadata": {},
   "source": [
    "### ISSUE 1: Class imbalancement\n",
    "After doing a LTSM model on the preprocessed data it was quite obvious that the class imbalancement pointed out earlier, had caused overfitting results of the model as it was correctly predicting values 0 and 2 as there were a larger amount of offensive language in the dataset, as opposed to hate speech and neither. \n",
    "\n",
    "- In order to solve this issue the team decieded that the best solution is artificially balancing the dataset which can be seen in the code segements below. "
   ]
  },
  {
   "cell_type": "code",
   "execution_count": 32,
   "metadata": {},
   "outputs": [
    {
     "name": "stderr",
     "output_type": "stream",
     "text": [
      "/var/folders/22/vpq71tdd6t7d2hvqqzjsv3vr0000gn/T/ipykernel_1373/3679183048.py:2: SettingWithCopyWarning: \n",
      "A value is trying to be set on a copy of a slice from a DataFrame\n",
      "\n",
      "See the caveats in the documentation: https://pandas.pydata.org/pandas-docs/stable/user_guide/indexing.html#returning-a-view-versus-a-copy\n",
      "  data_processed.rename(columns={'class': 'label'}, inplace=True)\n"
     ]
    }
   ],
   "source": [
    "# rename the column 'class' to 'label' in the first dataset\n",
    "data_processed.rename(columns={'class': 'label'}, inplace=True)\n"
   ]
  },
  {
   "cell_type": "code",
   "execution_count": 33,
   "metadata": {},
   "outputs": [
    {
     "name": "stdout",
     "output_type": "stream",
     "text": [
      "Index(['tweet', 'label'], dtype='object')\n"
     ]
    }
   ],
   "source": [
    "# check the column names to confirm the change\n",
    "print(data_processed.columns)"
   ]
  },
  {
   "cell_type": "markdown",
   "metadata": {},
   "source": [
    "All the offensive langauge data is taken and replaced with hate speech to match the classes in the first dataset"
   ]
  },
  {
   "cell_type": "code",
   "execution_count": 34,
   "metadata": {},
   "outputs": [
    {
     "name": "stdout",
     "output_type": "stream",
     "text": [
      "[0 2]\n"
     ]
    }
   ],
   "source": [
    "# replace all the \"1\" values in twitter hate data with 2 to match the classes in the first dataset\n",
    "twitter_hate_data['label'] = twitter_hate_data['label'].replace(1, 2)\n",
    "# check the unique values in the 'label' column\n",
    "print(twitter_hate_data['label'].unique())"
   ]
  },
  {
   "cell_type": "code",
   "execution_count": 35,
   "metadata": {},
   "outputs": [],
   "source": [
    "# combine the two datasets to balance the classes on the label column\n",
    "combined_data = pd.concat([data_processed, twitter_hate_data], axis=0)"
   ]
  },
  {
   "cell_type": "code",
   "execution_count": 36,
   "metadata": {},
   "outputs": [
    {
     "name": "stdout",
     "output_type": "stream",
     "text": [
      "(56745, 3)\n",
      "0    31150\n",
      "1    19190\n",
      "2     6405\n",
      "Name: label, dtype: int64\n"
     ]
    }
   ],
   "source": [
    "# check the shape of the combined dataset\n",
    "print(combined_data.shape)\n",
    "# check the classes in the combined dataset\n",
    "print(combined_data['label'].value_counts())\n"
   ]
  },
  {
   "cell_type": "markdown",
   "metadata": {},
   "source": [
    "To artificially balance the classes the count of the least common class is taken and the data is sampled in order to get the same number of samples for each class in the dataset which it can be see for all three classes it has a count of 6405. "
   ]
  },
  {
   "cell_type": "code",
   "execution_count": 37,
   "metadata": {},
   "outputs": [
    {
     "name": "stdout",
     "output_type": "stream",
     "text": [
      "0    6405\n",
      "1    6405\n",
      "2    6405\n",
      "Name: label, dtype: int64\n"
     ]
    }
   ],
   "source": [
    "# artificially balance the classes\n",
    "# get the count of the least common class\n",
    "min_class = combined_data['label'].value_counts().min()\n",
    "# sample the data to get the same number of samples for each class\n",
    "combined_data = combined_data.groupby('label').apply(lambda x: x.sample(min_class)).reset_index(drop=True)\n",
    "# check the classes in the combined dataset\n",
    "print(combined_data['label'].value_counts())\n"
   ]
  },
  {
   "cell_type": "markdown",
   "metadata": {},
   "source": [
    "# Model Building"
   ]
  },
  {
   "cell_type": "markdown",
   "metadata": {},
   "source": [
    "After cleaning and pre processing the data above it is time to start creating appropriate models by training and testing data. \n",
    "\n",
    "Librarys from tenserflow and keras are loaded to utilise tokenisation, embedding, LSTM and more!"
   ]
  },
  {
   "cell_type": "code",
   "execution_count": 38,
   "metadata": {},
   "outputs": [],
   "source": [
    "from tensorflow.keras.preprocessing.text import Tokenizer\n",
    "from tensorflow.keras.preprocessing.sequence import pad_sequences\n",
    "from tensorflow.keras.models import Sequential\n",
    "from tensorflow.keras.layers import Embedding, LSTM, Dense, Dropout\n",
    "\n",
    "from keras.utils import to_categorical\n",
    "from keras import backend as K"
   ]
  },
  {
   "cell_type": "markdown",
   "metadata": {},
   "source": [
    "The first step is to remove leading and trailing whitespace from each string in the preprocessed dataset 'tweet'. AFter strippoing it will convert each string into a boolean value. "
   ]
  },
  {
   "cell_type": "code",
   "execution_count": 39,
   "metadata": {},
   "outputs": [],
   "source": [
    "data_processed = combined_data[combined_data['tweet'].str.strip().astype(bool)]"
   ]
  },
  {
   "cell_type": "markdown",
   "metadata": {},
   "source": [
    "The data is taken and is split into training and testing sets to be used for creating the model"
   ]
  },
  {
   "cell_type": "code",
   "execution_count": 40,
   "metadata": {},
   "outputs": [],
   "source": [
    "# splitting the data into training and testing sets\n",
    "X_train, X_test, y_train, y_test = train_test_split(data_processed['tweet'], data_processed['label'], test_size=0.2, random_state=42)"
   ]
  },
  {
   "cell_type": "markdown",
   "metadata": {},
   "source": [
    "The data (tweets) gets tokenized in this step. \n",
    "- This done by converting the tweets into sequences of integers where each word is mapped to a unique token.\n",
    "- The tokenized sequences are fed into an embedding layer in a neural network\n",
    "- The vocabulary size, is computed to specify how many unique words are present in the dataset. \n",
    "\n",
    "The first five tweets are displayed after tokenization "
   ]
  },
  {
   "cell_type": "code",
   "execution_count": 41,
   "metadata": {},
   "outputs": [],
   "source": [
    "# tokenizing the tweets\n",
    "tokenizer = Tokenizer()\n",
    "tokenizer.fit_on_texts(data_processed['tweet']) # fit tokenizer on all tweets\n",
    "X_train = tokenizer.texts_to_sequences(X_train)\n",
    "X_test = tokenizer.texts_to_sequences(X_test)\n",
    "\n",
    "# vocabulary size for embedding layer\n",
    "vocab_size = len(tokenizer.word_index) + 1\n"
   ]
  },
  {
   "cell_type": "code",
   "execution_count": 42,
   "metadata": {},
   "outputs": [
    {
     "name": "stdout",
     "output_type": "stream",
     "text": [
      "[[7411, 189, 689, 189, 652, 338, 29], [5120, 1, 53, 377, 679], [11, 2119], [13, 3240, 1202, 710, 135, 1811, 947, 119, 109, 4432, 842, 1135, 11345], [13264, 509, 1877, 13265, 515, 13266, 1877]]\n"
     ]
    }
   ],
   "source": [
    "# show the first 5 tweets after tokenization\n",
    "print(X_train[:5])\n"
   ]
  },
  {
   "cell_type": "markdown",
   "metadata": {},
   "source": [
    "To ensure that both test and train set of tokenized tweets have a uniform length it is uses padding. \n",
    "- This ensures compatibility with the models input requirements\n",
    "\n",
    "Additionally the First five tweets are shown after adding the padding. "
   ]
  },
  {
   "cell_type": "code",
   "execution_count": 43,
   "metadata": {},
   "outputs": [],
   "source": [
    "# padding to ensure uniform input size\n",
    "maxlen = max(len(seq) for seq in X_train)\n",
    "\n",
    "X_train = pad_sequences(X_train, maxlen = maxlen)\n",
    "X_test = pad_sequences(X_test, maxlen = maxlen)"
   ]
  },
  {
   "cell_type": "code",
   "execution_count": 44,
   "metadata": {},
   "outputs": [
    {
     "name": "stdout",
     "output_type": "stream",
     "text": [
      "[[    0     0     0     0     0     0     0     0     0     0     0     0\n",
      "      0     0     0     0     0     0     0     0     0  7411   189   689\n",
      "    189   652   338    29]\n",
      " [    0     0     0     0     0     0     0     0     0     0     0     0\n",
      "      0     0     0     0     0     0     0     0     0     0     0  5120\n",
      "      1    53   377   679]\n",
      " [    0     0     0     0     0     0     0     0     0     0     0     0\n",
      "      0     0     0     0     0     0     0     0     0     0     0     0\n",
      "      0     0    11  2119]\n",
      " [    0     0     0     0     0     0     0     0     0     0     0     0\n",
      "      0     0     0    13  3240  1202   710   135  1811   947   119   109\n",
      "   4432   842  1135 11345]\n",
      " [    0     0     0     0     0     0     0     0     0     0     0     0\n",
      "      0     0     0     0     0     0     0     0     0 13264   509  1877\n",
      "  13265   515 13266  1877]]\n"
     ]
    }
   ],
   "source": [
    "print(X_train[:5])"
   ]
  },
  {
   "cell_type": "markdown",
   "metadata": {},
   "source": [
    "The categorical labels, y_train and y_test, to one hot encoded vetcors. \n",
    "This ensures that each class is represented as a binary vector where only one position is 1, and the others are 0. This makes the labels compatible with the output of the neural network. "
   ]
  },
  {
   "cell_type": "code",
   "execution_count": 45,
   "metadata": {},
   "outputs": [],
   "source": [
    "# create hot encoded labels\n",
    "y_train = to_categorical(y_train)\n",
    "y_test = to_categorical(y_test)"
   ]
  },
  {
   "cell_type": "markdown",
   "metadata": {},
   "source": [
    "Looking at the training and testing sets there are: \n",
    "\n",
    "- 19,824 samples in the training set \n",
    "- 4,957 samples in the test set \n",
    "- The tweets are badded to a uniform length of 27 tokens \n",
    "- The labels have been one hot encoded into 3 classes, indicating a multi class classfication problem with possible outcomes. \n",
    "\n",
    "This means that the model will take as input 27 length, padded tweets and predict one of 3 class; Neither, offensive and hatespeech. \n",
    "\n",
    "### NEW \n",
    "\n",
    "Looking at the training and testing sets there are: \n",
    "\n",
    "- 15,363 samples in the training set \n",
    "- 3, 841 samples in the test set \n",
    "- The tweets are badded to a uniform length of 27 tokens \n",
    "- The labels have been one hot encoded into 3 classes, indicating a multi class classfication problem with possible outcomes. \n",
    "\n",
    "This means that the model will take as input 27 length, padded tweets and predict one of 3 class; Neither, offensive and hatespeech. "
   ]
  },
  {
   "cell_type": "code",
   "execution_count": 46,
   "metadata": {},
   "outputs": [
    {
     "name": "stdout",
     "output_type": "stream",
     "text": [
      "(15368, 28) (3842, 28) (15368, 3) (3842, 3)\n"
     ]
    }
   ],
   "source": [
    "# look at the shape of the data\n",
    "print(X_train.shape, X_test.shape, y_train.shape, y_test.shape)\n"
   ]
  },
  {
   "cell_type": "code",
   "execution_count": 47,
   "metadata": {},
   "outputs": [
    {
     "name": "stdout",
     "output_type": "stream",
     "text": [
      "[]\n"
     ]
    }
   ],
   "source": [
    "print([len(seq) for seq in X_train if len(seq) == 0])"
   ]
  },
  {
   "cell_type": "code",
   "execution_count": 48,
   "metadata": {},
   "outputs": [],
   "source": [
    "# handle empty sequences\n",
    "X_train = X_train[~np.all(X_train == 0, axis=1)]\n",
    "y_train = y_train[~np.all(y_train == 0, axis=1)]\n",
    "\n",
    "X_test = X_test[~np.all(X_test == 0, axis=1)]\n",
    "y_test = y_test[~np.all(y_test == 0, axis=1)]\n",
    "\n"
   ]
  },
  {
   "cell_type": "code",
   "execution_count": 49,
   "metadata": {},
   "outputs": [
    {
     "name": "stdout",
     "output_type": "stream",
     "text": [
      "[]\n"
     ]
    }
   ],
   "source": [
    "print([len(seq) for seq in X_train if len(seq) == 0])"
   ]
  },
  {
   "cell_type": "code",
   "execution_count": 50,
   "metadata": {},
   "outputs": [
    {
     "name": "stdout",
     "output_type": "stream",
     "text": [
      "[[    0     0     0     0     0     0     0     0     0     0     0     0\n",
      "      0     0     0     0     0     0     0     0     0  7411   189   689\n",
      "    189   652   338    29]\n",
      " [    0     0     0     0     0     0     0     0     0     0     0     0\n",
      "      0     0     0     0     0     0     0     0     0     0     0  5120\n",
      "      1    53   377   679]\n",
      " [    0     0     0     0     0     0     0     0     0     0     0     0\n",
      "      0     0     0     0     0     0     0     0     0     0     0     0\n",
      "      0     0    11  2119]\n",
      " [    0     0     0     0     0     0     0     0     0     0     0     0\n",
      "      0     0     0    13  3240  1202   710   135  1811   947   119   109\n",
      "   4432   842  1135 11345]\n",
      " [    0     0     0     0     0     0     0     0     0     0     0     0\n",
      "      0     0     0     0     0     0     0     0     0 13264   509  1877\n",
      "  13265   515 13266  1877]]\n",
      "Number of sequences in X_train: 15368\n"
     ]
    }
   ],
   "source": [
    "print(X_train[:5])  # Print the first 5 sequences\n",
    "print(f\"Number of sequences in X_train: {len(X_train)}\")\n"
   ]
  },
  {
   "cell_type": "markdown",
   "metadata": {},
   "source": [
    "Metrics are defined into functions to help assess the efficiency of the model that will be created. These metrics include: \n",
    "- Recall \n",
    "- Precision \n",
    "- F1 score "
   ]
  },
  {
   "cell_type": "code",
   "execution_count": 51,
   "metadata": {},
   "outputs": [],
   "source": [
    "import tensorflow as tf\n",
    "from tensorflow.keras import backend as K\n",
    "\n",
    "# create metrics for recall, precision and f1 score\n",
    "def recall_m(y_true, y_pred):\n",
    "    true_positives = tf.reduce_sum(K.round(K.clip(y_true * y_pred, 0, 1)))\n",
    "    possible_positives = tf.reduce_sum(K.round(K.clip(y_true, 0, 1)))\n",
    "    recall = true_positives / (possible_positives + K.epsilon())\n",
    "    return recall\n",
    "\n",
    "def precision_m(y_true, y_pred):\n",
    "    true_positives = tf.reduce_sum(K.round(K.clip(y_true * y_pred, 0, 1)))\n",
    "    predicted_positives = tf.reduce_sum(K.round(K.clip(y_pred, 0, 1)))\n",
    "    precision = true_positives / (predicted_positives + K.epsilon())\n",
    "    return precision\n",
    "\n",
    "def f1_m(y_true, y_pred):\n",
    "    precision = precision_m(y_true, y_pred)\n",
    "    recall = recall_m(y_true, y_pred)\n",
    "    return 2 * (precision * recall) / (precision + recall + K.epsilon())\n",
    "\n",
    "# Ensure the metrics return a tensor\n",
    "precision_m = tf.keras.metrics.Precision()\n",
    "recall_m = tf.keras.metrics.Recall()\n",
    "f1_m = tf.keras.metrics.Mean(name='f1_score')\n",
    "\n",
    "def f1_score(y_true, y_pred):\n",
    "    p = precision_m(y_true, y_pred)\n",
    "    r = recall_m(y_true, y_pred)\n",
    "    return 2 * (p * r) / (p + r + K.epsilon())\n"
   ]
  },
  {
   "cell_type": "markdown",
   "metadata": {},
   "source": [
    "The intial (first) model is created using LSTM (long short term memory) neural network. This used to store data for future calculations. Additionally a density of 3 is used with softmax. The metrics used to analyise the efficiency of this model is accucarcy score, f1 score, precision and recall scores.\n",
    "\n",
    "To further elaborate on this mode the following can be said: \n",
    "\n",
    "- Classifies tweets into 3 categories using an embedding layer to convert the tokenized tweets into dense vectors.\n",
    "- An LTSM layer is used to capture sequential informate \n",
    "- A dense layer for multi class classification and outputs a probability distribution over 3 classes using softmax activation. \n",
    "\n",
    "#### NEW \n",
    "\n",
    "The additional layers to the new model after the artificial balancing \n",
    "\n",
    "- Input layer\n",
    "- Embedding layer \n",
    "- Multi head attention \n",
    "- Layer normalisation \n",
    "- GLobal average pooling "
   ]
  },
  {
   "cell_type": "code",
   "execution_count": 52,
   "metadata": {},
   "outputs": [],
   "source": [
    "from tensorflow.keras.layers import Input, MultiHeadAttention, LayerNormalization, Dropout, Dense\n",
    "from tensorflow.keras.models import Model"
   ]
  },
  {
   "cell_type": "code",
   "execution_count": 53,
   "metadata": {},
   "outputs": [],
   "source": [
    "#import globalaveragepooling1d\n",
    "from tensorflow.keras.layers import GlobalAveragePooling1D"
   ]
  },
  {
   "cell_type": "code",
   "execution_count": 54,
   "metadata": {},
   "outputs": [
    {
     "name": "stdout",
     "output_type": "stream",
     "text": [
      "Model: \"model\"\n",
      "__________________________________________________________________________________________________\n",
      " Layer (type)                   Output Shape         Param #     Connected to                     \n",
      "==================================================================================================\n",
      " input_1 (InputLayer)           [(None, 28)]         0           []                               \n",
      "                                                                                                  \n",
      " embedding (Embedding)          (None, 28, 200)      6498400     ['input_1[0][0]']                \n",
      "                                                                                                  \n",
      " multi_head_attention (MultiHea  (None, 28, 200)     205768      ['embedding[0][0]',              \n",
      " dAttention)                                                      'embedding[0][0]']              \n",
      "                                                                                                  \n",
      " dropout (Dropout)              (None, 28, 200)      0           ['multi_head_attention[0][0]']   \n",
      "                                                                                                  \n",
      " tf.__operators__.add (TFOpLamb  (None, 28, 200)     0           ['dropout[0][0]',                \n",
      " da)                                                              'embedding[0][0]']              \n",
      "                                                                                                  \n",
      " layer_normalization (LayerNorm  (None, 28, 200)     400         ['tf.__operators__.add[0][0]']   \n",
      " alization)                                                                                       \n",
      "                                                                                                  \n",
      " global_average_pooling1d (Glob  (None, 200)         0           ['layer_normalization[0][0]']    \n",
      " alAveragePooling1D)                                                                              \n",
      "                                                                                                  \n",
      " dense (Dense)                  (None, 64)           12864       ['global_average_pooling1d[0][0]'\n",
      "                                                                 ]                                \n",
      "                                                                                                  \n",
      " dropout_1 (Dropout)            (None, 64)           0           ['dense[0][0]']                  \n",
      "                                                                                                  \n",
      " dense_1 (Dense)                (None, 3)            195         ['dropout_1[0][0]']              \n",
      "                                                                                                  \n",
      "==================================================================================================\n",
      "Total params: 6,717,627\n",
      "Trainable params: 6,717,627\n",
      "Non-trainable params: 0\n",
      "__________________________________________________________________________________________________\n"
     ]
    }
   ],
   "source": [
    "# create the model\n",
    "# for team reference this is an initial test model, we can adjust the layers and parameters as needed\n",
    "\n",
    "output_dim = 200\n",
    "\n",
    "# #LSTM model (cnn +lstm)\n",
    "# model = Sequential()\n",
    "# model.add(Embedding(vocab_size, output_dim, input_length=maxlen))\n",
    "# model.add(LSTM(100))\n",
    "# model.add(Dense(3, activation='softmax'))\n",
    "# model.compile(optimizer='adam', loss='categorical_crossentropy', metrics=['accuracy', f1_m, precision_m, recall_m])\n",
    "# model.summary()\n",
    "\n",
    "# from tensorflow.keras.layers import MultiHeadAttention, LayerNormalization, Dropout, Add\n",
    "\n",
    "# Multi-head Self-attention based model\n",
    "input_layer = Input(shape=(maxlen,))\n",
    "embedding_layer = Embedding(vocab_size, output_dim, input_length=maxlen)(input_layer)\n",
    "\n",
    "# Transformer Encoder block\n",
    "attention_output = MultiHeadAttention(num_heads=4, key_dim=64)(embedding_layer, embedding_layer)\n",
    "attention_output = Dropout(0.1)(attention_output)\n",
    "attention_output = LayerNormalization(epsilon=1e-6)(attention_output + embedding_layer)\n",
    "\n",
    "# Global Average Pooling to reduce the time dimension\n",
    "pooled_output = GlobalAveragePooling1D()(attention_output)\n",
    "\n",
    "# Feed-forward layer after pooling\n",
    "ffn = Dense(64, activation='relu')(pooled_output)\n",
    "ffn = Dropout(0.1)(ffn)\n",
    "output_layer = Dense(3, activation='softmax')(ffn)\n",
    "\n",
    "model = Model(inputs=input_layer, outputs=output_layer)\n",
    "model.compile(optimizer='adam', loss='categorical_crossentropy', metrics=[precision_m, recall_m, f1_score])\n",
    "model.summary()"
   ]
  },
  {
   "cell_type": "markdown",
   "metadata": {},
   "source": [
    "Looking at the total number of parameteries per layer it can be said that: \n",
    "- Embedding layer had 4,321,000 \n",
    "- LTSM layer had 120, 400\n",
    "- Dense layer had 303 \n",
    "\n",
    "This model has a total of 4, 441, 703 parameteres all which are trainable. Most of these paramaters can be seen in the embedding layer as it needs to store dense vector representations for each word in the vocabulary. \n",
    "\n",
    "The model is then trained using 5 Epoch\n",
    "\n",
    "#### NEW \n",
    "\n",
    "Looking at the total number of parameteries per layer it can be said that: \n",
    "- Embedding layer had 5, 240, 600\n",
    "- Layer normalization 400\n",
    "- Multi head attention 205, 768\n",
    "- Dense_9 layer had 12, 864 \n",
    "- Dense_10 layer had 195\n",
    "\n",
    "This model has a total of 5, 459, 827 parameteres all which are trainable. Most of these paramaters can be seen in the embedding layer as it needs to store dense vector representations for each word in the vocabulary. \n",
    "\n",
    "The model is then trained using 5 Epoch"
   ]
  },
  {
   "cell_type": "code",
   "execution_count": 55,
   "metadata": {},
   "outputs": [
    {
     "name": "stdout",
     "output_type": "stream",
     "text": [
      "Epoch 1/5\n",
      "241/241 [==============================] - 12s 46ms/step - loss: 0.5621 - precision: 0.8339 - recall: 0.6879 - f1_score: 0.5487 - val_loss: 0.3163 - val_precision: 0.8949 - val_recall: 0.8844 - val_f1_score: 0.8819\n",
      "Epoch 2/5\n",
      "241/241 [==============================] - 11s 45ms/step - loss: 0.1746 - precision: 0.9452 - recall: 0.9399 - f1_score: 0.9423 - val_loss: 0.3453 - val_precision: 0.8922 - val_recall: 0.8792 - val_f1_score: 0.8799\n",
      "Epoch 3/5\n",
      "241/241 [==============================] - 11s 45ms/step - loss: 0.0773 - precision: 0.9791 - recall: 0.9772 - f1_score: 0.9796 - val_loss: 0.4440 - val_precision: 0.8771 - val_recall: 0.8654 - val_f1_score: 0.8600\n",
      "Epoch 4/5\n",
      "241/241 [==============================] - 11s 45ms/step - loss: 0.0397 - precision: 0.9885 - recall: 0.9873 - f1_score: 0.9892 - val_loss: 0.5479 - val_precision: 0.8628 - val_recall: 0.8576 - val_f1_score: 0.8517\n",
      "Epoch 5/5\n",
      "241/241 [==============================] - 11s 45ms/step - loss: 0.0246 - precision: 0.9933 - recall: 0.9930 - f1_score: 0.9943 - val_loss: 0.6275 - val_precision: 0.8680 - val_recall: 0.8628 - val_f1_score: 0.8638\n"
     ]
    }
   ],
   "source": [
    "# train the model\n",
    "history = model.fit(X_train, y_train, epochs=5, validation_data=(X_test, y_test), batch_size=64)"
   ]
  },
  {
   "cell_type": "code",
   "execution_count": 56,
   "metadata": {},
   "outputs": [
    {
     "name": "stdout",
     "output_type": "stream",
     "text": [
      "61/61 [==============================] - 1s 12ms/step - loss: 0.6275 - precision: 0.8680 - recall: 0.8628 - f1_score: 0.8638\n",
      "Loss: 0.6274816393852234\n",
      "Precision: 0.8680282831192017\n",
      "Recall: 0.8628318309783936\n",
      "F1 Score: 0.8638495206832886\n"
     ]
    },
    {
     "data": {
      "image/png": "[encoded data removed]",
      "text/plain": [
       "<Figure size 432x288 with 1 Axes>"
      ]
     },
     "metadata": {
      "needs_background": "light"
     },
     "output_type": "display_data"
    }
   ],
   "source": [
    "# evaluate the model\n",
    "loss, precision, recall, f1 = model.evaluate(X_test, y_test, batch_size=64)\n",
    "print(f\"Loss: {loss}\")\n",
    "print(f\"Precision: {precision}\")\n",
    "print(f\"Recall: {recall}\")\n",
    "print(f\"F1 Score: {f1}\")\n",
    "\n",
    "# plot the training history\n",
    "plt.plot(history.history['loss'], label='train')\n",
    "plt.plot(history.history['val_loss'], label='test')\n",
    "plt.legend()\n",
    "plt.show()\n"
   ]
  },
  {
   "cell_type": "code",
   "execution_count": 60,
   "metadata": {
    "scrolled": true
   },
   "outputs": [
    {
     "ename": "KeyError",
     "evalue": "'accuracy'",
     "output_type": "error",
     "traceback": [
      "\u001b[0;31m---------------------------------------------------------------------------\u001b[0m",
      "\u001b[0;31mKeyError\u001b[0m                                  Traceback (most recent call last)",
      "Input \u001b[0;32mIn [60]\u001b[0m, in \u001b[0;36m<cell line: 4>\u001b[0;34m()\u001b[0m\n\u001b[1;32m      1\u001b[0m \u001b[38;5;28;01mimport\u001b[39;00m \u001b[38;5;21;01mmatplotlib\u001b[39;00m\u001b[38;5;21;01m.\u001b[39;00m\u001b[38;5;21;01mpyplot\u001b[39;00m \u001b[38;5;28;01mas\u001b[39;00m \u001b[38;5;21;01mplt\u001b[39;00m\n\u001b[1;32m      3\u001b[0m \u001b[38;5;66;03m# plot the training and validation accuracy\u001b[39;00m\n\u001b[0;32m----> 4\u001b[0m plt\u001b[38;5;241m.\u001b[39mplot(\u001b[43mhistory\u001b[49m\u001b[38;5;241;43m.\u001b[39;49m\u001b[43mhistory\u001b[49m\u001b[43m[\u001b[49m\u001b[38;5;124;43m'\u001b[39;49m\u001b[38;5;124;43maccuracy\u001b[39;49m\u001b[38;5;124;43m'\u001b[39;49m\u001b[43m]\u001b[49m)\n\u001b[1;32m      5\u001b[0m plt\u001b[38;5;241m.\u001b[39mplot(history\u001b[38;5;241m.\u001b[39mhistory[\u001b[38;5;124m'\u001b[39m\u001b[38;5;124mval_accuracy\u001b[39m\u001b[38;5;124m'\u001b[39m])\n\u001b[1;32m      6\u001b[0m plt\u001b[38;5;241m.\u001b[39mtitle(\u001b[38;5;124m'\u001b[39m\u001b[38;5;124mmodel accuracy\u001b[39m\u001b[38;5;124m'\u001b[39m)\n",
      "\u001b[0;31mKeyError\u001b[0m: 'accuracy'"
     ]
    }
   ],
   "source": [
    "import matplotlib.pyplot as plt\n",
    "\n",
    "# plot the training and validation accuracy\n",
    "plt.plot(history.history['accuracy'])\n",
    "plt.plot(history.history['val_accuracy'])\n",
    "plt.title('model accuracy')\n",
    "plt.ylabel('accuracy')\n",
    "plt.xlabel('epoch')\n",
    "plt.legend(['train', 'test'], loc='upper left')\n",
    "plt.show()"
   ]
  },
  {
   "cell_type": "markdown",
   "metadata": {},
   "source": [
    "Looking at the training set and its validation accuracy the following observations can be made for this graph. \n",
    "\n",
    "- The training accuracy starts from 0.86 to 0.98 with a steady increase by the fourth epoch. It can be said that this model is learning well from the training data and continously improving as the epoch increases. \n",
    "\n",
    "- The validation accuracy starts at 0.90 and decrease to 0.88 after four epochs with a steady decrease. This insinuates that models performance on unseen data is degrading as training profressess. \n",
    "\n",
    "- Based on the observations it can be said that model is likely overfitting. This happens when a model details in the training data that it negatively impacts performance on unseen data (test data). This suggests that model is learning too much from the training data which can be said that it is memorising instead of generalising to new data. \n",
    "\n",
    "#### NEW\n",
    "\n",
    "Looking at the training set and its validation accuracy the following observations can be made for this graph. \n",
    "\n",
    "- The training accuracy starts from 0.86 to 0.98 with a steady increase by the fourth epoch. It can be said that this model is learning well from the training data and continously improving as the epoch increases. \n",
    "\n",
    "- The validation accuracy starts at 0.90 and decrease to 0.88 after four epochs with a steady decrease. This insinuates that models performance on unseen data is degrading as training profressess. \n",
    "\n",
    "- Based on the observations it can be said that model is likely overfitting. This happens when a model details in the training data that it negatively impacts performance on unseen data (test data). This suggests that model is learning too much from the training data which can be said that it is memorising instead of generalising to new data. \n"
   ]
  },
  {
   "cell_type": "code",
   "execution_count": 58,
   "metadata": {},
   "outputs": [
    {
     "data": {
      "image/png": "[encoded data removed]",
      "text/plain": [
       "<Figure size 432x288 with 1 Axes>"
      ]
     },
     "metadata": {
      "needs_background": "light"
     },
     "output_type": "display_data"
    }
   ],
   "source": [
    "# plot the training and validation loss\n",
    "plt.plot(history.history['loss'])\n",
    "plt.plot(history.history['val_loss'])\n",
    "plt.title('model loss')\n",
    "plt.ylabel('loss')\n",
    "plt.xlabel('epoch')\n",
    "plt.legend(['train', 'test'], loc='upper left')\n",
    "plt.show()\n"
   ]
  },
  {
   "cell_type": "markdown",
   "metadata": {},
   "source": [
    "Looking at the training set and its validation loss the following observations can be made for this graph. \n",
    "\n",
    "- The training loss is high at around 0.40 but decreases signifcantly to 0.05 by epoch 4. This means that the model is successfully learning to minimise its error on the training data as it trains. \n",
    "\n",
    "- The test loss starts at around 0.27 but increases to 0.45 at epoch 4. This signifies that the validation loss is higher than the intial value and the model is perfoming worse on the test set over time. \n",
    "\n",
    "Based on these observations the decreasing trend in training loss shows that the model is fitting the training data well and is learning the patterns in the training set. The increasing trend in the testing loss suggests overfitiing. This means that the model is learning patterns and details specific to the training data which dont generalise on the unseen data. \n",
    "\n",
    "Looking at the training set and its validation loss the following observations can be made for this graph. \n",
    "\n",
    "- The training loss is high at around 0.60 but decreases signifcantly to 0.05 by epoch 4. This means that the model is successfully learning to minimise its error on the training data as it trains. \n",
    "\n",
    "- The test loss starts at around 0.30 but increases to 0.6 at epoch 4. This signifies that the validation loss is higher than the intial value and the model is perfoming worse on the test set over time. \n",
    "\n",
    "Based on these observations the decreasing trend in training loss shows that the model is fitting the training data well and is learning the patterns in the training set. The increasing trend in the testing loss suggests overfitiing. This means that the model is learning patterns and details specific to the training data which dont generalise on the unseen data. \n"
   ]
  },
  {
   "cell_type": "code",
   "execution_count": 59,
   "metadata": {},
   "outputs": [
    {
     "name": "stdout",
     "output_type": "stream",
     "text": [
      "121/121 [==============================] - 1s 7ms/step\n"
     ]
    },
    {
     "data": {
      "image/png": "[encoded data removed]",
      "text/plain": [
       "<Figure size 432x288 with 2 Axes>"
      ]
     },
     "metadata": {
      "needs_background": "light"
     },
     "output_type": "display_data"
    }
   ],
   "source": [
    "# plot a confusion matrix\n",
    "from sklearn.metrics import confusion_matrix\n",
    "import seaborn as sns\n",
    "\n",
    "y_pred = model.predict(X_test)\n",
    "y_pred = np.argmax(y_pred, axis=1)\n",
    "y_test = np.argmax(y_test, axis=1)\n",
    "cm = confusion_matrix(y_test, y_pred)\n",
    "\n",
    "sns.heatmap(cm, annot=True, fmt='d', cmap='Blues')\n",
    "plt.xlabel('Predicted')\n",
    "plt.ylabel('True')\n",
    "plt.title('Confusion Matrix')\n",
    "plt.show()\n"
   ]
  },
  {
   "cell_type": "markdown",
   "metadata": {},
   "source": [
    "Looking at the confusion matrix it could be said that: \n",
    "\n",
    "True:\n",
    "- Centre square which is predicted 1 and true 1 has 3600 true values. \n",
    "- These are cases where the actual label is offensive and the model correctly predicted it as offensive. \n",
    "- In offsenisve detection, this is the number of correctly predicted offensive tweets. \n",
    "\n",
    "- The bottom right corner square predicts 2 and true value is 2 has 699 true values. \n",
    "- These are cases where the actual label is hate and the model correctly predicted it as hate. \n",
    "- In hate detection, this is the number of correctly predicted hate speech tweets. \n",
    "\n",
    "- The top left corner predicts 0 and true is 0 has only 65 true values, \n",
    "- These are cases where the actual label is neither and the model correctly predicted it as neither. \n",
    "- In neither detection, this is the number of correctly predicted neither tweets. \n",
    "\n",
    "\n",
    "False:\n",
    "- The squares where the value predicted doesnt match the value that it is are false values.\n",
    "\n",
    "For example:\n",
    "- The bottom left corner square predicts the value 0 but the actual value is 2. \n",
    "- This means that the tweet is actually classfied as hate speech but is being predicted as neither. \n",
    "\n",
    "Looking at the confusion matrix the classifications which have been falsey predicted are very low in comparison to the correctly predicted. This can be due to the fact that the training data was heavily offesnive tweets then it was minimally focused on hate speech and very few tweets being neither.This explains why the model was well trained towards detecting offensive tweets then hate speech and neither. \n",
    "\n",
    "#### NEW \n",
    "\n",
    "Looking at the confusion matrix it could be said that: \n",
    "\n",
    "True:\n",
    "- Centre square which is predicted 1 and true 1 has 1160 true values. \n",
    "- These are cases where the actual label is offensive and the model correctly predicted it as offensive. \n",
    "- In offsenisve detection, this is the number of correctly predicted offensive tweets. \n",
    "\n",
    "- The bottom right corner square predicts 2 and true value is 2 has 1056 true values. \n",
    "- These are cases where the actual label is hate and the model correctly predicted it as hate. \n",
    "- In hate detection, this is the number of correctly predicted hate speech tweets. \n",
    "\n",
    "- The top left corner predicts 0 and true is 0 has only 1142 true values, \n",
    "- These are cases where the actual label is neither and the model correctly predicted it as neither. \n",
    "- In neither detection, this is the number of correctly predicted neither tweets. \n",
    "\n",
    "\n",
    "False:\n",
    "- The squares where the value predicted doesnt match the value that it is are false values.\n",
    "\n",
    "For example:\n",
    "- The bottom left corner square predicts the value 0 but the actual value is 2. \n",
    "- This means that the tweet is actually classfied as hate speech but is being predicted as neither. \n",
    "\n",
    "Looking at the confusion matrix the classifications which have been falsey predicted are very low in comparison to the correctly predicted. Additionally, the correctly predicted values have severly increased and evened out for all class. This can be due to the fact that the training data was artifically balanced and evenly focused on all three classes.This explains why the model has improved overall and can correctlly predict values in all three classes with less mistakes. "
   ]
  },
  {
   "cell_type": "markdown",
   "metadata": {},
   "source": [
    "The next steps could be: \n",
    "\n",
    "- Continue refining this model as it is prediciting values significnatly better than what it was previously. "
   ]
  }
 ],
 "metadata": {
  "kernelspec": {
   "display_name": "Python 3 (ipykernel)",
   "language": "python",
   "name": "python3"
  },
  "language_info": {
   "codemirror_mode": {
    "name": "ipython",
    "version": 3
   },
   "file_extension": ".py",
   "mimetype": "text/x-python",
   "name": "python",
   "nbconvert_exporter": "python",
   "pygments_lexer": "ipython3",
   "version": "3.9.12"
  }
 },
 "nbformat": 4,
 "nbformat_minor": 2
}
