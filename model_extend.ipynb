{
 "cells": [
  {
   "cell_type": "markdown",
   "metadata": {},
   "source": [
    "# P000456CSITCP - Hate Speech Detection Model "
   ]
  },
  {
   "cell_type": "markdown",
   "metadata": {},
   "source": [
    "### MACHINE SET UP \n",
    "\n",
    "- Python version 3.9 + \n",
    "- Ensure all packages are imported (below is the list and as each code block occurs more imports may be present)\n",
    "- The code has already been ran but tto re run the code run the code from the beginning "
   ]
  },
  {
   "cell_type": "code",
   "execution_count": 1,
   "metadata": {},
   "outputs": [],
   "source": [
    "import pandas as pd\n",
    "\n",
    "import numpy as np\n",
    "import matplotlib.pyplot as plt\n",
    "import seaborn as sns\n",
    "import re\n",
    "import string\n",
    "import nltk\n",
    "from nltk.corpus import stopwords\n",
    "from nltk.tokenize import word_tokenize\n",
    "from nltk.stem import PorterStemmer\n",
    "from sklearn.feature_extraction.text import CountVectorizer\n",
    "from sklearn.model_selection import train_test_split\n",
    "from sklearn.linear_model import LogisticRegression"
   ]
  },
  {
   "cell_type": "markdown",
   "metadata": {},
   "source": [
    "## Loading The Dataset \n",
    "\n",
    "- The twitter.csv file is loaded into the variable name data. This is then used to condut initial analysis onthe data.\n",
    "- The variables on this csv file are unamed, count, hate_speech, offensive_language, neither and class. \n",
    "\n",
    "Below is a list explaining each variable \n",
    "- count: The total number of annotations for each tweet. (Integer) </br>\n",
    "- hate_speech: The number of annotations classifying a tweet as hate speech. (Integer)</br>\n",
    "- offensive_language_count: The number of annotations classifying a tweet as offensive language. (Integer)</br>\n",
    "- neither_count: The number of annotations classifying a tweet as neither hate speech nor offensive language. (Integer)</br>\n",
    "- class: The level of hate in which the twitter comment is projecting; hate speech, offensive language or neither. (Integer) </br>\n",
    "- tweet: The tweet which the classfications are being made (String) </br>\n",
    "\n",
    "NOTE: The Unnamed column looks to be an index column."
   ]
  },
  {
   "cell_type": "code",
   "execution_count": 2,
   "metadata": {},
   "outputs": [
    {
     "name": "stdout",
     "output_type": "stream",
     "text": [
      "   Unnamed: 0  count  hate_speech  offensive_language  neither  class   \n",
      "0           0      3            0                   0        3      2  \\\n",
      "1           1      3            0                   3        0      1   \n",
      "2           2      3            0                   3        0      1   \n",
      "3           3      3            0                   2        1      1   \n",
      "4           4      6            0                   6        0      1   \n",
      "\n",
      "                                               tweet  \n",
      "0  !!! RT @mayasolovely: As a woman you shouldn't...  \n",
      "1  !!!!! RT @mleew17: boy dats cold...tyga dwn ba...  \n",
      "2  !!!!!!! RT @UrKindOfBrand Dawg!!!! RT @80sbaby...  \n",
      "3  !!!!!!!!! RT @C_G_Anderson: @viva_based she lo...  \n",
      "4  !!!!!!!!!!!!! RT @ShenikaRoberts: The shit you...  \n"
     ]
    }
   ],
   "source": [
    "# Load the data\n",
    "data = pd.read_csv('twitter.csv')\n",
    "\n",
    "# Display the first 5 rows of the data\n",
    "print(data.head())\n"
   ]
  },
  {
   "cell_type": "code",
   "execution_count": 3,
   "metadata": {},
   "outputs": [
    {
     "data": {
      "text/plain": [
       "class\n",
       "1    19190\n",
       "2     4163\n",
       "0     1430\n",
       "Name: count, dtype: int64"
      ]
     },
     "execution_count": 3,
     "metadata": {},
     "output_type": "execute_result"
    }
   ],
   "source": [
    "data['class'].value_counts()"
   ]
  },
  {
   "cell_type": "markdown",
   "metadata": {},
   "source": [
    "To really understand the level of hate in which the dataset entials the class variable in looked into further. It can be said that 'class' 1 has the most counts followed by 'class' 2 then 3. \n",
    "\n",
    "The class column indicates \n",
    "- 0: Hate Speech \n",
    "- 1: Offensive Language\n",
    "- 2: Neither "
   ]
  },
  {
   "cell_type": "code",
   "execution_count": 4,
   "metadata": {},
   "outputs": [
    {
     "data": {
      "text/html": [
       "<div>\n",
       "<style scoped>\n",
       "    .dataframe tbody tr th:only-of-type {\n",
       "        vertical-align: middle;\n",
       "    }\n",
       "\n",
       "    .dataframe tbody tr th {\n",
       "        vertical-align: top;\n",
       "    }\n",
       "\n",
       "    .dataframe thead th {\n",
       "        text-align: right;\n",
       "    }\n",
       "</style>\n",
       "<table border=\"1\" class=\"dataframe\">\n",
       "  <thead>\n",
       "    <tr style=\"text-align: right;\">\n",
       "      <th></th>\n",
       "      <th>Unnamed: 0</th>\n",
       "      <th>count</th>\n",
       "      <th>hate_speech</th>\n",
       "      <th>offensive_language</th>\n",
       "      <th>neither</th>\n",
       "      <th>class</th>\n",
       "    </tr>\n",
       "  </thead>\n",
       "  <tbody>\n",
       "    <tr>\n",
       "      <th>count</th>\n",
       "      <td>24783.000000</td>\n",
       "      <td>24783.000000</td>\n",
       "      <td>24783.000000</td>\n",
       "      <td>24783.000000</td>\n",
       "      <td>24783.000000</td>\n",
       "      <td>24783.000000</td>\n",
       "    </tr>\n",
       "    <tr>\n",
       "      <th>mean</th>\n",
       "      <td>12681.192027</td>\n",
       "      <td>3.243473</td>\n",
       "      <td>0.280515</td>\n",
       "      <td>2.413711</td>\n",
       "      <td>0.549247</td>\n",
       "      <td>1.110277</td>\n",
       "    </tr>\n",
       "    <tr>\n",
       "      <th>std</th>\n",
       "      <td>7299.553863</td>\n",
       "      <td>0.883060</td>\n",
       "      <td>0.631851</td>\n",
       "      <td>1.399459</td>\n",
       "      <td>1.113299</td>\n",
       "      <td>0.462089</td>\n",
       "    </tr>\n",
       "    <tr>\n",
       "      <th>min</th>\n",
       "      <td>0.000000</td>\n",
       "      <td>3.000000</td>\n",
       "      <td>0.000000</td>\n",
       "      <td>0.000000</td>\n",
       "      <td>0.000000</td>\n",
       "      <td>0.000000</td>\n",
       "    </tr>\n",
       "    <tr>\n",
       "      <th>25%</th>\n",
       "      <td>6372.500000</td>\n",
       "      <td>3.000000</td>\n",
       "      <td>0.000000</td>\n",
       "      <td>2.000000</td>\n",
       "      <td>0.000000</td>\n",
       "      <td>1.000000</td>\n",
       "    </tr>\n",
       "    <tr>\n",
       "      <th>50%</th>\n",
       "      <td>12703.000000</td>\n",
       "      <td>3.000000</td>\n",
       "      <td>0.000000</td>\n",
       "      <td>3.000000</td>\n",
       "      <td>0.000000</td>\n",
       "      <td>1.000000</td>\n",
       "    </tr>\n",
       "    <tr>\n",
       "      <th>75%</th>\n",
       "      <td>18995.500000</td>\n",
       "      <td>3.000000</td>\n",
       "      <td>0.000000</td>\n",
       "      <td>3.000000</td>\n",
       "      <td>0.000000</td>\n",
       "      <td>1.000000</td>\n",
       "    </tr>\n",
       "    <tr>\n",
       "      <th>max</th>\n",
       "      <td>25296.000000</td>\n",
       "      <td>9.000000</td>\n",
       "      <td>7.000000</td>\n",
       "      <td>9.000000</td>\n",
       "      <td>9.000000</td>\n",
       "      <td>2.000000</td>\n",
       "    </tr>\n",
       "  </tbody>\n",
       "</table>\n",
       "</div>"
      ],
      "text/plain": [
       "         Unnamed: 0         count   hate_speech  offensive_language   \n",
       "count  24783.000000  24783.000000  24783.000000        24783.000000  \\\n",
       "mean   12681.192027      3.243473      0.280515            2.413711   \n",
       "std     7299.553863      0.883060      0.631851            1.399459   \n",
       "min        0.000000      3.000000      0.000000            0.000000   \n",
       "25%     6372.500000      3.000000      0.000000            2.000000   \n",
       "50%    12703.000000      3.000000      0.000000            3.000000   \n",
       "75%    18995.500000      3.000000      0.000000            3.000000   \n",
       "max    25296.000000      9.000000      7.000000            9.000000   \n",
       "\n",
       "            neither         class  \n",
       "count  24783.000000  24783.000000  \n",
       "mean       0.549247      1.110277  \n",
       "std        1.113299      0.462089  \n",
       "min        0.000000      0.000000  \n",
       "25%        0.000000      1.000000  \n",
       "50%        0.000000      1.000000  \n",
       "75%        0.000000      1.000000  \n",
       "max        9.000000      2.000000  "
      ]
     },
     "execution_count": 4,
     "metadata": {},
     "output_type": "execute_result"
    }
   ],
   "source": [
    "data.describe()"
   ]
  },
  {
   "cell_type": "markdown",
   "metadata": {},
   "source": [
    "Looking at the statistical analysis of each variable (excluding count and unamed) it can be said that:\n",
    "\n",
    "- hate_speech: With a mean of 0.28 it can be said that most entries have low levels of hate_speech and thus most likely not being classified as hate speech. Aditionally with a 0.0 distibrution for the 25, 50 and 75 percentile show no hate speech in the data points. With a max of 7 it can highlight some entires of high levels of hate speech \n",
    "\n",
    "- offesnive_language: A mean of 2.41 shows a higher average than hate_speech and can therefore be said that offensive language is more common than hate speech. It can be noted that half of the data had a score of 3 or lower for offensive langauge. Some entires also show high levels of offensive language with a max value of 9. \n",
    "\n",
    "- neither: The mean od 0.55 shows a good portion of the data is neither hate speech or offensive language. Aditionally with a 0.0 distibrution for the 25, 50 and 75 percentile show that the data falls into other categories. Some entires also show high levels of neither category with a max value of 9. \n",
    "\n",
    "- class: 1.11 mean shows most enties are classified as offensive langauge (1). This can be shown with the 25th and 50th percentiles being 1. The max value of 2 shows that hate speech is present but less common. \n",
    "\n",
    "Ultimately the data is skewed towards offensive language. A larger proportion of the data can be seen to be offensive language as seen by the class in comparison to hate speech and a small group within neither."
   ]
  },
  {
   "cell_type": "code",
   "execution_count": 5,
   "metadata": {},
   "outputs": [
    {
     "data": {
      "text/plain": [
       "Unnamed: 0            0\n",
       "count                 0\n",
       "hate_speech           0\n",
       "offensive_language    0\n",
       "neither               0\n",
       "class                 0\n",
       "tweet                 0\n",
       "dtype: int64"
      ]
     },
     "execution_count": 5,
     "metadata": {},
     "output_type": "execute_result"
    }
   ],
   "source": [
    "data.isna().sum()"
   ]
  },
  {
   "cell_type": "code",
   "execution_count": 6,
   "metadata": {},
   "outputs": [
    {
     "data": {
      "text/plain": [
       "0"
      ]
     },
     "execution_count": 6,
     "metadata": {},
     "output_type": "execute_result"
    }
   ],
   "source": [
    "data.duplicated().sum()"
   ]
  },
  {
   "cell_type": "markdown",
   "metadata": {},
   "source": [
    "It can also be seen that there are no n/a data within any of the variables and no duplicated data in the dataset as well. "
   ]
  },
  {
   "cell_type": "code",
   "execution_count": 7,
   "metadata": {},
   "outputs": [
    {
     "data": {
      "text/plain": [
       "<Axes: xlabel='class', ylabel='Count'>"
      ]
     },
     "execution_count": 7,
     "metadata": {},
     "output_type": "execute_result"
    },
    {
     "data": {
      "image/png": "[encoded data removed]",
      "text/plain": [
       "<Figure size 640x480 with 1 Axes>"
      ]
     },
     "metadata": {},
     "output_type": "display_data"
    }
   ],
   "source": [
    "# plot the distribution of the classes\n",
    "sns.histplot(data['class'])\n"
   ]
  },
  {
   "cell_type": "markdown",
   "metadata": {},
   "source": [
    "Looking at the histogram it can be reinstated that the offensive langauge category is classfied heavily in the dataset followed by approximately 25% of the data classfied as neither and hate speech."
   ]
  },
  {
   "cell_type": "markdown",
   "metadata": {},
   "source": [
    "## Data Processing\n",
    "\n",
    "- The data preprocessing stage is important to turn the raw data (twitter.csv) into clean data that can then be used for training and testing. "
   ]
  },
  {
   "cell_type": "markdown",
   "metadata": {},
   "source": [
    "The next steps that must be taken after the intial data analysis is data preprocessing. Here the dataset is taken and the following elements are removed from the dataset: \n",
    "\n",
    "- urls\n",
    "- usernames (especially for anonymity)\n",
    "- emojis\n",
    "- punctuation\n",
    "- single characters + double spaces\n",
    "\n",
    "The following are processed to ensure clarity in the data:\n",
    "\n",
    "- Turning everything lowercase"
   ]
  },
  {
   "cell_type": "code",
   "execution_count": 8,
   "metadata": {},
   "outputs": [
    {
     "data": {
      "text/html": [
       "<div>\n",
       "<style scoped>\n",
       "    .dataframe tbody tr th:only-of-type {\n",
       "        vertical-align: middle;\n",
       "    }\n",
       "\n",
       "    .dataframe tbody tr th {\n",
       "        vertical-align: top;\n",
       "    }\n",
       "\n",
       "    .dataframe thead th {\n",
       "        text-align: right;\n",
       "    }\n",
       "</style>\n",
       "<table border=\"1\" class=\"dataframe\">\n",
       "  <thead>\n",
       "    <tr style=\"text-align: right;\">\n",
       "      <th></th>\n",
       "      <th>tweet</th>\n",
       "      <th>class</th>\n",
       "    </tr>\n",
       "  </thead>\n",
       "  <tbody>\n",
       "    <tr>\n",
       "      <th>0</th>\n",
       "      <td>!!! RT @mayasolovely: As a woman you shouldn't...</td>\n",
       "      <td>2</td>\n",
       "    </tr>\n",
       "    <tr>\n",
       "      <th>1</th>\n",
       "      <td>!!!!! RT @mleew17: boy dats cold...tyga dwn ba...</td>\n",
       "      <td>1</td>\n",
       "    </tr>\n",
       "    <tr>\n",
       "      <th>2</th>\n",
       "      <td>!!!!!!! RT @UrKindOfBrand Dawg!!!! RT @80sbaby...</td>\n",
       "      <td>1</td>\n",
       "    </tr>\n",
       "    <tr>\n",
       "      <th>3</th>\n",
       "      <td>!!!!!!!!! RT @C_G_Anderson: @viva_based she lo...</td>\n",
       "      <td>1</td>\n",
       "    </tr>\n",
       "    <tr>\n",
       "      <th>4</th>\n",
       "      <td>!!!!!!!!!!!!! RT @ShenikaRoberts: The shit you...</td>\n",
       "      <td>1</td>\n",
       "    </tr>\n",
       "  </tbody>\n",
       "</table>\n",
       "</div>"
      ],
      "text/plain": [
       "                                               tweet  class\n",
       "0  !!! RT @mayasolovely: As a woman you shouldn't...      2\n",
       "1  !!!!! RT @mleew17: boy dats cold...tyga dwn ba...      1\n",
       "2  !!!!!!! RT @UrKindOfBrand Dawg!!!! RT @80sbaby...      1\n",
       "3  !!!!!!!!! RT @C_G_Anderson: @viva_based she lo...      1\n",
       "4  !!!!!!!!!!!!! RT @ShenikaRoberts: The shit you...      1"
      ]
     },
     "execution_count": 8,
     "metadata": {},
     "output_type": "execute_result"
    }
   ],
   "source": [
    "data_processed=data[['tweet','class']]\n",
    "data_processed.head()"
   ]
  },
  {
   "cell_type": "code",
   "execution_count": 9,
   "metadata": {},
   "outputs": [
    {
     "name": "stderr",
     "output_type": "stream",
     "text": [
      "C:\\Users\\Admin\\AppData\\Local\\Temp\\ipykernel_24412\\2544297350.py:2: SettingWithCopyWarning: \n",
      "A value is trying to be set on a copy of a slice from a DataFrame.\n",
      "Try using .loc[row_indexer,col_indexer] = value instead\n",
      "\n",
      "See the caveats in the documentation: https://pandas.pydata.org/pandas-docs/stable/user_guide/indexing.html#returning-a-view-versus-a-copy\n",
      "  data_processed[\"tweet\"] = data_processed[\"tweet\"].apply(lambda x:re.sub(r'https?://\\S+', '', str(x)))\n"
     ]
    },
    {
     "data": {
      "text/plain": [
       "0        !!! RT @mayasolovely: As a woman you shouldn't...\n",
       "1        !!!!! RT @mleew17: boy dats cold...tyga dwn ba...\n",
       "2        !!!!!!! RT @UrKindOfBrand Dawg!!!! RT @80sbaby...\n",
       "3        !!!!!!!!! RT @C_G_Anderson: @viva_based she lo...\n",
       "4        !!!!!!!!!!!!! RT @ShenikaRoberts: The shit you...\n",
       "                               ...                        \n",
       "24778    you's a muthaf***in lie &#8220;@LifeAsKing: @2...\n",
       "24779    you've gone and broke the wrong heart baby, an...\n",
       "24780    young buck wanna eat!!.. dat nigguh like I ain...\n",
       "24781                youu got wild bitches tellin you lies\n",
       "24782    ~~Ruffled | Ntac Eileen Dahlia - Beautiful col...\n",
       "Name: tweet, Length: 24783, dtype: object"
      ]
     },
     "execution_count": 9,
     "metadata": {},
     "output_type": "execute_result"
    }
   ],
   "source": [
    "# remove the urls\n",
    "data_processed[\"tweet\"] = data_processed[\"tweet\"].apply(lambda x:re.sub(r'https?://\\S+', '', str(x)))\n",
    "data_processed[\"tweet\"]\n"
   ]
  },
  {
   "cell_type": "code",
   "execution_count": 10,
   "metadata": {},
   "outputs": [
    {
     "name": "stderr",
     "output_type": "stream",
     "text": [
      "C:\\Users\\Admin\\AppData\\Local\\Temp\\ipykernel_24412\\1831671013.py:2: SettingWithCopyWarning: \n",
      "A value is trying to be set on a copy of a slice from a DataFrame.\n",
      "Try using .loc[row_indexer,col_indexer] = value instead\n",
      "\n",
      "See the caveats in the documentation: https://pandas.pydata.org/pandas-docs/stable/user_guide/indexing.html#returning-a-view-versus-a-copy\n",
      "  data_processed['tweet'] = data_processed['tweet'].apply(lambda x: \" \".join(x.lower() for x in x.split()))\n"
     ]
    },
    {
     "data": {
      "text/plain": [
       "0        !!! rt @mayasolovely: as a woman you shouldn't...\n",
       "1        !!!!! rt @mleew17: boy dats cold...tyga dwn ba...\n",
       "2        !!!!!!! rt @urkindofbrand dawg!!!! rt @80sbaby...\n",
       "3        !!!!!!!!! rt @c_g_anderson: @viva_based she lo...\n",
       "4        !!!!!!!!!!!!! rt @shenikaroberts: the shit you...\n",
       "                               ...                        \n",
       "24778    you's a muthaf***in lie &#8220;@lifeasking: @2...\n",
       "24779    you've gone and broke the wrong heart baby, an...\n",
       "24780    young buck wanna eat!!.. dat nigguh like i ain...\n",
       "24781                youu got wild bitches tellin you lies\n",
       "24782    ~~ruffled | ntac eileen dahlia - beautiful col...\n",
       "Name: tweet, Length: 24783, dtype: object"
      ]
     },
     "execution_count": 10,
     "metadata": {},
     "output_type": "execute_result"
    }
   ],
   "source": [
    "# Lowercase removal\n",
    "data_processed['tweet'] = data_processed['tweet'].apply(lambda x: \" \".join(x.lower() for x in x.split()))\n",
    "data_processed['tweet']"
   ]
  },
  {
   "cell_type": "code",
   "execution_count": 11,
   "metadata": {},
   "outputs": [
    {
     "name": "stderr",
     "output_type": "stream",
     "text": [
      "C:\\Users\\Admin\\AppData\\Local\\Temp\\ipykernel_24412\\2353336898.py:2: SettingWithCopyWarning: \n",
      "A value is trying to be set on a copy of a slice from a DataFrame.\n",
      "Try using .loc[row_indexer,col_indexer] = value instead\n",
      "\n",
      "See the caveats in the documentation: https://pandas.pydata.org/pandas-docs/stable/user_guide/indexing.html#returning-a-view-versus-a-copy\n",
      "  data_processed['tweet'] = data_processed['tweet'].str.replace('[^\\w\\s]','')\n"
     ]
    },
    {
     "data": {
      "text/plain": [
       "0        !!! rt @mayasolovely: as a woman you shouldn't...\n",
       "1        !!!!! rt @mleew17: boy dats cold...tyga dwn ba...\n",
       "2        !!!!!!! rt @urkindofbrand dawg!!!! rt @80sbaby...\n",
       "3        !!!!!!!!! rt @c_g_anderson: @viva_based she lo...\n",
       "4        !!!!!!!!!!!!! rt @shenikaroberts: the shit you...\n",
       "                               ...                        \n",
       "24778    you's a muthaf***in lie &#8220;@lifeasking: @2...\n",
       "24779    you've gone and broke the wrong heart baby, an...\n",
       "24780    young buck wanna eat!!.. dat nigguh like i ain...\n",
       "24781                youu got wild bitches tellin you lies\n",
       "24782    ~~ruffled | ntac eileen dahlia - beautiful col...\n",
       "Name: tweet, Length: 24783, dtype: object"
      ]
     },
     "execution_count": 11,
     "metadata": {},
     "output_type": "execute_result"
    }
   ],
   "source": [
    "# Punctuation Removal\n",
    "data_processed['tweet'] = data_processed['tweet'].str.replace('[^\\w\\s]','')\n",
    "data_processed['tweet']"
   ]
  },
  {
   "cell_type": "code",
   "execution_count": 12,
   "metadata": {},
   "outputs": [
    {
     "name": "stderr",
     "output_type": "stream",
     "text": [
      "C:\\Users\\Admin\\AppData\\Local\\Temp\\ipykernel_24412\\3867049835.py:2: SettingWithCopyWarning: \n",
      "A value is trying to be set on a copy of a slice from a DataFrame.\n",
      "Try using .loc[row_indexer,col_indexer] = value instead\n",
      "\n",
      "See the caveats in the documentation: https://pandas.pydata.org/pandas-docs/stable/user_guide/indexing.html#returning-a-view-versus-a-copy\n",
      "  data_processed['tweet'] = data_processed['tweet'].apply(lambda x:re.sub(r'\\s+[a-zA-Z]\\s+', ' ', x))\n"
     ]
    },
    {
     "data": {
      "text/plain": [
       "0        !!! rt @mayasolovely: as woman you shouldn't c...\n",
       "1        !!!!! rt @mleew17: boy dats cold...tyga dwn ba...\n",
       "2        !!!!!!! rt @urkindofbrand dawg!!!! rt @80sbaby...\n",
       "3        !!!!!!!!! rt @c_g_anderson: @viva_based she lo...\n",
       "4        !!!!!!!!!!!!! rt @shenikaroberts: the shit you...\n",
       "                               ...                        \n",
       "24778    you's muthaf***in lie &#8220;@lifeasking: @20_...\n",
       "24779    you've gone and broke the wrong heart baby, an...\n",
       "24780    young buck wanna eat!!.. dat nigguh like aint ...\n",
       "24781                youu got wild bitches tellin you lies\n",
       "24782    ~~ruffled | ntac eileen dahlia - beautiful col...\n",
       "Name: tweet, Length: 24783, dtype: object"
      ]
     },
     "execution_count": 12,
     "metadata": {},
     "output_type": "execute_result"
    }
   ],
   "source": [
    "# Single character and double space removal (a/i/n etc)\n",
    "data_processed['tweet'] = data_processed['tweet'].apply(lambda x:re.sub(r'\\s+[a-zA-Z]\\s+', ' ', x))\n",
    "data_processed['tweet'] "
   ]
  },
  {
   "cell_type": "code",
   "execution_count": 13,
   "metadata": {},
   "outputs": [
    {
     "name": "stderr",
     "output_type": "stream",
     "text": [
      "C:\\Users\\Admin\\AppData\\Local\\Temp\\ipykernel_24412\\3113575936.py:2: SettingWithCopyWarning: \n",
      "A value is trying to be set on a copy of a slice from a DataFrame.\n",
      "Try using .loc[row_indexer,col_indexer] = value instead\n",
      "\n",
      "See the caveats in the documentation: https://pandas.pydata.org/pandas-docs/stable/user_guide/indexing.html#returning-a-view-versus-a-copy\n",
      "  data_processed['tweet'] = data_processed['tweet'].apply(lambda x:re.sub(r'@\\w+', '', x))\n"
     ]
    },
    {
     "data": {
      "text/plain": [
       "0        !!! rt : as woman you shouldn't complain about...\n",
       "1        !!!!! rt : boy dats cold...tyga dwn bad for cu...\n",
       "2        !!!!!!! rt  dawg!!!! rt : you ever fuck bitch ...\n",
       "3                     !!!!!!!!! rt :  she look like tranny\n",
       "4        !!!!!!!!!!!!! rt : the shit you hear about me ...\n",
       "                               ...                        \n",
       "24778    you's muthaf***in lie &#8220;:   right! his tl...\n",
       "24779    you've gone and broke the wrong heart baby, an...\n",
       "24780    young buck wanna eat!!.. dat nigguh like aint ...\n",
       "24781                youu got wild bitches tellin you lies\n",
       "24782    ~~ruffled | ntac eileen dahlia - beautiful col...\n",
       "Name: tweet, Length: 24783, dtype: object"
      ]
     },
     "execution_count": 13,
     "metadata": {},
     "output_type": "execute_result"
    }
   ],
   "source": [
    "# remove usernames/handles \n",
    "data_processed['tweet'] = data_processed['tweet'].apply(lambda x:re.sub(r'@\\w+', '', x))\n",
    "data_processed['tweet']"
   ]
  },
  {
   "cell_type": "code",
   "execution_count": 14,
   "metadata": {},
   "outputs": [
    {
     "name": "stderr",
     "output_type": "stream",
     "text": [
      "C:\\Users\\Admin\\AppData\\Local\\Temp\\ipykernel_24412\\643837315.py:2: SettingWithCopyWarning: \n",
      "A value is trying to be set on a copy of a slice from a DataFrame.\n",
      "Try using .loc[row_indexer,col_indexer] = value instead\n",
      "\n",
      "See the caveats in the documentation: https://pandas.pydata.org/pandas-docs/stable/user_guide/indexing.html#returning-a-view-versus-a-copy\n",
      "  data_processed['tweet'] = data_processed['tweet'].apply(lambda x: x.encode('ascii', 'ignore').decode('ascii'))\n"
     ]
    },
    {
     "data": {
      "text/plain": [
       "0        !!! rt : as woman you shouldn't complain about...\n",
       "1        !!!!! rt : boy dats cold...tyga dwn bad for cu...\n",
       "2        !!!!!!! rt  dawg!!!! rt : you ever fuck bitch ...\n",
       "3                     !!!!!!!!! rt :  she look like tranny\n",
       "4        !!!!!!!!!!!!! rt : the shit you hear about me ...\n",
       "                               ...                        \n",
       "24778    you's muthaf***in lie &#8220;:   right! his tl...\n",
       "24779    you've gone and broke the wrong heart baby, an...\n",
       "24780    young buck wanna eat!!.. dat nigguh like aint ...\n",
       "24781                youu got wild bitches tellin you lies\n",
       "24782    ~~ruffled | ntac eileen dahlia - beautiful col...\n",
       "Name: tweet, Length: 24783, dtype: object"
      ]
     },
     "execution_count": 14,
     "metadata": {},
     "output_type": "execute_result"
    }
   ],
   "source": [
    "# remove emojis\n",
    "data_processed['tweet'] = data_processed['tweet'].apply(lambda x: x.encode('ascii', 'ignore').decode('ascii'))\n",
    "data_processed['tweet']"
   ]
  },
  {
   "cell_type": "markdown",
   "metadata": {},
   "source": [
    "After removing emojis, usernames/handles, single charters, double spaces, punctuations, lowercases and URLs, the most common words are generated to understand what is the most common words amongst tweets. "
   ]
  },
  {
   "cell_type": "code",
   "execution_count": 15,
   "metadata": {},
   "outputs": [
    {
     "data": {
      "text/plain": [
       "rt       7569\n",
       ":        7399\n",
       "the      7136\n",
       "bitch    6750\n",
       "you      5673\n",
       "to       5296\n",
       "and      3932\n",
       "my       3543\n",
       "that     3397\n",
       "in       3003\n",
       "Name: count, dtype: int64"
      ]
     },
     "execution_count": 15,
     "metadata": {},
     "output_type": "execute_result"
    }
   ],
   "source": [
    "# Most common words\n",
    "freq = pd.Series(' '.join(data_processed['tweet']).split()).value_counts()[:10]\n",
    "freq\n"
   ]
  },
  {
   "cell_type": "markdown",
   "metadata": {},
   "source": [
    "It can be noted that the words/symbols 'rt' and ':' are the most common among the tweets. These two words/symbols are of no benefit for this dataset and do not contribute to the analysis of hate speech. The term 'rt' is used in twitter to say retweet which is the action of re posting a twitter post and the semicolon, :, can be used for gramatical purposes. \n",
    "\n",
    "For this analysis, \"rt\" and the \":\" symbol are not needed, so we can remove them as well. "
   ]
  },
  {
   "cell_type": "code",
   "execution_count": 16,
   "metadata": {},
   "outputs": [
    {
     "name": "stderr",
     "output_type": "stream",
     "text": [
      "C:\\Users\\Admin\\AppData\\Local\\Temp\\ipykernel_24412\\48207569.py:2: SettingWithCopyWarning: \n",
      "A value is trying to be set on a copy of a slice from a DataFrame.\n",
      "Try using .loc[row_indexer,col_indexer] = value instead\n",
      "\n",
      "See the caveats in the documentation: https://pandas.pydata.org/pandas-docs/stable/user_guide/indexing.html#returning-a-view-versus-a-copy\n",
      "  data_processed['tweet'] = data_processed['tweet'].apply(lambda x:re.sub(r'rt', '', x))\n",
      "C:\\Users\\Admin\\AppData\\Local\\Temp\\ipykernel_24412\\48207569.py:3: SettingWithCopyWarning: \n",
      "A value is trying to be set on a copy of a slice from a DataFrame.\n",
      "Try using .loc[row_indexer,col_indexer] = value instead\n",
      "\n",
      "See the caveats in the documentation: https://pandas.pydata.org/pandas-docs/stable/user_guide/indexing.html#returning-a-view-versus-a-copy\n",
      "  data_processed['tweet'] = data_processed['tweet'].apply(lambda x:re.sub(r':', '', x))\n"
     ]
    },
    {
     "data": {
      "text/plain": [
       "0        !!!   as woman you shouldn't complain about cl...\n",
       "1        !!!!!   boy dats cold...tyga dwn bad for cuffi...\n",
       "2        !!!!!!!   dawg!!!!   you ever fuck bitch and s...\n",
       "3                        !!!!!!!!!    she look like tranny\n",
       "4        !!!!!!!!!!!!!   the shit you hear about me mig...\n",
       "                               ...                        \n",
       "24778    you's muthaf***in lie &#8220;   right! his tl ...\n",
       "24779    you've gone and broke the wrong hea baby, and ...\n",
       "24780    young buck wanna eat!!.. dat nigguh like aint ...\n",
       "24781                youu got wild bitches tellin you lies\n",
       "24782    ~~ruffled | ntac eileen dahlia - beautiful col...\n",
       "Name: tweet, Length: 24783, dtype: object"
      ]
     },
     "execution_count": 16,
     "metadata": {},
     "output_type": "execute_result"
    }
   ],
   "source": [
    "# remove the words rt and :\n",
    "data_processed['tweet'] = data_processed['tweet'].apply(lambda x:re.sub(r'rt', '', x))\n",
    "data_processed['tweet'] = data_processed['tweet'].apply(lambda x:re.sub(r':', '', x))\n",
    "data_processed['tweet']"
   ]
  },
  {
   "cell_type": "code",
   "execution_count": 17,
   "metadata": {},
   "outputs": [
    {
     "data": {
      "text/plain": [
       "the        7136\n",
       "bitch      6755\n",
       "you        5677\n",
       "to         5298\n",
       "and        3932\n",
       "my         3543\n",
       "that       3398\n",
       "in         3005\n",
       "is         2854\n",
       "bitches    2681\n",
       "Name: count, dtype: int64"
      ]
     },
     "execution_count": 17,
     "metadata": {},
     "output_type": "execute_result"
    }
   ],
   "source": [
    "# show the most common words\n",
    "freq = pd.Series(' '.join(data_processed['tweet']).split()).value_counts()[:10]\n",
    "freq"
   ]
  },
  {
   "cell_type": "markdown",
   "metadata": {},
   "source": [
    "Looking at the most common words the list only displays words however there are still special characters in the data which will interfere with the analysis, so we can remove those. "
   ]
  },
  {
   "cell_type": "code",
   "execution_count": 18,
   "metadata": {},
   "outputs": [
    {
     "name": "stderr",
     "output_type": "stream",
     "text": [
      "C:\\Users\\Admin\\AppData\\Local\\Temp\\ipykernel_24412\\4181547221.py:2: SettingWithCopyWarning: \n",
      "A value is trying to be set on a copy of a slice from a DataFrame.\n",
      "Try using .loc[row_indexer,col_indexer] = value instead\n",
      "\n",
      "See the caveats in the documentation: https://pandas.pydata.org/pandas-docs/stable/user_guide/indexing.html#returning-a-view-versus-a-copy\n",
      "  data_processed['tweet'] = data_processed['tweet'].apply(lambda x:re.sub(r'[^a-zA-Z\\s]', '', x))\n"
     ]
    },
    {
     "data": {
      "text/plain": [
       "0           as woman you shouldnt complain about cleani...\n",
       "1           boy dats coldtyga dwn bad for cuffin dat ho...\n",
       "2           dawg   you ever fuck bitch and she sta to c...\n",
       "3                                     she look like tranny\n",
       "4           the shit you hear about me might be true or...\n",
       "                               ...                        \n",
       "24778    yous muthafin lie    right his tl is trash  no...\n",
       "24779    youve gone and broke the wrong hea baby and dr...\n",
       "24780    young buck wanna eat dat nigguh like aint fuck...\n",
       "24781                youu got wild bitches tellin you lies\n",
       "24782    ruffled  ntac eileen dahlia  beautiful color c...\n",
       "Name: tweet, Length: 24783, dtype: object"
      ]
     },
     "execution_count": 18,
     "metadata": {},
     "output_type": "execute_result"
    }
   ],
   "source": [
    "# remove special and numeric characters\n",
    "data_processed['tweet'] = data_processed['tweet'].apply(lambda x:re.sub(r'[^a-zA-Z\\s]', '', x))\n",
    "data_processed['tweet']"
   ]
  },
  {
   "cell_type": "code",
   "execution_count": 19,
   "metadata": {},
   "outputs": [
    {
     "name": "stderr",
     "output_type": "stream",
     "text": [
      "C:\\Users\\Admin\\AppData\\Local\\Temp\\ipykernel_24412\\689008908.py:2: SettingWithCopyWarning: \n",
      "A value is trying to be set on a copy of a slice from a DataFrame.\n",
      "Try using .loc[row_indexer,col_indexer] = value instead\n",
      "\n",
      "See the caveats in the documentation: https://pandas.pydata.org/pandas-docs/stable/user_guide/indexing.html#returning-a-view-versus-a-copy\n",
      "  data_processed['tweet'] = data_processed['tweet'].apply(lambda x:re.sub(r'\\s+', ' ', x))\n"
     ]
    },
    {
     "data": {
      "text/plain": [
       "0         as woman you shouldnt complain about cleaning...\n",
       "1         boy dats coldtyga dwn bad for cuffin dat hoe ...\n",
       "2         dawg you ever fuck bitch and she sta to cry y...\n",
       "3                                     she look like tranny\n",
       "4         the shit you hear about me might be true or i...\n",
       "                               ...                        \n",
       "24778    yous muthafin lie right his tl is trash now mi...\n",
       "24779    youve gone and broke the wrong hea baby and dr...\n",
       "24780    young buck wanna eat dat nigguh like aint fuck...\n",
       "24781                youu got wild bitches tellin you lies\n",
       "24782    ruffled ntac eileen dahlia beautiful color com...\n",
       "Name: tweet, Length: 24783, dtype: object"
      ]
     },
     "execution_count": 19,
     "metadata": {},
     "output_type": "execute_result"
    }
   ],
   "source": [
    "# remove any double spaces\n",
    "data_processed['tweet'] = data_processed['tweet'].apply(lambda x:re.sub(r'\\s+', ' ', x))\n",
    "data_processed['tweet']"
   ]
  },
  {
   "cell_type": "code",
   "execution_count": 20,
   "metadata": {},
   "outputs": [
    {
     "name": "stderr",
     "output_type": "stream",
     "text": [
      "[nltk_data] Downloading package stopwords to\n",
      "[nltk_data]     C:\\Users\\Admin\\AppData\\Roaming\\nltk_data...\n",
      "[nltk_data]   Package stopwords is already up-to-date!\n"
     ]
    },
    {
     "data": {
      "text/plain": [
       "True"
      ]
     },
     "execution_count": 20,
     "metadata": {},
     "output_type": "execute_result"
    }
   ],
   "source": [
    "import nltk\n",
    "from nltk.corpus import stopwords\n",
    "nltk.download('stopwords')"
   ]
  },
  {
   "cell_type": "markdown",
   "metadata": {},
   "source": [
    "Additionally stopwords can be removed to only display keywords which may be curcial in identifying hate speech, offensive langauge tweets in datasets."
   ]
  },
  {
   "cell_type": "code",
   "execution_count": 21,
   "metadata": {},
   "outputs": [
    {
     "name": "stderr",
     "output_type": "stream",
     "text": [
      "C:\\Users\\Admin\\AppData\\Local\\Temp\\ipykernel_24412\\3851837317.py:3: SettingWithCopyWarning: \n",
      "A value is trying to be set on a copy of a slice from a DataFrame.\n",
      "Try using .loc[row_indexer,col_indexer] = value instead\n",
      "\n",
      "See the caveats in the documentation: https://pandas.pydata.org/pandas-docs/stable/user_guide/indexing.html#returning-a-view-versus-a-copy\n",
      "  data_processed['tweet'] = data_processed['tweet'].apply(lambda x: \" \".join(x for x in x.split() if x not in stop))\n"
     ]
    },
    {
     "data": {
      "text/plain": [
       "0        woman shouldnt complain cleaning house amp man...\n",
       "1        boy dats coldtyga dwn bad cuffin dat hoe st place\n",
       "2               dawg ever fuck bitch sta cry confused shit\n",
       "3                                         look like tranny\n",
       "4           shit hear might true might faker bitch told ya\n",
       "                               ...                        \n",
       "24778    yous muthafin lie right tl trash mine bible sc...\n",
       "24779    youve gone broke wrong hea baby drove redneck ...\n",
       "24780    young buck wanna eat dat nigguh like aint fuck...\n",
       "24781                    youu got wild bitches tellin lies\n",
       "24782    ruffled ntac eileen dahlia beautiful color com...\n",
       "Name: tweet, Length: 24783, dtype: object"
      ]
     },
     "execution_count": 21,
     "metadata": {},
     "output_type": "execute_result"
    }
   ],
   "source": [
    "# remove stopwords\n",
    "stop = stopwords.words('english')\n",
    "data_processed['tweet'] = data_processed['tweet'].apply(lambda x: \" \".join(x for x in x.split() if x not in stop))\n",
    "data_processed['tweet']\n"
   ]
  },
  {
   "cell_type": "markdown",
   "metadata": {},
   "source": [
    "## Cleaning twitterhate.csv As A Test set \n",
    "\n",
    "The above process can now be applied on the twitterhate.csv file which can be used as the test set which will assist in anomly detction for misinformation/hate speech. "
   ]
  },
  {
   "cell_type": "code",
   "execution_count": 22,
   "metadata": {},
   "outputs": [
    {
     "name": "stdout",
     "output_type": "stream",
     "text": [
      "   id  label                                              tweet\n",
      "0   1      0   @user when a father is dysfunctional and is s...\n",
      "1   2      0  @user @user thanks for #lyft credit i can't us...\n",
      "2   3      0                                bihday your majesty\n",
      "3   4      0  #model   i love u take with u all the time in ...\n",
      "4   5      0             factsguide: society now    #motivation\n",
      "Index(['id', 'label', 'tweet'], dtype='object')\n"
     ]
    }
   ],
   "source": [
    "# Load the TwitterHate dataset\n",
    "twitter_hate_data = pd.read_csv('TwitterHate.csv')\n",
    "\n",
    "# Display the first few rows of the TwitterHate dataset to inspect its structure\n",
    "print(twitter_hate_data.head())\n",
    "\n",
    "# Display the column names to check what keys are available for merging\n",
    "print(twitter_hate_data.columns)\n"
   ]
  },
  {
   "cell_type": "markdown",
   "metadata": {},
   "source": [
    "## Loading The Dataset \n",
    "\n",
    "- The twitterhate.csv file is loaded into the variable name twitter_hate_data. This is then used to condut initial analysis on the data.\n",
    "- The variables on this csv file are id, label and tweet. \n",
    "\n",
    "Below is a list explaining each variable \n",
    "- label: CLasifies the data as either 0 or 1, 0: Non-hate, 1:Hate speech (Integer) </br>\n",
    "- tweet: The tweet which the classficiations are being made on (String) </br>\n",
    "\n",
    "NOTE: The id column looks to be an index column."
   ]
  },
  {
   "cell_type": "code",
   "execution_count": 23,
   "metadata": {},
   "outputs": [
    {
     "name": "stdout",
     "output_type": "stream",
     "text": [
      "\n",
      "Twitter Hate Data first 10 rows:\n",
      "   id  label                                              tweet\n",
      "0   1      0   @user when a father is dysfunctional and is s...\n",
      "1   2      0  @user @user thanks for #lyft credit i can't us...\n",
      "2   3      0                                bihday your majesty\n",
      "3   4      0  #model   i love u take with u all the time in ...\n",
      "4   5      0             factsguide: society now    #motivation\n",
      "5   6      0  [2/2] huge fan fare and big talking before the...\n",
      "6   7      0   @user camping tomorrow @user @user @user @use...\n",
      "7   8      0  the next school year is the year for exams.ð...\n",
      "8   9      0  we won!!! love the land!!! #allin #cavs #champ...\n",
      "9  10      0   @user @user welcome here !  i'm   it's so #gr...\n",
      "\n",
      "Twitter Hate Data Info:\n",
      "<class 'pandas.core.frame.DataFrame'>\n",
      "RangeIndex: 31962 entries, 0 to 31961\n",
      "Data columns (total 3 columns):\n",
      " #   Column  Non-Null Count  Dtype \n",
      "---  ------  --------------  ----- \n",
      " 0   id      31962 non-null  int64 \n",
      " 1   label   31962 non-null  int64 \n",
      " 2   tweet   31962 non-null  object\n",
      "dtypes: int64(2), object(1)\n",
      "memory usage: 749.2+ KB\n",
      "None\n"
     ]
    }
   ],
   "source": [
    "# Display the first few rows of the 2nd dataset\n",
    "print(\"\\nTwitter Hate Data first 10 rows:\")\n",
    "print(twitter_hate_data.head(10))\n",
    "\n",
    "# Check the structure and column names\n",
    "print(\"\\nTwitter Hate Data Info:\")\n",
    "print(twitter_hate_data.info())\n",
    "\n"
   ]
  },
  {
   "cell_type": "code",
   "execution_count": 24,
   "metadata": {
    "scrolled": true
   },
   "outputs": [
    {
     "name": "stdout",
     "output_type": "stream",
     "text": [
      "\n",
      "Twitter Hate Data Description:\n"
     ]
    },
    {
     "data": {
      "text/html": [
       "<div>\n",
       "<style scoped>\n",
       "    .dataframe tbody tr th:only-of-type {\n",
       "        vertical-align: middle;\n",
       "    }\n",
       "\n",
       "    .dataframe tbody tr th {\n",
       "        vertical-align: top;\n",
       "    }\n",
       "\n",
       "    .dataframe thead th {\n",
       "        text-align: right;\n",
       "    }\n",
       "</style>\n",
       "<table border=\"1\" class=\"dataframe\">\n",
       "  <thead>\n",
       "    <tr style=\"text-align: right;\">\n",
       "      <th></th>\n",
       "      <th>id</th>\n",
       "      <th>label</th>\n",
       "    </tr>\n",
       "  </thead>\n",
       "  <tbody>\n",
       "    <tr>\n",
       "      <th>count</th>\n",
       "      <td>31962.000000</td>\n",
       "      <td>31962.000000</td>\n",
       "    </tr>\n",
       "    <tr>\n",
       "      <th>mean</th>\n",
       "      <td>15981.500000</td>\n",
       "      <td>0.070146</td>\n",
       "    </tr>\n",
       "    <tr>\n",
       "      <th>std</th>\n",
       "      <td>9226.778988</td>\n",
       "      <td>0.255397</td>\n",
       "    </tr>\n",
       "    <tr>\n",
       "      <th>min</th>\n",
       "      <td>1.000000</td>\n",
       "      <td>0.000000</td>\n",
       "    </tr>\n",
       "    <tr>\n",
       "      <th>25%</th>\n",
       "      <td>7991.250000</td>\n",
       "      <td>0.000000</td>\n",
       "    </tr>\n",
       "    <tr>\n",
       "      <th>50%</th>\n",
       "      <td>15981.500000</td>\n",
       "      <td>0.000000</td>\n",
       "    </tr>\n",
       "    <tr>\n",
       "      <th>75%</th>\n",
       "      <td>23971.750000</td>\n",
       "      <td>0.000000</td>\n",
       "    </tr>\n",
       "    <tr>\n",
       "      <th>max</th>\n",
       "      <td>31962.000000</td>\n",
       "      <td>1.000000</td>\n",
       "    </tr>\n",
       "  </tbody>\n",
       "</table>\n",
       "</div>"
      ],
      "text/plain": [
       "                 id         label\n",
       "count  31962.000000  31962.000000\n",
       "mean   15981.500000      0.070146\n",
       "std     9226.778988      0.255397\n",
       "min        1.000000      0.000000\n",
       "25%     7991.250000      0.000000\n",
       "50%    15981.500000      0.000000\n",
       "75%    23971.750000      0.000000\n",
       "max    31962.000000      1.000000"
      ]
     },
     "execution_count": 24,
     "metadata": {},
     "output_type": "execute_result"
    }
   ],
   "source": [
    "print(\"\\nTwitter Hate Data Description:\")\n",
    "twitter_hate_data.describe()"
   ]
  },
  {
   "cell_type": "markdown",
   "metadata": {},
   "source": [
    "Looking at the statistical data analysis (ignoring the id column) it can be said that:\n",
    "\n",
    "- Label: The mean of 0.07 indictaes that 7% of the tweets are classfied as hate speech. A standard deviation of 0.26 can reflect most of the values in the coloumn being close to the mean. At least 75% of the data is not classfied as hate speech as the 25th, 50th and 75th percentile are all 0. "
   ]
  },
  {
   "cell_type": "code",
   "execution_count": 25,
   "metadata": {},
   "outputs": [
    {
     "name": "stdout",
     "output_type": "stream",
     "text": [
      "\n",
      "Missing values in Twitter Hate Data:\n",
      "id       0\n",
      "label    0\n",
      "tweet    0\n",
      "dtype: int64\n",
      "\n",
      "Duplicated values in Twitter Hate Data:\n",
      "0\n",
      "\n",
      "N/a values in Twitter Hate Data:\n",
      "id       0\n",
      "label    0\n",
      "tweet    0\n",
      "dtype: int64\n",
      "\n",
      "Unique values in 'label' column (Twitter Hate Data):\n",
      "[0 1]\n",
      "\n",
      "Value counts for 'label' in Twitter Hate Data:\n",
      "label\n",
      "0    29720\n",
      "1     2242\n",
      "Name: count, dtype: int64\n"
     ]
    }
   ],
   "source": [
    "# Check for missing values\n",
    "print(\"\\nMissing values in Twitter Hate Data:\")\n",
    "print(twitter_hate_data.isnull().sum())\n",
    "\n",
    "#Check for duplicated values \n",
    "print(\"\\nDuplicated values in Twitter Hate Data:\")\n",
    "print(twitter_hate_data.duplicated().sum())\n",
    "\n",
    "#Check for nas in the dataset\n",
    "print(\"\\nN/a values in Twitter Hate Data:\")\n",
    "print(twitter_hate_data.isna().sum())\n",
    "\n",
    "# Get unique values in categorical columns (e.g., 'class' and 'label')\n",
    "print(\"\\nUnique values in 'label' column (Twitter Hate Data):\")\n",
    "print(twitter_hate_data['label'].unique())\n",
    "\n",
    "# Value counts for each label\n",
    "print(\"\\nValue counts for 'label' in Twitter Hate Data:\")\n",
    "print(twitter_hate_data['label'].value_counts())\n"
   ]
  },
  {
   "cell_type": "markdown",
   "metadata": {},
   "source": [
    "This dataset has no missing values, only 0 or 1 values in the label column and a total of 31,962 tweets. \n",
    "Additionally the dataset has no duplicated values or n/a values."
   ]
  },
  {
   "cell_type": "markdown",
   "metadata": {},
   "source": [
    "## Data Processing PART 2\n",
    "\n",
    "- The data preprocessing stage is important to turn the raw data (twitterhate.csv) into clean data that can then be used for training and testing. "
   ]
  },
  {
   "cell_type": "markdown",
   "metadata": {},
   "source": [
    "The next steps that must be taken after the intial data analysis is data preprocessing. Here the dataset is taken and the following elements are removed from the dataset: \n",
    "\n",
    "- urls\n",
    "- usernames (especially for anonymity)\n",
    "- emojis\n",
    "- punctuation\n",
    "- single characters + double spaces\n",
    "\n",
    "The following are processed to ensure clarity in the data:\n",
    "\n",
    "- Turning everything lowercase"
   ]
  },
  {
   "cell_type": "code",
   "execution_count": 26,
   "metadata": {},
   "outputs": [
    {
     "name": "stdout",
     "output_type": "stream",
     "text": [
      "Most common words in Twitter Hate Data:\n",
      " user    17495\n",
      "the     10192\n",
      "to       9843\n",
      "you      5456\n",
      "and      4895\n",
      "in       4653\n",
      "for      4496\n",
      "is       4185\n",
      "of       4178\n",
      "my       3691\n",
      "Name: count, dtype: int64\n"
     ]
    }
   ],
   "source": [
    "# Data preprocessing for the 'tweet' column (Twitter Hate Data)\n",
    "twitter_hate_data['tweet'] = twitter_hate_data['tweet'].apply(lambda x: re.sub(r'https?://\\S+', '', x))  # remove URLs\n",
    "twitter_hate_data['tweet'] = twitter_hate_data['tweet'].apply(lambda x: \" \".join(x.lower() for x in x.split()))  # lowercase\n",
    "twitter_hate_data['tweet'] = twitter_hate_data['tweet'].apply(lambda x: re.sub(r'[^\\w\\s]', '', x))  # remove punctuation\n",
    "twitter_hate_data['tweet'] = twitter_hate_data['tweet'].apply(lambda x: re.sub(r'\\s+[a-zA-Z]\\s+', ' ', x))  # remove single characters\n",
    "twitter_hate_data['tweet'] = twitter_hate_data['tweet'].apply(lambda x: re.sub(r'@\\w+', '', x))  # remove usernames\n",
    "twitter_hate_data['tweet'] = twitter_hate_data['tweet'].apply(lambda x: x.encode('ascii', 'ignore').decode('ascii'))  # remove emojis\n",
    "twitter_hate_data['tweet'] = twitter_hate_data['tweet'].apply(lambda x:re.sub(r'\\s+', ' ', x))  # remove double spaces\n",
    "\n",
    "# Most common words in Twitter Hate Data\n",
    "freq_twitter_hate = pd.Series(' '.join(twitter_hate_data['tweet']).split()).value_counts()[:10]\n",
    "print(\"Most common words in Twitter Hate Data:\\n\", freq_twitter_hate)"
   ]
  },
  {
   "cell_type": "markdown",
   "metadata": {},
   "source": [
    "After removing emojis, usernames/handles, single charters, double spaces, punctuations, lowercases and URLs, the most common words are generated to understand what is the most common words amongst tweets. "
   ]
  },
  {
   "cell_type": "code",
   "execution_count": 27,
   "metadata": {},
   "outputs": [
    {
     "name": "stdout",
     "output_type": "stream",
     "text": [
      "0    user father dysfunctional selfish drags kids d...\n",
      "1    user user thanks lyft credit cant use cause do...\n",
      "2                                       bihday majesty\n",
      "3                              model love take time ur\n",
      "4                        factsguide society motivation\n",
      "Name: tweet, dtype: object\n"
     ]
    }
   ],
   "source": [
    "# Remove stopwords\n",
    "twitter_hate_data['tweet'] = twitter_hate_data['tweet'].apply(lambda x: \" \".join(x for x in x.split() if x not in stop))\n",
    "# Display the cleaned dataset for verification\n",
    "print(twitter_hate_data['tweet'].head())"
   ]
  },
  {
   "cell_type": "markdown",
   "metadata": {},
   "source": [
    "Additionally stopwords can be removed to only display keywords which may be curcial in identifying hate speech, offensive langauge tweets in datasets."
   ]
  },
  {
   "cell_type": "code",
   "execution_count": 28,
   "metadata": {},
   "outputs": [
    {
     "name": "stdout",
     "output_type": "stream",
     "text": [
      "0    father dysfunctional selfish drags kids dysfun...\n",
      "1    thanks lyft credit cant use cause dont offer w...\n",
      "2                                       bihday majesty\n",
      "3                              model love take time ur\n",
      "4                        factsguide society motivation\n",
      "Name: tweet, dtype: object\n"
     ]
    }
   ],
   "source": [
    "# add an additional stopword 'user' to remove from twitter hate data\n",
    "stop.append('user')\n",
    "twitter_hate_data['tweet'] = twitter_hate_data['tweet'].apply(lambda x: \" \".join(x for x in x.split() if x not in stop))\n",
    "# Display the cleaned dataset for verification\n",
    "print(twitter_hate_data['tweet'].head())\n"
   ]
  },
  {
   "cell_type": "code",
   "execution_count": 29,
   "metadata": {},
   "outputs": [
    {
     "name": "stdout",
     "output_type": "stream",
     "text": [
      "Most common words in Twitter Hate Data:\n",
      " love     2725\n",
      "day      2253\n",
      "happy    1691\n",
      "amp      1601\n",
      "im       1156\n",
      "life     1126\n",
      "time     1126\n",
      "like     1052\n",
      "today    1004\n",
      "new       988\n",
      "Name: count, dtype: int64\n",
      "          id  label                                              tweet\n",
      "6          7      0                             camping tomorrow danny\n",
      "8          9      0  love land allin cavs champions cleveland cleve...\n",
      "22        23      0  product day happy man wine tool whos weekend t...\n",
      "64        65      0  wife adore miss poland show surgery name bridg...\n",
      "73        74      0  ferrari sake championship gp clearly turning p...\n",
      "...      ...    ...                                                ...\n",
      "31867  31868      0                     want cereal amp aint tryna get\n",
      "31881  31882      0  please like amp share agree dna dnaquotes quot...\n",
      "31933  31934      1  judd amp homophobic freemilo milo freemilo mil...\n",
      "31935  31936      0  ugh im trying enjoy happy hour drink amp talks...\n",
      "31942  31943      0            week flying humpday wednesday kamp ucsd\n",
      "\n",
      "[1907 rows x 3 columns]\n"
     ]
    }
   ],
   "source": [
    "# check frequent words\n",
    "freq_twitter_hate = pd.Series(' '.join(twitter_hate_data['tweet']).split()).value_counts()[:10]\n",
    "# check the most common words\n",
    "print(\"Most common words in Twitter Hate Data:\\n\", freq_twitter_hate)\n",
    "# filter rows where the word 'amp' is present in the tweet column and like see if it is 1 word or part of another word\n",
    "print(twitter_hate_data[twitter_hate_data['tweet'].str.contains('amp')])\n"
   ]
  },
  {
   "cell_type": "code",
   "execution_count": 30,
   "metadata": {},
   "outputs": [
    {
     "name": "stdout",
     "output_type": "stream",
     "text": [
      "22                           product day happy man wine tool whos weekend time open amp drink\n",
      "64                       wife adore miss poland show surgery name bridget amp shes everything\n",
      "82                                       altright uses amp insecurity lure men whitesupremacy\n",
      "111    im interested linguistics doesnt address race amp racism power raciolinguistics brings\n",
      "163                                                                  soed nut amp bolts bloke\n",
      "Name: tweet, dtype: object\n",
      "Most common words in Twitter Hate Data:\n",
      " love        2725\n",
      "day         2253\n",
      "happy       1691\n",
      "im          1156\n",
      "life        1126\n",
      "time        1126\n",
      "like        1052\n",
      "today       1004\n",
      "new          988\n",
      "positive     934\n",
      "Name: count, dtype: int64\n"
     ]
    }
   ],
   "source": [
    "# show 5 rows where the word 'amp' is present in the tweet column and display the tweet column, 1 easy way to check if 'amp' is a separate word or part of another word\n",
    "# is by regex if there is a space before and after the word 'amp' then it is a separate word\n",
    "# Adjust pandas settings to display full content of the cell\n",
    "pd.set_option('display.max_colwidth', None)\n",
    "print(twitter_hate_data[twitter_hate_data['tweet'].str.contains(r'\\samp\\s')]['tweet'].head())\n",
    "   \n",
    "\n",
    "# add an additional stopword 'amp' to remove from twitter hate data\n",
    "stop.append('amp')\n",
    "twitter_hate_data['tweet'] = twitter_hate_data['tweet'].apply(lambda x: \" \".join(x for x in x.split() if x not in stop))\n",
    "# check frequent words\n",
    "freq_twitter_hate = pd.Series(' '.join(twitter_hate_data['tweet']).split()).value_counts()[:10]\n",
    "# check the most common words\n",
    "print(\"Most common words in Twitter Hate Data:\\n\", freq_twitter_hate)\n"
   ]
  },
  {
   "cell_type": "markdown",
   "metadata": {},
   "source": [
    "After examining the most common words list for twitterhate.csv the word 'amp' was the fourth most common word amongst 31,962 tweets. To ensure that amp wasnt apart of another word which may disrupt the flow of the tweet and thus removing crucial information and signifcance the first five rows were analised of where amp appears. This ensured that amp was in fact a word on its own and not apart of another word. This word is added to the stopword list which allows space for another more common word that carries more meaning and will assist in the testing and training of this project. "
   ]
  },
  {
   "cell_type": "code",
   "execution_count": 31,
   "metadata": {},
   "outputs": [
    {
     "name": "stdout",
     "output_type": "stream",
     "text": [
      "class\n",
      "1    19190\n",
      "2     4163\n",
      "0     1430\n",
      "Name: count, dtype: int64\n",
      "label\n",
      "0    29720\n",
      "1     2242\n",
      "Name: count, dtype: int64\n"
     ]
    }
   ],
   "source": [
    "# show the classes for both datasets\n",
    "print(data_processed['class'].value_counts())\n",
    "print(twitter_hate_data['label'].value_counts())\n"
   ]
  },
  {
   "cell_type": "markdown",
   "metadata": {},
   "source": [
    "for data processed, 1 is offensive, 2 is hate and 0 is normal\n",
    "for twitter hate, 0 is normal and 1 is hate "
   ]
  },
  {
   "cell_type": "code",
   "execution_count": 32,
   "metadata": {},
   "outputs": [
    {
     "name": "stderr",
     "output_type": "stream",
     "text": [
      "C:\\Users\\Admin\\AppData\\Local\\Temp\\ipykernel_24412\\3679183048.py:2: SettingWithCopyWarning: \n",
      "A value is trying to be set on a copy of a slice from a DataFrame\n",
      "\n",
      "See the caveats in the documentation: https://pandas.pydata.org/pandas-docs/stable/user_guide/indexing.html#returning-a-view-versus-a-copy\n",
      "  data_processed.rename(columns={'class': 'label'}, inplace=True)\n"
     ]
    }
   ],
   "source": [
    "# rename the column 'class' to 'label' in the first dataset\n",
    "data_processed.rename(columns={'class': 'label'}, inplace=True)\n"
   ]
  },
  {
   "cell_type": "code",
   "execution_count": 33,
   "metadata": {},
   "outputs": [
    {
     "name": "stdout",
     "output_type": "stream",
     "text": [
      "Index(['tweet', 'label'], dtype='object')\n"
     ]
    }
   ],
   "source": [
    "# check the column names to confirm the change\n",
    "print(data_processed.columns)"
   ]
  },
  {
   "cell_type": "code",
   "execution_count": 34,
   "metadata": {},
   "outputs": [
    {
     "name": "stdout",
     "output_type": "stream",
     "text": [
      "[0 2]\n"
     ]
    }
   ],
   "source": [
    "# replace all the \"1\" values in twitter hate data with 2 to match the classes in the first dataset\n",
    "twitter_hate_data['label'] = twitter_hate_data['label'].replace(1, 2)\n",
    "# check the unique values in the 'label' column\n",
    "print(twitter_hate_data['label'].unique())"
   ]
  },
  {
   "cell_type": "code",
   "execution_count": 35,
   "metadata": {},
   "outputs": [],
   "source": [
    "# combine the two datasets to balance the classes on the label column\n",
    "combined_data = pd.concat([data_processed, twitter_hate_data], axis=0)"
   ]
  },
  {
   "cell_type": "code",
   "execution_count": 36,
   "metadata": {},
   "outputs": [
    {
     "name": "stdout",
     "output_type": "stream",
     "text": [
      "(56745, 3)\n",
      "label\n",
      "0    31150\n",
      "1    19190\n",
      "2     6405\n",
      "Name: count, dtype: int64\n"
     ]
    }
   ],
   "source": [
    "# check the shape of the combined dataset\n",
    "print(combined_data.shape)\n",
    "# check the classes in the combined dataset\n",
    "print(combined_data['label'].value_counts())\n"
   ]
  },
  {
   "cell_type": "code",
   "execution_count": 37,
   "metadata": {},
   "outputs": [
    {
     "name": "stdout",
     "output_type": "stream",
     "text": [
      "label\n",
      "0    6405\n",
      "1    6405\n",
      "2    6405\n",
      "Name: count, dtype: int64\n"
     ]
    }
   ],
   "source": [
    "# artificially balance the classes\n",
    "# get the count of the least common class\n",
    "min_class = combined_data['label'].value_counts().min()\n",
    "# sample the data to get the same number of samples for each class\n",
    "combined_data = combined_data.groupby('label').apply(lambda x: x.sample(min_class)).reset_index(drop=True)\n",
    "# check the classes in the combined dataset\n",
    "print(combined_data['label'].value_counts())\n"
   ]
  },
  {
   "cell_type": "code",
   "execution_count": 38,
   "metadata": {},
   "outputs": [],
   "source": [
    "# duplicate combined data into another dataframe to avoid modifying the original data\n",
    "combined_data_BERT = combined_data.copy()\n"
   ]
  },
  {
   "cell_type": "markdown",
   "metadata": {},
   "source": [
    "# Model Building"
   ]
  },
  {
   "cell_type": "markdown",
   "metadata": {},
   "source": [
    "After cleaning and pre processing the data above it is time to start creating appropriate models by training and testing data. \n",
    "\n",
    "Librarys from tenserflow and keras are loaded to utilise tokenisation, embedding, LSTM and more!"
   ]
  },
  {
   "cell_type": "code",
   "execution_count": 39,
   "metadata": {},
   "outputs": [],
   "source": [
    "from tensorflow.keras.preprocessing.text import Tokenizer\n",
    "from tensorflow.keras.preprocessing.sequence import pad_sequences\n",
    "from tensorflow.keras.models import Sequential\n",
    "from tensorflow.keras.layers import Embedding, LSTM, Dense, Dropout\n",
    "\n",
    "from keras.utils import to_categorical\n",
    "from keras import backend as K"
   ]
  },
  {
   "cell_type": "markdown",
   "metadata": {},
   "source": [
    "The first step is to remove leading and trailing whitespace from each string in the preprocessed dataset 'tweet'. AFter strippoing it will convert each string into a boolean value. "
   ]
  },
  {
   "cell_type": "code",
   "execution_count": 40,
   "metadata": {},
   "outputs": [],
   "source": [
    "data_processed = combined_data[combined_data['tweet'].str.strip().astype(bool)]"
   ]
  },
  {
   "cell_type": "markdown",
   "metadata": {},
   "source": [
    "### Hugging face - Distilbert \n",
    "\n",
    "After looking through the different available models on hugging face, distilbert snetiment analysis model is selected to be applied on the mode. \n",
    "\n",
    "To do this transformers datasets and tf keras is intsalled "
   ]
  },
  {
   "cell_type": "code",
   "execution_count": 40,
   "metadata": {},
   "outputs": [
    {
     "name": "stdout",
     "output_type": "stream",
     "text": [
      "Requirement already satisfied: transformers in c:\\users\\abdul\\appdata\\local\\programs\\python\\python310\\lib\\site-packages (4.45.2)\n",
      "Requirement already satisfied: datasets in c:\\users\\abdul\\appdata\\local\\programs\\python\\python310\\lib\\site-packages (3.0.1)\n",
      "Requirement already satisfied: regex!=2019.12.17 in c:\\users\\abdul\\appdata\\local\\programs\\python\\python310\\lib\\site-packages (from transformers) (2024.9.11)\n",
      "Requirement already satisfied: huggingface-hub<1.0,>=0.23.2 in c:\\users\\abdul\\appdata\\local\\programs\\python\\python310\\lib\\site-packages (from transformers) (0.25.2)\n",
      "Requirement already satisfied: packaging>=20.0 in c:\\users\\abdul\\appdata\\roaming\\python\\python310\\site-packages (from transformers) (24.1)\n",
      "Requirement already satisfied: tqdm>=4.27 in c:\\users\\abdul\\appdata\\local\\programs\\python\\python310\\lib\\site-packages (from transformers) (4.66.5)\n",
      "Requirement already satisfied: requests in c:\\users\\abdul\\appdata\\local\\programs\\python\\python310\\lib\\site-packages (from transformers) (2.32.3)\n",
      "Requirement already satisfied: safetensors>=0.4.1 in c:\\users\\abdul\\appdata\\local\\programs\\python\\python310\\lib\\site-packages (from transformers) (0.4.5)\n",
      "Requirement already satisfied: numpy>=1.17 in c:\\users\\abdul\\appdata\\local\\programs\\python\\python310\\lib\\site-packages (from transformers) (1.26.4)\n",
      "Requirement already satisfied: filelock in c:\\users\\abdul\\appdata\\local\\programs\\python\\python310\\lib\\site-packages (from transformers) (3.16.1)\n",
      "Requirement already satisfied: pyyaml>=5.1 in c:\\users\\abdul\\appdata\\local\\programs\\python\\python310\\lib\\site-packages (from transformers) (6.0.2)\n",
      "Requirement already satisfied: tokenizers<0.21,>=0.20 in c:\\users\\abdul\\appdata\\local\\programs\\python\\python310\\lib\\site-packages (from transformers) (0.20.1)\n",
      "Requirement already satisfied: aiohttp in c:\\users\\abdul\\appdata\\local\\programs\\python\\python310\\lib\\site-packages (from datasets) (3.10.10)\n",
      "Requirement already satisfied: multiprocess in c:\\users\\abdul\\appdata\\local\\programs\\python\\python310\\lib\\site-packages (from datasets) (0.70.16)\n",
      "Requirement already satisfied: dill<0.3.9,>=0.3.0 in c:\\users\\abdul\\appdata\\local\\programs\\python\\python310\\lib\\site-packages (from datasets) (0.3.8)\n",
      "Requirement already satisfied: pyarrow>=15.0.0 in c:\\users\\abdul\\appdata\\local\\programs\\python\\python310\\lib\\site-packages (from datasets) (17.0.0)\n",
      "Requirement already satisfied: pandas in c:\\users\\abdul\\appdata\\local\\programs\\python\\python310\\lib\\site-packages (from datasets) (2.2.3)\n",
      "Requirement already satisfied: fsspec[http]<=2024.6.1,>=2023.1.0 in c:\\users\\abdul\\appdata\\local\\programs\\python\\python310\\lib\\site-packages (from datasets) (2024.6.1)\n",
      "Requirement already satisfied: xxhash in c:\\users\\abdul\\appdata\\local\\programs\\python\\python310\\lib\\site-packages (from datasets) (3.5.0)\n",
      "Requirement already satisfied: attrs>=17.3.0 in c:\\users\\abdul\\appdata\\local\\programs\\python\\python310\\lib\\site-packages (from aiohttp->datasets) (24.2.0)\n",
      "Requirement already satisfied: aiohappyeyeballs>=2.3.0 in c:\\users\\abdul\\appdata\\local\\programs\\python\\python310\\lib\\site-packages (from aiohttp->datasets) (2.4.3)\n",
      "Requirement already satisfied: aiosignal>=1.1.2 in c:\\users\\abdul\\appdata\\local\\programs\\python\\python310\\lib\\site-packages (from aiohttp->datasets) (1.3.1)\n",
      "Requirement already satisfied: async-timeout<5.0,>=4.0 in c:\\users\\abdul\\appdata\\local\\programs\\python\\python310\\lib\\site-packages (from aiohttp->datasets) (4.0.3)\n",
      "Requirement already satisfied: multidict<7.0,>=4.5 in c:\\users\\abdul\\appdata\\local\\programs\\python\\python310\\lib\\site-packages (from aiohttp->datasets) (6.1.0)\n",
      "Requirement already satisfied: yarl<2.0,>=1.12.0 in c:\\users\\abdul\\appdata\\local\\programs\\python\\python310\\lib\\site-packages (from aiohttp->datasets) (1.15.2)\n",
      "Requirement already satisfied: frozenlist>=1.1.1 in c:\\users\\abdul\\appdata\\local\\programs\\python\\python310\\lib\\site-packages (from aiohttp->datasets) (1.4.1)\n",
      "Requirement already satisfied: typing-extensions>=3.7.4.3 in c:\\users\\abdul\\appdata\\roaming\\python\\python310\\site-packages (from huggingface-hub<1.0,>=0.23.2->transformers) (4.12.2)\n",
      "Requirement already satisfied: idna<4,>=2.5 in c:\\users\\abdul\\appdata\\local\\programs\\python\\python310\\lib\\site-packages (from requests->transformers) (3.10)\n",
      "Requirement already satisfied: certifi>=2017.4.17 in c:\\users\\abdul\\appdata\\local\\programs\\python\\python310\\lib\\site-packages (from requests->transformers) (2024.8.30)\n",
      "Requirement already satisfied: urllib3<3,>=1.21.1 in c:\\users\\abdul\\appdata\\local\\programs\\python\\python310\\lib\\site-packages (from requests->transformers) (2.2.3)\n",
      "Requirement already satisfied: charset-normalizer<4,>=2 in c:\\users\\abdul\\appdata\\local\\programs\\python\\python310\\lib\\site-packages (from requests->transformers) (3.3.2)\n",
      "Requirement already satisfied: colorama in c:\\users\\abdul\\appdata\\roaming\\python\\python310\\site-packages (from tqdm>=4.27->transformers) (0.4.6)\n",
      "Requirement already satisfied: tzdata>=2022.7 in c:\\users\\abdul\\appdata\\local\\programs\\python\\python310\\lib\\site-packages (from pandas->datasets) (2024.1)\n",
      "Requirement already satisfied: python-dateutil>=2.8.2 in c:\\users\\abdul\\appdata\\roaming\\python\\python310\\site-packages (from pandas->datasets) (2.9.0.post0)\n",
      "Requirement already satisfied: pytz>=2020.1 in c:\\users\\abdul\\appdata\\local\\programs\\python\\python310\\lib\\site-packages (from pandas->datasets) (2024.1)\n",
      "Requirement already satisfied: six>=1.5 in c:\\users\\abdul\\appdata\\roaming\\python\\python310\\site-packages (from python-dateutil>=2.8.2->pandas->datasets) (1.16.0)\n",
      "Requirement already satisfied: propcache>=0.2.0 in c:\\users\\abdul\\appdata\\local\\programs\\python\\python310\\lib\\site-packages (from yarl<2.0,>=1.12.0->aiohttp->datasets) (0.2.0)\n",
      "Note: you may need to restart the kernel to use updated packages.\n"
     ]
    },
    {
     "name": "stderr",
     "output_type": "stream",
     "text": [
      "\n",
      "[notice] A new release of pip is available: 23.0.1 -> 24.2\n",
      "[notice] To update, run: python.exe -m pip install --upgrade pip\n"
     ]
    }
   ],
   "source": [
    "pip install transformers datasets"
   ]
  },
  {
   "cell_type": "code",
   "execution_count": 41,
   "metadata": {},
   "outputs": [
    {
     "name": "stdout",
     "output_type": "stream",
     "text": [
      "Requirement already satisfied: tf-keras in c:\\users\\abdul\\appdata\\local\\programs\\python\\python310\\lib\\site-packages (2.17.0)\n",
      "Requirement already satisfied: tensorflow<2.18,>=2.17 in c:\\users\\abdul\\appdata\\local\\programs\\python\\python310\\lib\\site-packages (from tf-keras) (2.17.0)\n",
      "Requirement already satisfied: tensorflow-intel==2.17.0 in c:\\users\\abdul\\appdata\\local\\programs\\python\\python310\\lib\\site-packages (from tensorflow<2.18,>=2.17->tf-keras) (2.17.0)\n",
      "Requirement already satisfied: termcolor>=1.1.0 in c:\\users\\abdul\\appdata\\local\\programs\\python\\python310\\lib\\site-packages (from tensorflow-intel==2.17.0->tensorflow<2.18,>=2.17->tf-keras) (2.4.0)\n",
      "Requirement already satisfied: opt-einsum>=2.3.2 in c:\\users\\abdul\\appdata\\local\\programs\\python\\python310\\lib\\site-packages (from tensorflow-intel==2.17.0->tensorflow<2.18,>=2.17->tf-keras) (3.3.0)\n",
      "Requirement already satisfied: astunparse>=1.6.0 in c:\\users\\abdul\\appdata\\local\\programs\\python\\python310\\lib\\site-packages (from tensorflow-intel==2.17.0->tensorflow<2.18,>=2.17->tf-keras) (1.6.3)\n",
      "Requirement already satisfied: packaging in c:\\users\\abdul\\appdata\\roaming\\python\\python310\\site-packages (from tensorflow-intel==2.17.0->tensorflow<2.18,>=2.17->tf-keras) (24.1)\n",
      "Requirement already satisfied: absl-py>=1.0.0 in c:\\users\\abdul\\appdata\\local\\programs\\python\\python310\\lib\\site-packages (from tensorflow-intel==2.17.0->tensorflow<2.18,>=2.17->tf-keras) (2.1.0)\n",
      "Requirement already satisfied: wrapt>=1.11.0 in c:\\users\\abdul\\appdata\\local\\programs\\python\\python310\\lib\\site-packages (from tensorflow-intel==2.17.0->tensorflow<2.18,>=2.17->tf-keras) (1.16.0)\n",
      "Requirement already satisfied: numpy<2.0.0,>=1.23.5 in c:\\users\\abdul\\appdata\\local\\programs\\python\\python310\\lib\\site-packages (from tensorflow-intel==2.17.0->tensorflow<2.18,>=2.17->tf-keras) (1.26.4)\n",
      "Requirement already satisfied: h5py>=3.10.0 in c:\\users\\abdul\\appdata\\local\\programs\\python\\python310\\lib\\site-packages (from tensorflow-intel==2.17.0->tensorflow<2.18,>=2.17->tf-keras) (3.11.0)\n",
      "Requirement already satisfied: requests<3,>=2.21.0 in c:\\users\\abdul\\appdata\\local\\programs\\python\\python310\\lib\\site-packages (from tensorflow-intel==2.17.0->tensorflow<2.18,>=2.17->tf-keras) (2.32.3)\n",
      "Requirement already satisfied: ml-dtypes<0.5.0,>=0.3.1 in c:\\users\\abdul\\appdata\\local\\programs\\python\\python310\\lib\\site-packages (from tensorflow-intel==2.17.0->tensorflow<2.18,>=2.17->tf-keras) (0.4.1)\n",
      "Requirement already satisfied: flatbuffers>=24.3.25 in c:\\users\\abdul\\appdata\\local\\programs\\python\\python310\\lib\\site-packages (from tensorflow-intel==2.17.0->tensorflow<2.18,>=2.17->tf-keras) (24.3.25)\n",
      "Requirement already satisfied: typing-extensions>=3.6.6 in c:\\users\\abdul\\appdata\\roaming\\python\\python310\\site-packages (from tensorflow-intel==2.17.0->tensorflow<2.18,>=2.17->tf-keras) (4.12.2)\n",
      "Requirement already satisfied: grpcio<2.0,>=1.24.3 in c:\\users\\abdul\\appdata\\local\\programs\\python\\python310\\lib\\site-packages (from tensorflow-intel==2.17.0->tensorflow<2.18,>=2.17->tf-keras) (1.66.1)\n",
      "Requirement already satisfied: keras>=3.2.0 in c:\\users\\abdul\\appdata\\local\\programs\\python\\python310\\lib\\site-packages (from tensorflow-intel==2.17.0->tensorflow<2.18,>=2.17->tf-keras) (3.5.0)\n",
      "Requirement already satisfied: setuptools in c:\\users\\abdul\\appdata\\local\\programs\\python\\python310\\lib\\site-packages (from tensorflow-intel==2.17.0->tensorflow<2.18,>=2.17->tf-keras) (65.5.0)\n",
      "Requirement already satisfied: gast!=0.5.0,!=0.5.1,!=0.5.2,>=0.2.1 in c:\\users\\abdul\\appdata\\local\\programs\\python\\python310\\lib\\site-packages (from tensorflow-intel==2.17.0->tensorflow<2.18,>=2.17->tf-keras) (0.6.0)\n",
      "Requirement already satisfied: libclang>=13.0.0 in c:\\users\\abdul\\appdata\\local\\programs\\python\\python310\\lib\\site-packages (from tensorflow-intel==2.17.0->tensorflow<2.18,>=2.17->tf-keras) (18.1.1)\n",
      "Requirement already satisfied: six>=1.12.0 in c:\\users\\abdul\\appdata\\roaming\\python\\python310\\site-packages (from tensorflow-intel==2.17.0->tensorflow<2.18,>=2.17->tf-keras) (1.16.0)\n",
      "Requirement already satisfied: tensorboard<2.18,>=2.17 in c:\\users\\abdul\\appdata\\local\\programs\\python\\python310\\lib\\site-packages (from tensorflow-intel==2.17.0->tensorflow<2.18,>=2.17->tf-keras) (2.17.1)\n",
      "Requirement already satisfied: tensorflow-io-gcs-filesystem>=0.23.1 in c:\\users\\abdul\\appdata\\local\\programs\\python\\python310\\lib\\site-packages (from tensorflow-intel==2.17.0->tensorflow<2.18,>=2.17->tf-keras) (0.31.0)\n",
      "Requirement already satisfied: protobuf!=4.21.0,!=4.21.1,!=4.21.2,!=4.21.3,!=4.21.4,!=4.21.5,<5.0.0dev,>=3.20.3 in c:\\users\\abdul\\appdata\\local\\programs\\python\\python310\\lib\\site-packages (from tensorflow-intel==2.17.0->tensorflow<2.18,>=2.17->tf-keras) (4.25.5)\n",
      "Requirement already satisfied: google-pasta>=0.1.1 in c:\\users\\abdul\\appdata\\local\\programs\\python\\python310\\lib\\site-packages (from tensorflow-intel==2.17.0->tensorflow<2.18,>=2.17->tf-keras) (0.2.0)\n",
      "Requirement already satisfied: wheel<1.0,>=0.23.0 in c:\\users\\abdul\\appdata\\local\\programs\\python\\python310\\lib\\site-packages (from astunparse>=1.6.0->tensorflow-intel==2.17.0->tensorflow<2.18,>=2.17->tf-keras) (0.44.0)\n",
      "Requirement already satisfied: namex in c:\\users\\abdul\\appdata\\local\\programs\\python\\python310\\lib\\site-packages (from keras>=3.2.0->tensorflow-intel==2.17.0->tensorflow<2.18,>=2.17->tf-keras) (0.0.8)\n",
      "Requirement already satisfied: rich in c:\\users\\abdul\\appdata\\local\\programs\\python\\python310\\lib\\site-packages (from keras>=3.2.0->tensorflow-intel==2.17.0->tensorflow<2.18,>=2.17->tf-keras) (13.8.1)\n",
      "Requirement already satisfied: optree in c:\\users\\abdul\\appdata\\local\\programs\\python\\python310\\lib\\site-packages (from keras>=3.2.0->tensorflow-intel==2.17.0->tensorflow<2.18,>=2.17->tf-keras) (0.12.1)\n",
      "Requirement already satisfied: idna<4,>=2.5 in c:\\users\\abdul\\appdata\\local\\programs\\python\\python310\\lib\\site-packages (from requests<3,>=2.21.0->tensorflow-intel==2.17.0->tensorflow<2.18,>=2.17->tf-keras) (3.10)\n",
      "Requirement already satisfied: urllib3<3,>=1.21.1 in c:\\users\\abdul\\appdata\\local\\programs\\python\\python310\\lib\\site-packages (from requests<3,>=2.21.0->tensorflow-intel==2.17.0->tensorflow<2.18,>=2.17->tf-keras) (2.2.3)\n",
      "Requirement already satisfied: charset-normalizer<4,>=2 in c:\\users\\abdul\\appdata\\local\\programs\\python\\python310\\lib\\site-packages (from requests<3,>=2.21.0->tensorflow-intel==2.17.0->tensorflow<2.18,>=2.17->tf-keras) (3.3.2)\n",
      "Requirement already satisfied: certifi>=2017.4.17 in c:\\users\\abdul\\appdata\\local\\programs\\python\\python310\\lib\\site-packages (from requests<3,>=2.21.0->tensorflow-intel==2.17.0->tensorflow<2.18,>=2.17->tf-keras) (2024.8.30)\n",
      "Requirement already satisfied: tensorboard-data-server<0.8.0,>=0.7.0 in c:\\users\\abdul\\appdata\\local\\programs\\python\\python310\\lib\\site-packages (from tensorboard<2.18,>=2.17->tensorflow-intel==2.17.0->tensorflow<2.18,>=2.17->tf-keras) (0.7.2)\n",
      "Requirement already satisfied: markdown>=2.6.8 in c:\\users\\abdul\\appdata\\local\\programs\\python\\python310\\lib\\site-packages (from tensorboard<2.18,>=2.17->tensorflow-intel==2.17.0->tensorflow<2.18,>=2.17->tf-keras) (3.7)\n",
      "Requirement already satisfied: werkzeug>=1.0.1 in c:\\users\\abdul\\appdata\\local\\programs\\python\\python310\\lib\\site-packages (from tensorboard<2.18,>=2.17->tensorflow-intel==2.17.0->tensorflow<2.18,>=2.17->tf-keras) (3.0.4)\n",
      "Requirement already satisfied: MarkupSafe>=2.1.1 in c:\\users\\abdul\\appdata\\local\\programs\\python\\python310\\lib\\site-packages (from werkzeug>=1.0.1->tensorboard<2.18,>=2.17->tensorflow-intel==2.17.0->tensorflow<2.18,>=2.17->tf-keras) (2.1.5)\n",
      "Requirement already satisfied: pygments<3.0.0,>=2.13.0 in c:\\users\\abdul\\appdata\\roaming\\python\\python310\\site-packages (from rich->keras>=3.2.0->tensorflow-intel==2.17.0->tensorflow<2.18,>=2.17->tf-keras) (2.18.0)\n",
      "Requirement already satisfied: markdown-it-py>=2.2.0 in c:\\users\\abdul\\appdata\\local\\programs\\python\\python310\\lib\\site-packages (from rich->keras>=3.2.0->tensorflow-intel==2.17.0->tensorflow<2.18,>=2.17->tf-keras) (3.0.0)\n",
      "Requirement already satisfied: mdurl~=0.1 in c:\\users\\abdul\\appdata\\local\\programs\\python\\python310\\lib\\site-packages (from markdown-it-py>=2.2.0->rich->keras>=3.2.0->tensorflow-intel==2.17.0->tensorflow<2.18,>=2.17->tf-keras) (0.1.2)\n",
      "Note: you may need to restart the kernel to use updated packages.\n"
     ]
    },
    {
     "name": "stderr",
     "output_type": "stream",
     "text": [
      "\n",
      "[notice] A new release of pip is available: 23.0.1 -> 24.2\n",
      "[notice] To update, run: python.exe -m pip install --upgrade pip\n"
     ]
    }
   ],
   "source": [
    "pip install tf-keras"
   ]
  },
  {
   "cell_type": "markdown",
   "metadata": {},
   "source": [
    "The model distilbert model is installed which is the sentiment analysis model. This snetiment analysis is specifically applied on the tweet column (variable). This essentially analysis the tweet and detects if the tweet is positive, negative or neutral. \n",
    "\n",
    "To ensure it has been applied successfully the sentiment column is printed out. "
   ]
  },
  {
   "cell_type": "code",
   "execution_count": 42,
   "metadata": {},
   "outputs": [
    {
     "name": "stderr",
     "output_type": "stream",
     "text": [
      "c:\\Users\\abdul\\AppData\\Local\\Programs\\Python\\Python310\\lib\\site-packages\\tqdm\\auto.py:21: TqdmWarning: IProgress not found. Please update jupyter and ipywidgets. See https://ipywidgets.readthedocs.io/en/stable/user_install.html\n",
      "  from .autonotebook import tqdm as notebook_tqdm\n"
     ]
    },
    {
     "name": "stdout",
     "output_type": "stream",
     "text": [
      "WARNING:tensorflow:From c:\\Users\\abdul\\AppData\\Local\\Programs\\Python\\Python310\\lib\\site-packages\\tf_keras\\src\\losses.py:2976: The name tf.losses.sparse_softmax_cross_entropy is deprecated. Please use tf.compat.v1.losses.sparse_softmax_cross_entropy instead.\n",
      "\n",
      "WARNING:tensorflow:From c:\\Users\\abdul\\AppData\\Local\\Programs\\Python\\Python310\\lib\\site-packages\\tf_keras\\src\\backend.py:873: The name tf.get_default_graph is deprecated. Please use tf.compat.v1.get_default_graph instead.\n",
      "\n"
     ]
    },
    {
     "name": "stderr",
     "output_type": "stream",
     "text": [
      "All PyTorch model weights were used when initializing TFDistilBertForSequenceClassification.\n",
      "\n",
      "All the weights of TFDistilBertForSequenceClassification were initialized from the PyTorch model.\n",
      "If your task is similar to the task the model of the checkpoint was trained on, you can already use TFDistilBertForSequenceClassification for predictions without further training.\n"
     ]
    },
    {
     "name": "stdout",
     "output_type": "stream",
     "text": [
      "                                                                                  tweet  \\\n",
      "0                                                                               exactly   \n",
      "1                           happy bihday husband wish excellent bihday bihdayjohnnydepp   \n",
      "2                                                     far away place family members hus   \n",
      "3  motoz follows lgs track introduce us whole new world modular smaphones possibilities   \n",
      "4                               finally deciding sta book tube channel booktube reading   \n",
      "\n",
      "  sentiment  \n",
      "0  POSITIVE  \n",
      "1  POSITIVE  \n",
      "2  NEGATIVE  \n",
      "3  POSITIVE  \n",
      "4  NEGATIVE  \n"
     ]
    },
    {
     "name": "stderr",
     "output_type": "stream",
     "text": [
      "C:\\Users\\abdul\\AppData\\Local\\Temp\\ipykernel_4312\\2126189806.py:7: SettingWithCopyWarning: \n",
      "A value is trying to be set on a copy of a slice from a DataFrame.\n",
      "Try using .loc[row_indexer,col_indexer] = value instead\n",
      "\n",
      "See the caveats in the documentation: https://pandas.pydata.org/pandas-docs/stable/user_guide/indexing.html#returning-a-view-versus-a-copy\n",
      "  data_processed['sentiment'] = data_processed['tweet'].apply(lambda x: sentiment_pipeline(x)[0]['label'])\n"
     ]
    }
   ],
   "source": [
    "# --- DistilBERT Sentiment Analysis Integration ---\n",
    "from transformers import pipeline\n",
    "# Load the sentiment analysis model\n",
    "sentiment_pipeline = pipeline(\"sentiment-analysis\", model=\"distilbert-base-uncased-finetuned-sst-2-english\")\n",
    "\n",
    "# Apply sentiment analysis to the 'tweet' column\n",
    "data_processed['sentiment'] = data_processed['tweet'].apply(lambda x: sentiment_pipeline(x)[0]['label'])\n",
    "\n",
    "# Display the sentiment column for verification\n",
    "print(data_processed[['tweet', 'sentiment']].head())\n"
   ]
  },
  {
   "cell_type": "markdown",
   "metadata": {},
   "source": [
    "After applying the sentiment analysis model distilbert, it can be seen that tweet 0, 3 and 4 are postive tweets and tweets 1 and 2 are negative tweets which can be classified as hate speech/ hate tweets. "
   ]
  },
  {
   "cell_type": "code",
   "execution_count": 43,
   "metadata": {},
   "outputs": [
    {
     "data": {
      "image/png": "[encoded data removed]",
      "text/plain": [
       "<Figure size 640x480 with 1 Axes>"
      ]
     },
     "metadata": {},
     "output_type": "display_data"
    }
   ],
   "source": [
    "# Show the distribution of the sentiment column\n",
    "sns.histplot(data_processed['sentiment'])\n",
    "plt.title('Sentiment Distribution')\n",
    "plt.show()\n"
   ]
  },
  {
   "cell_type": "markdown",
   "metadata": {},
   "source": [
    "Applying the sentiment analysis on the dataset it can be seen that there is more than double the amount of negative tweets than positives. "
   ]
  },
  {
   "cell_type": "code",
   "execution_count": 44,
   "metadata": {},
   "outputs": [
    {
     "name": "stdout",
     "output_type": "stream",
     "text": [
      "                                                   tweet  label  id sentiment\n",
      "6406   everybody knows bitches love mullets pantiedropin      1 NaN  POSITIVE\n",
      "6407                                   yall niccas spark      1 NaN  POSITIVE\n",
      "6410                             niggas loving hoesthats      1 NaN  POSITIVE\n",
      "6428               completely topic idgaf pretty hoe tho      1 NaN  POSITIVE\n",
      "6438                                        thanks bitch      1 NaN  POSITIVE\n",
      "...                                                  ...    ...  ..       ...\n",
      "12778                                   gotta watch hoes      1 NaN  POSITIVE\n",
      "12779  dick called batman bitches love dark knight rises      1 NaN  POSITIVE\n",
      "12800  beautiful bride tell erica congrats remembers nig      1 NaN  POSITIVE\n",
      "12804                            pussy came gift wrapped      1 NaN  POSITIVE\n",
      "12806                                    yo miss ya cunt      1 NaN  POSITIVE\n",
      "\n",
      "[789 rows x 4 columns]\n"
     ]
    }
   ],
   "source": [
    "# Display any rows where the sentiment is positive and the label is 1\n",
    "print(data_processed[(data_processed['sentiment'] == 'POSITIVE') & (data_processed['label'] == 1)])\n"
   ]
  },
  {
   "cell_type": "code",
   "execution_count": 45,
   "metadata": {},
   "outputs": [
    {
     "name": "stdout",
     "output_type": "stream",
     "text": [
      "                                                                                                   tweet  \\\n",
      "12810                                                                                         oreos life   \n",
      "12812                                                          ive paying attention past year8 years hes   \n",
      "12815  thank every broad universe takes step forward ampputs colored contacts eyes thats one less person   \n",
      "12826                                         love watching birds migrate wish understood peaceful sight   \n",
      "12831                                    wonderful see intelligent woman stand ground condescending jerk   \n",
      "...                                                                                                  ...   \n",
      "19198                        bookreview lovecraft country 4 stars horror appropriate also funny mattruff   \n",
      "19201                                                                               never go full retard   \n",
      "19209                                                                         lets finish strong yankees   \n",
      "19210                                                                                 people realize jig   \n",
      "19211                 america great without assholes xenophobia lockerroomtalk arent maga notmypresident   \n",
      "\n",
      "       label       id sentiment  \n",
      "12810      2      NaN  POSITIVE  \n",
      "12812      2  12111.0  POSITIVE  \n",
      "12815      2      NaN  POSITIVE  \n",
      "12826      2      NaN  POSITIVE  \n",
      "12831      2  20034.0  POSITIVE  \n",
      "...      ...      ...       ...  \n",
      "19198      2  12002.0  POSITIVE  \n",
      "19201      2      NaN  POSITIVE  \n",
      "19209      2      NaN  POSITIVE  \n",
      "19210      2      NaN  POSITIVE  \n",
      "19211      2  14922.0  POSITIVE  \n",
      "\n",
      "[1580 rows x 4 columns]\n"
     ]
    }
   ],
   "source": [
    "print(data_processed[(data_processed['sentiment'] == 'POSITIVE') & (data_processed['label'] == 2)])"
   ]
  },
  {
   "cell_type": "code",
   "execution_count": null,
   "metadata": {},
   "outputs": [],
   "source": [
    "# --- BERT-based Token Classification for Explainability Integration ---\n",
    "# Load the pre-trained BERT model and tokenizer for token classification\n",
    "token_classifier = pipeline(\"token-classification\", model=\"dbmdz/bert-large-cased-finetuned-conll03-english\")\n",
    "\n",
    "# Apply token classification to the 'tweet' column for explainability\n",
    "data_processed['token_classification'] = data_processed['tweet'].apply(lambda x: token_classifier(x))\n",
    "\n",
    "# Display the token classification results for verification\n",
    "print(data_processed[['tweet', 'token_classification']].head())"
   ]
  },
  {
   "cell_type": "markdown",
   "metadata": {},
   "source": [
    "The data is taken and is split into training and testing sets to be used for creating the model"
   ]
  },
  {
   "cell_type": "code",
   "execution_count": 41,
   "metadata": {},
   "outputs": [],
   "source": [
    "# splitting the data into training and testing sets\n",
    "X_train, X_test, y_train, y_test = train_test_split(data_processed['tweet'], data_processed['label'], test_size=0.2, random_state=42)"
   ]
  },
  {
   "cell_type": "markdown",
   "metadata": {},
   "source": [
    "The data (tweets) gets tokenized in this step. \n",
    "- This done by converting the tweets into sequences of integers where each word is mapped to a unique token.\n",
    "- The tokenized sequences are fed into an embedding layer in a neural network\n",
    "- The vocabulary size, is computed to specify how many unique words are present in the dataset. \n",
    "\n",
    "The first five tweets are displayed after tokenization "
   ]
  },
  {
   "cell_type": "code",
   "execution_count": 42,
   "metadata": {},
   "outputs": [],
   "source": [
    "# tokenizing the tweets\n",
    "tokenizer = Tokenizer()\n",
    "tokenizer.fit_on_texts(data_processed['tweet']) # fit tokenizer on all tweets\n",
    "X_train = tokenizer.texts_to_sequences(X_train)\n",
    "X_test = tokenizer.texts_to_sequences(X_test)\n",
    "\n",
    "# vocabulary size for embedding layer\n",
    "vocab_size = len(tokenizer.word_index) + 1\n"
   ]
  },
  {
   "cell_type": "code",
   "execution_count": 43,
   "metadata": {},
   "outputs": [
    {
     "name": "stdout",
     "output_type": "stream",
     "text": [
      "[[152, 173, 74, 13, 3658, 14645, 1129], [40, 40, 40, 217, 75, 224, 10291, 2118, 166, 126, 2835, 5208, 436, 6815], [197, 680, 1149, 2834, 39, 1696, 832, 1531], [21, 6391, 198, 9, 3364], [266, 2, 100, 3426, 571, 819, 18316, 1672, 18317, 2252, 18318, 4541, 18319, 18320, 18321, 497, 561]]\n"
     ]
    }
   ],
   "source": [
    "# show the first 5 tweets after tokenization\n",
    "print(X_train[:5])\n"
   ]
  },
  {
   "cell_type": "markdown",
   "metadata": {},
   "source": [
    "To ensure that both test and train set of tokenized tweets have a uniform length it is uses padding. \n",
    "- This ensures compatibility with the models input requirements\n",
    "\n",
    "Additionally the First five tweets are shown after adding the padding. "
   ]
  },
  {
   "cell_type": "code",
   "execution_count": 44,
   "metadata": {},
   "outputs": [],
   "source": [
    "# padding to ensure uniform input size\n",
    "maxlen = max(len(seq) for seq in X_train)\n",
    "\n",
    "X_train = pad_sequences(X_train, maxlen = maxlen)\n",
    "X_test = pad_sequences(X_test, maxlen = maxlen)"
   ]
  },
  {
   "cell_type": "code",
   "execution_count": 45,
   "metadata": {},
   "outputs": [
    {
     "name": "stdout",
     "output_type": "stream",
     "text": [
      "[[    0     0     0     0     0     0     0     0     0     0     0     0\n",
      "      0     0     0     0     0     0     0     0   152   173    74    13\n",
      "   3658 14645  1129]\n",
      " [    0     0     0     0     0     0     0     0     0     0     0     0\n",
      "      0    40    40    40   217    75   224 10291  2118   166   126  2835\n",
      "   5208   436  6815]\n",
      " [    0     0     0     0     0     0     0     0     0     0     0     0\n",
      "      0     0     0     0     0     0     0   197   680  1149  2834    39\n",
      "   1696   832  1531]\n",
      " [    0     0     0     0     0     0     0     0     0     0     0     0\n",
      "      0     0     0     0     0     0     0     0     0     0    21  6391\n",
      "    198     9  3364]\n",
      " [    0     0     0     0     0     0     0     0     0     0   266     2\n",
      "    100  3426   571   819 18316  1672 18317  2252 18318  4541 18319 18320\n",
      "  18321   497   561]]\n"
     ]
    }
   ],
   "source": [
    "print(X_train[:5])"
   ]
  },
  {
   "cell_type": "markdown",
   "metadata": {},
   "source": [
    "The categorical labels, y_train and y_test, to one hot encoded vetcors. \n",
    "This ensures that each class is represented as a binary vector where only one position is 1, and the others are 0. This makes the labels compatible with the output of the neural network. "
   ]
  },
  {
   "cell_type": "code",
   "execution_count": 46,
   "metadata": {},
   "outputs": [],
   "source": [
    "# create hot encoded labels\n",
    "y_train = to_categorical(y_train)\n",
    "y_test = to_categorical(y_test)"
   ]
  },
  {
   "cell_type": "markdown",
   "metadata": {},
   "source": [
    "Looking at the training and testing sets there are: \n",
    "\n",
    "- 19,824 samples in the training set \n",
    "- 4,957 samples in the test set \n",
    "- The tweets are badded to a uniform length of 27 tokens \n",
    "- The labels have been one hot encoded into 3 classes, indicating a multi class classfication problem with possible outcomes. \n",
    "\n",
    "This means that the model will take as input 27 length, padded tweets and predict one of 3 class; Neither, offensive and hatespeech. "
   ]
  },
  {
   "cell_type": "code",
   "execution_count": 47,
   "metadata": {},
   "outputs": [
    {
     "name": "stdout",
     "output_type": "stream",
     "text": [
      "(15361, 27) (3841, 27) (15361, 3) (3841, 3)\n"
     ]
    }
   ],
   "source": [
    "# look at the shape of the data\n",
    "print(X_train.shape, X_test.shape, y_train.shape, y_test.shape)\n"
   ]
  },
  {
   "cell_type": "code",
   "execution_count": 48,
   "metadata": {},
   "outputs": [
    {
     "name": "stdout",
     "output_type": "stream",
     "text": [
      "[]\n"
     ]
    }
   ],
   "source": [
    "print([len(seq) for seq in X_train if len(seq) == 0])"
   ]
  },
  {
   "cell_type": "code",
   "execution_count": 49,
   "metadata": {},
   "outputs": [],
   "source": [
    "# handle empty sequences\n",
    "X_train = X_train[~np.all(X_train == 0, axis=1)]\n",
    "y_train = y_train[~np.all(y_train == 0, axis=1)]\n",
    "\n",
    "X_test = X_test[~np.all(X_test == 0, axis=1)]\n",
    "y_test = y_test[~np.all(y_test == 0, axis=1)]\n",
    "\n"
   ]
  },
  {
   "cell_type": "code",
   "execution_count": 50,
   "metadata": {},
   "outputs": [
    {
     "name": "stdout",
     "output_type": "stream",
     "text": [
      "[]\n"
     ]
    }
   ],
   "source": [
    "print([len(seq) for seq in X_train if len(seq) == 0])"
   ]
  },
  {
   "cell_type": "code",
   "execution_count": 51,
   "metadata": {},
   "outputs": [
    {
     "name": "stdout",
     "output_type": "stream",
     "text": [
      "[[    0     0     0     0     0     0     0     0     0     0     0     0\n",
      "      0     0     0     0     0     0     0     0   152   173    74    13\n",
      "   3658 14645  1129]\n",
      " [    0     0     0     0     0     0     0     0     0     0     0     0\n",
      "      0    40    40    40   217    75   224 10291  2118   166   126  2835\n",
      "   5208   436  6815]\n",
      " [    0     0     0     0     0     0     0     0     0     0     0     0\n",
      "      0     0     0     0     0     0     0   197   680  1149  2834    39\n",
      "   1696   832  1531]\n",
      " [    0     0     0     0     0     0     0     0     0     0     0     0\n",
      "      0     0     0     0     0     0     0     0     0     0    21  6391\n",
      "    198     9  3364]\n",
      " [    0     0     0     0     0     0     0     0     0     0   266     2\n",
      "    100  3426   571   819 18316  1672 18317  2252 18318  4541 18319 18320\n",
      "  18321   497   561]]\n",
      "Number of sequences in X_train: 15361\n"
     ]
    }
   ],
   "source": [
    "print(X_train[:5])  # Print the first 5 sequences\n",
    "print(f\"Number of sequences in X_train: {len(X_train)}\")\n"
   ]
  },
  {
   "cell_type": "markdown",
   "metadata": {},
   "source": [
    "Metrics are defined into functions to help assess the efficiency of the model that will be created. These metrics include: \n",
    "- Recall \n",
    "- Precision \n",
    "- F1 score "
   ]
  },
  {
   "cell_type": "code",
   "execution_count": 52,
   "metadata": {},
   "outputs": [],
   "source": [
    "import tensorflow as tf\n",
    "from tensorflow.keras import backend as K\n",
    "\n",
    "# create metrics for recall, precision and f1 score\n",
    "def recall_m(y_true, y_pred):\n",
    "    true_positives = tf.reduce_sum(K.round(K.clip(y_true * y_pred, 0, 1)))\n",
    "    possible_positives = tf.reduce_sum(K.round(K.clip(y_true, 0, 1)))\n",
    "    recall = true_positives / (possible_positives + K.epsilon())\n",
    "    return recall\n",
    "\n",
    "def precision_m(y_true, y_pred):\n",
    "    true_positives = tf.reduce_sum(K.round(K.clip(y_true * y_pred, 0, 1)))\n",
    "    predicted_positives = tf.reduce_sum(K.round(K.clip(y_pred, 0, 1)))\n",
    "    precision = true_positives / (predicted_positives + K.epsilon())\n",
    "    return precision\n",
    "\n",
    "def f1_m(y_true, y_pred):\n",
    "    precision = precision_m(y_true, y_pred)\n",
    "    recall = recall_m(y_true, y_pred)\n",
    "    return 2 * (precision * recall) / (precision + recall + K.epsilon())\n",
    "\n",
    "# Ensure the metrics return a tensor\n",
    "precision_m = tf.keras.metrics.Precision()\n",
    "recall_m = tf.keras.metrics.Recall()\n",
    "f1_m = tf.keras.metrics.Mean(name='f1_score')\n",
    "\n",
    "def f1_score(y_true, y_pred):\n",
    "    p = precision_m(y_true, y_pred)\n",
    "    r = recall_m(y_true, y_pred)\n",
    "    return 2 * (p * r) / (p + r + K.epsilon())\n",
    "\n",
    "def accuracy(y_true, y_pred):\n",
    "    return K.mean(K.equal(K.argmax(y_true, axis=1), K.argmax(y_pred, axis=1)))\n",
    "\n",
    "\n"
   ]
  },
  {
   "cell_type": "markdown",
   "metadata": {},
   "source": [
    "The intial (first) model is created using LSTM (long short term memory) neural network. This used to store data for future calculations. Additionally a density of 3 is used with softmax. The metrics used to analyise the efficiency of this model is accucarcy score, f1 score, precision and recall scores.\n",
    "\n",
    "To further elaborate on this mode the following can be said: \n",
    "\n",
    "- Classifies tweets into 3 categories using an embedding layer to convert the tokenized tweets into dense vectors.\n",
    "- An LTSM layer is used to capture sequential informate \n",
    "- A dense layer for multi class classification and outputs a probability distribution over 3 classes using softmax activation. \n",
    "\n"
   ]
  },
  {
   "cell_type": "code",
   "execution_count": 53,
   "metadata": {},
   "outputs": [],
   "source": [
    "from tensorflow.keras.layers import Input, MultiHeadAttention, LayerNormalization, Dropout, Dense\n",
    "from tensorflow.keras.models import Model"
   ]
  },
  {
   "cell_type": "code",
   "execution_count": 54,
   "metadata": {},
   "outputs": [],
   "source": [
    "#import globalaveragepooling1d\n",
    "from tensorflow.keras.layers import GlobalAveragePooling1D"
   ]
  },
  {
   "cell_type": "code",
   "execution_count": 55,
   "metadata": {},
   "outputs": [
    {
     "name": "stderr",
     "output_type": "stream",
     "text": [
      "c:\\Users\\Admin\\AppData\\Local\\Programs\\Python\\Python311\\Lib\\site-packages\\keras\\src\\layers\\core\\embedding.py:90: UserWarning: Argument `input_length` is deprecated. Just remove it.\n",
      "  warnings.warn(\n"
     ]
    },
    {
     "data": {
      "text/html": [
       "<pre style=\"white-space:pre;overflow-x:auto;line-height:normal;font-family:Menlo,'DejaVu Sans Mono',consolas,'Courier New',monospace\"><span style=\"font-weight: bold\">Model: \"functional\"</span>\n",
       "</pre>\n"
      ],
      "text/plain": [
       "\u001b[1mModel: \"functional\"\u001b[0m\n"
      ]
     },
     "metadata": {},
     "output_type": "display_data"
    },
    {
     "data": {
      "text/html": [
       "<pre style=\"white-space:pre;overflow-x:auto;line-height:normal;font-family:Menlo,'DejaVu Sans Mono',consolas,'Courier New',monospace\">┏━━━━━━━━━━━━━━━━━━━━━┳━━━━━━━━━━━━━━━━━━━┳━━━━━━━━━━━━┳━━━━━━━━━━━━━━━━━━━┓\n",
       "┃<span style=\"font-weight: bold\"> Layer (type)        </span>┃<span style=\"font-weight: bold\"> Output Shape      </span>┃<span style=\"font-weight: bold\">    Param # </span>┃<span style=\"font-weight: bold\"> Connected to      </span>┃\n",
       "┡━━━━━━━━━━━━━━━━━━━━━╇━━━━━━━━━━━━━━━━━━━╇━━━━━━━━━━━━╇━━━━━━━━━━━━━━━━━━━┩\n",
       "│ input_layer         │ (<span style=\"color: #00d7ff; text-decoration-color: #00d7ff\">None</span>, <span style=\"color: #00af00; text-decoration-color: #00af00\">27</span>)        │          <span style=\"color: #00af00; text-decoration-color: #00af00\">0</span> │ -                 │\n",
       "│ (<span style=\"color: #0087ff; text-decoration-color: #0087ff\">InputLayer</span>)        │                   │            │                   │\n",
       "├─────────────────────┼───────────────────┼────────────┼───────────────────┤\n",
       "│ embedding           │ (<span style=\"color: #00d7ff; text-decoration-color: #00d7ff\">None</span>, <span style=\"color: #00af00; text-decoration-color: #00af00\">27</span>, <span style=\"color: #00af00; text-decoration-color: #00af00\">200</span>)   │  <span style=\"color: #00af00; text-decoration-color: #00af00\">5,266,000</span> │ input_layer[<span style=\"color: #00af00; text-decoration-color: #00af00\">0</span>][<span style=\"color: #00af00; text-decoration-color: #00af00\">0</span>] │\n",
       "│ (<span style=\"color: #0087ff; text-decoration-color: #0087ff\">Embedding</span>)         │                   │            │                   │\n",
       "├─────────────────────┼───────────────────┼────────────┼───────────────────┤\n",
       "│ multi_head_attenti… │ (<span style=\"color: #00d7ff; text-decoration-color: #00d7ff\">None</span>, <span style=\"color: #00af00; text-decoration-color: #00af00\">27</span>, <span style=\"color: #00af00; text-decoration-color: #00af00\">200</span>)   │    <span style=\"color: #00af00; text-decoration-color: #00af00\">205,768</span> │ embedding[<span style=\"color: #00af00; text-decoration-color: #00af00\">0</span>][<span style=\"color: #00af00; text-decoration-color: #00af00\">0</span>],  │\n",
       "│ (<span style=\"color: #0087ff; text-decoration-color: #0087ff\">MultiHeadAttentio…</span> │                   │            │ embedding[<span style=\"color: #00af00; text-decoration-color: #00af00\">0</span>][<span style=\"color: #00af00; text-decoration-color: #00af00\">0</span>]   │\n",
       "├─────────────────────┼───────────────────┼────────────┼───────────────────┤\n",
       "│ dropout_1 (<span style=\"color: #0087ff; text-decoration-color: #0087ff\">Dropout</span>) │ (<span style=\"color: #00d7ff; text-decoration-color: #00d7ff\">None</span>, <span style=\"color: #00af00; text-decoration-color: #00af00\">27</span>, <span style=\"color: #00af00; text-decoration-color: #00af00\">200</span>)   │          <span style=\"color: #00af00; text-decoration-color: #00af00\">0</span> │ multi_head_atten… │\n",
       "├─────────────────────┼───────────────────┼────────────┼───────────────────┤\n",
       "│ add (<span style=\"color: #0087ff; text-decoration-color: #0087ff\">Add</span>)           │ (<span style=\"color: #00d7ff; text-decoration-color: #00d7ff\">None</span>, <span style=\"color: #00af00; text-decoration-color: #00af00\">27</span>, <span style=\"color: #00af00; text-decoration-color: #00af00\">200</span>)   │          <span style=\"color: #00af00; text-decoration-color: #00af00\">0</span> │ dropout_1[<span style=\"color: #00af00; text-decoration-color: #00af00\">0</span>][<span style=\"color: #00af00; text-decoration-color: #00af00\">0</span>],  │\n",
       "│                     │                   │            │ embedding[<span style=\"color: #00af00; text-decoration-color: #00af00\">0</span>][<span style=\"color: #00af00; text-decoration-color: #00af00\">0</span>]   │\n",
       "├─────────────────────┼───────────────────┼────────────┼───────────────────┤\n",
       "│ layer_normalization │ (<span style=\"color: #00d7ff; text-decoration-color: #00d7ff\">None</span>, <span style=\"color: #00af00; text-decoration-color: #00af00\">27</span>, <span style=\"color: #00af00; text-decoration-color: #00af00\">200</span>)   │        <span style=\"color: #00af00; text-decoration-color: #00af00\">400</span> │ add[<span style=\"color: #00af00; text-decoration-color: #00af00\">0</span>][<span style=\"color: #00af00; text-decoration-color: #00af00\">0</span>]         │\n",
       "│ (<span style=\"color: #0087ff; text-decoration-color: #0087ff\">LayerNormalizatio…</span> │                   │            │                   │\n",
       "├─────────────────────┼───────────────────┼────────────┼───────────────────┤\n",
       "│ global_average_poo… │ (<span style=\"color: #00d7ff; text-decoration-color: #00d7ff\">None</span>, <span style=\"color: #00af00; text-decoration-color: #00af00\">200</span>)       │          <span style=\"color: #00af00; text-decoration-color: #00af00\">0</span> │ layer_normalizat… │\n",
       "│ (<span style=\"color: #0087ff; text-decoration-color: #0087ff\">GlobalAveragePool…</span> │                   │            │                   │\n",
       "├─────────────────────┼───────────────────┼────────────┼───────────────────┤\n",
       "│ dense (<span style=\"color: #0087ff; text-decoration-color: #0087ff\">Dense</span>)       │ (<span style=\"color: #00d7ff; text-decoration-color: #00d7ff\">None</span>, <span style=\"color: #00af00; text-decoration-color: #00af00\">64</span>)        │     <span style=\"color: #00af00; text-decoration-color: #00af00\">12,864</span> │ global_average_p… │\n",
       "├─────────────────────┼───────────────────┼────────────┼───────────────────┤\n",
       "│ dropout_2 (<span style=\"color: #0087ff; text-decoration-color: #0087ff\">Dropout</span>) │ (<span style=\"color: #00d7ff; text-decoration-color: #00d7ff\">None</span>, <span style=\"color: #00af00; text-decoration-color: #00af00\">64</span>)        │          <span style=\"color: #00af00; text-decoration-color: #00af00\">0</span> │ dense[<span style=\"color: #00af00; text-decoration-color: #00af00\">0</span>][<span style=\"color: #00af00; text-decoration-color: #00af00\">0</span>]       │\n",
       "├─────────────────────┼───────────────────┼────────────┼───────────────────┤\n",
       "│ dense_1 (<span style=\"color: #0087ff; text-decoration-color: #0087ff\">Dense</span>)     │ (<span style=\"color: #00d7ff; text-decoration-color: #00d7ff\">None</span>, <span style=\"color: #00af00; text-decoration-color: #00af00\">3</span>)         │        <span style=\"color: #00af00; text-decoration-color: #00af00\">195</span> │ dropout_2[<span style=\"color: #00af00; text-decoration-color: #00af00\">0</span>][<span style=\"color: #00af00; text-decoration-color: #00af00\">0</span>]   │\n",
       "└─────────────────────┴───────────────────┴────────────┴───────────────────┘\n",
       "</pre>\n"
      ],
      "text/plain": [
       "┏━━━━━━━━━━━━━━━━━━━━━┳━━━━━━━━━━━━━━━━━━━┳━━━━━━━━━━━━┳━━━━━━━━━━━━━━━━━━━┓\n",
       "┃\u001b[1m \u001b[0m\u001b[1mLayer (type)       \u001b[0m\u001b[1m \u001b[0m┃\u001b[1m \u001b[0m\u001b[1mOutput Shape     \u001b[0m\u001b[1m \u001b[0m┃\u001b[1m \u001b[0m\u001b[1m   Param #\u001b[0m\u001b[1m \u001b[0m┃\u001b[1m \u001b[0m\u001b[1mConnected to     \u001b[0m\u001b[1m \u001b[0m┃\n",
       "┡━━━━━━━━━━━━━━━━━━━━━╇━━━━━━━━━━━━━━━━━━━╇━━━━━━━━━━━━╇━━━━━━━━━━━━━━━━━━━┩\n",
       "│ input_layer         │ (\u001b[38;5;45mNone\u001b[0m, \u001b[38;5;34m27\u001b[0m)        │          \u001b[38;5;34m0\u001b[0m │ -                 │\n",
       "│ (\u001b[38;5;33mInputLayer\u001b[0m)        │                   │            │                   │\n",
       "├─────────────────────┼───────────────────┼────────────┼───────────────────┤\n",
       "│ embedding           │ (\u001b[38;5;45mNone\u001b[0m, \u001b[38;5;34m27\u001b[0m, \u001b[38;5;34m200\u001b[0m)   │  \u001b[38;5;34m5,266,000\u001b[0m │ input_layer[\u001b[38;5;34m0\u001b[0m][\u001b[38;5;34m0\u001b[0m] │\n",
       "│ (\u001b[38;5;33mEmbedding\u001b[0m)         │                   │            │                   │\n",
       "├─────────────────────┼───────────────────┼────────────┼───────────────────┤\n",
       "│ multi_head_attenti… │ (\u001b[38;5;45mNone\u001b[0m, \u001b[38;5;34m27\u001b[0m, \u001b[38;5;34m200\u001b[0m)   │    \u001b[38;5;34m205,768\u001b[0m │ embedding[\u001b[38;5;34m0\u001b[0m][\u001b[38;5;34m0\u001b[0m],  │\n",
       "│ (\u001b[38;5;33mMultiHeadAttentio…\u001b[0m │                   │            │ embedding[\u001b[38;5;34m0\u001b[0m][\u001b[38;5;34m0\u001b[0m]   │\n",
       "├─────────────────────┼───────────────────┼────────────┼───────────────────┤\n",
       "│ dropout_1 (\u001b[38;5;33mDropout\u001b[0m) │ (\u001b[38;5;45mNone\u001b[0m, \u001b[38;5;34m27\u001b[0m, \u001b[38;5;34m200\u001b[0m)   │          \u001b[38;5;34m0\u001b[0m │ multi_head_atten… │\n",
       "├─────────────────────┼───────────────────┼────────────┼───────────────────┤\n",
       "│ add (\u001b[38;5;33mAdd\u001b[0m)           │ (\u001b[38;5;45mNone\u001b[0m, \u001b[38;5;34m27\u001b[0m, \u001b[38;5;34m200\u001b[0m)   │          \u001b[38;5;34m0\u001b[0m │ dropout_1[\u001b[38;5;34m0\u001b[0m][\u001b[38;5;34m0\u001b[0m],  │\n",
       "│                     │                   │            │ embedding[\u001b[38;5;34m0\u001b[0m][\u001b[38;5;34m0\u001b[0m]   │\n",
       "├─────────────────────┼───────────────────┼────────────┼───────────────────┤\n",
       "│ layer_normalization │ (\u001b[38;5;45mNone\u001b[0m, \u001b[38;5;34m27\u001b[0m, \u001b[38;5;34m200\u001b[0m)   │        \u001b[38;5;34m400\u001b[0m │ add[\u001b[38;5;34m0\u001b[0m][\u001b[38;5;34m0\u001b[0m]         │\n",
       "│ (\u001b[38;5;33mLayerNormalizatio…\u001b[0m │                   │            │                   │\n",
       "├─────────────────────┼───────────────────┼────────────┼───────────────────┤\n",
       "│ global_average_poo… │ (\u001b[38;5;45mNone\u001b[0m, \u001b[38;5;34m200\u001b[0m)       │          \u001b[38;5;34m0\u001b[0m │ layer_normalizat… │\n",
       "│ (\u001b[38;5;33mGlobalAveragePool…\u001b[0m │                   │            │                   │\n",
       "├─────────────────────┼───────────────────┼────────────┼───────────────────┤\n",
       "│ dense (\u001b[38;5;33mDense\u001b[0m)       │ (\u001b[38;5;45mNone\u001b[0m, \u001b[38;5;34m64\u001b[0m)        │     \u001b[38;5;34m12,864\u001b[0m │ global_average_p… │\n",
       "├─────────────────────┼───────────────────┼────────────┼───────────────────┤\n",
       "│ dropout_2 (\u001b[38;5;33mDropout\u001b[0m) │ (\u001b[38;5;45mNone\u001b[0m, \u001b[38;5;34m64\u001b[0m)        │          \u001b[38;5;34m0\u001b[0m │ dense[\u001b[38;5;34m0\u001b[0m][\u001b[38;5;34m0\u001b[0m]       │\n",
       "├─────────────────────┼───────────────────┼────────────┼───────────────────┤\n",
       "│ dense_1 (\u001b[38;5;33mDense\u001b[0m)     │ (\u001b[38;5;45mNone\u001b[0m, \u001b[38;5;34m3\u001b[0m)         │        \u001b[38;5;34m195\u001b[0m │ dropout_2[\u001b[38;5;34m0\u001b[0m][\u001b[38;5;34m0\u001b[0m]   │\n",
       "└─────────────────────┴───────────────────┴────────────┴───────────────────┘\n"
      ]
     },
     "metadata": {},
     "output_type": "display_data"
    },
    {
     "data": {
      "text/html": [
       "<pre style=\"white-space:pre;overflow-x:auto;line-height:normal;font-family:Menlo,'DejaVu Sans Mono',consolas,'Courier New',monospace\"><span style=\"font-weight: bold\"> Total params: </span><span style=\"color: #00af00; text-decoration-color: #00af00\">5,485,227</span> (20.92 MB)\n",
       "</pre>\n"
      ],
      "text/plain": [
       "\u001b[1m Total params: \u001b[0m\u001b[38;5;34m5,485,227\u001b[0m (20.92 MB)\n"
      ]
     },
     "metadata": {},
     "output_type": "display_data"
    },
    {
     "data": {
      "text/html": [
       "<pre style=\"white-space:pre;overflow-x:auto;line-height:normal;font-family:Menlo,'DejaVu Sans Mono',consolas,'Courier New',monospace\"><span style=\"font-weight: bold\"> Trainable params: </span><span style=\"color: #00af00; text-decoration-color: #00af00\">5,485,227</span> (20.92 MB)\n",
       "</pre>\n"
      ],
      "text/plain": [
       "\u001b[1m Trainable params: \u001b[0m\u001b[38;5;34m5,485,227\u001b[0m (20.92 MB)\n"
      ]
     },
     "metadata": {},
     "output_type": "display_data"
    },
    {
     "data": {
      "text/html": [
       "<pre style=\"white-space:pre;overflow-x:auto;line-height:normal;font-family:Menlo,'DejaVu Sans Mono',consolas,'Courier New',monospace\"><span style=\"font-weight: bold\"> Non-trainable params: </span><span style=\"color: #00af00; text-decoration-color: #00af00\">0</span> (0.00 B)\n",
       "</pre>\n"
      ],
      "text/plain": [
       "\u001b[1m Non-trainable params: \u001b[0m\u001b[38;5;34m0\u001b[0m (0.00 B)\n"
      ]
     },
     "metadata": {},
     "output_type": "display_data"
    }
   ],
   "source": [
    "# create the model\n",
    "\n",
    "output_dim = 200\n",
    "\n",
    "# #LSTM model (cnn +lstm)\n",
    "# model = Sequential()\n",
    "# model.add(Embedding(vocab_size, output_dim, input_length=maxlen))\n",
    "# model.add(LSTM(100))\n",
    "# model.add(Dense(3, activation='softmax'))\n",
    "# model.compile(optimizer='adam', loss='categorical_crossentropy', metrics=['accuracy', f1_m, precision_m, recall_m])\n",
    "# model.summary()\n",
    "\n",
    "# from tensorflow.keras.layers import MultiHeadAttention, LayerNormalization, Dropout, Add\n",
    "\n",
    "# Multi-head Self-attention based model\n",
    "input_layer = Input(shape=(maxlen,))\n",
    "embedding_layer = Embedding(vocab_size, output_dim, input_length=maxlen)(input_layer)\n",
    "\n",
    "# Transformer Encoder block\n",
    "attention_output = MultiHeadAttention(num_heads=4, key_dim=64)(embedding_layer, embedding_layer)\n",
    "attention_output = Dropout(0.1)(attention_output)\n",
    "attention_output = LayerNormalization(epsilon=1e-6)(attention_output + embedding_layer)\n",
    "\n",
    "# Global Average Pooling to reduce the time dimension\n",
    "pooled_output = GlobalAveragePooling1D()(attention_output)\n",
    "\n",
    "# Feed-forward layer after pooling\n",
    "ffn = Dense(64, activation='relu')(pooled_output)\n",
    "ffn = Dropout(0.1)(ffn)\n",
    "output_layer = Dense(3, activation='softmax')(ffn)\n",
    "\n",
    "model = Model(inputs=input_layer, outputs=output_layer)\n",
    "model.compile(optimizer='adam', loss='categorical_crossentropy', metrics=[precision_m, recall_m, f1_score, accuracy])\n",
    "model.summary()"
   ]
  },
  {
   "cell_type": "markdown",
   "metadata": {},
   "source": [
    "Looking at the total number of parameteries per layer it can be said that: \n",
    "- Embedding layer had 4,321,000 \n",
    "- LTSM layer had 120, 400\n",
    "- Dense layer had 303 \n",
    "\n",
    "This model has a total of 4, 441, 703 parameteres all which are trainable. Most of these paramaters can be seen in the embedding layer as it needs to store dense vector representations for each word in the vocabulary. \n",
    "\n",
    "The model is then trained using 5 Epoch"
   ]
  },
  {
   "cell_type": "code",
   "execution_count": 56,
   "metadata": {},
   "outputs": [
    {
     "name": "stdout",
     "output_type": "stream",
     "text": [
      "Epoch 1/5\n",
      "\u001b[1m241/241\u001b[0m \u001b[32m━━━━━━━━━━━━━━━━━━━━\u001b[0m\u001b[37m\u001b[0m \u001b[1m11s\u001b[0m 37ms/step - accuracy: 0.6194 - f1_score: 0.3642 - loss: 0.8078 - precision: 0.7147 - recall: 0.4325 - val_accuracy: 0.8791 - val_f1_score: 0.8751 - val_loss: 0.3419 - val_precision: 0.8852 - val_recall: 0.8711\n",
      "Epoch 2/5\n",
      "\u001b[1m241/241\u001b[0m \u001b[32m━━━━━━━━━━━━━━━━━━━━\u001b[0m\u001b[37m\u001b[0m \u001b[1m9s\u001b[0m 35ms/step - accuracy: 0.9349 - f1_score: 0.9318 - loss: 0.1953 - precision: 0.9400 - recall: 0.9316 - val_accuracy: 0.8686 - val_f1_score: 0.8568 - val_loss: 0.4062 - val_precision: 0.8694 - val_recall: 0.8612\n",
      "Epoch 3/5\n",
      "\u001b[1m241/241\u001b[0m \u001b[32m━━━━━━━━━━━━━━━━━━━━\u001b[0m\u001b[37m\u001b[0m \u001b[1m9s\u001b[0m 37ms/step - accuracy: 0.9725 - f1_score: 0.9737 - loss: 0.0889 - precision: 0.9744 - recall: 0.9706 - val_accuracy: 0.8502 - val_f1_score: 0.8638 - val_loss: 0.5037 - val_precision: 0.8694 - val_recall: 0.8615\n",
      "Epoch 4/5\n",
      "\u001b[1m241/241\u001b[0m \u001b[32m━━━━━━━━━━━━━━━━━━━━\u001b[0m\u001b[37m\u001b[0m \u001b[1m9s\u001b[0m 36ms/step - accuracy: 0.9811 - f1_score: 0.9810 - loss: 0.0694 - precision: 0.9823 - recall: 0.9804 - val_accuracy: 0.8665 - val_f1_score: 0.8613 - val_loss: 0.5965 - val_precision: 0.8670 - val_recall: 0.8623\n",
      "Epoch 5/5\n",
      "\u001b[1m241/241\u001b[0m \u001b[32m━━━━━━━━━━━━━━━━━━━━\u001b[0m\u001b[37m\u001b[0m \u001b[1m9s\u001b[0m 35ms/step - accuracy: 0.9870 - f1_score: 0.9870 - loss: 0.0405 - precision: 0.9875 - recall: 0.9868 - val_accuracy: 0.8517 - val_f1_score: 0.8635 - val_loss: 0.6217 - val_precision: 0.8669 - val_recall: 0.8633\n"
     ]
    }
   ],
   "source": [
    "# train the model\n",
    "history = model.fit(X_train, y_train, epochs=5, validation_data=(X_test, y_test), batch_size=64)"
   ]
  },
  {
   "cell_type": "code",
   "execution_count": 57,
   "metadata": {},
   "outputs": [
    {
     "name": "stdout",
     "output_type": "stream",
     "text": [
      "\u001b[1m61/61\u001b[0m \u001b[32m━━━━━━━━━━━━━━━━━━━━\u001b[0m\u001b[37m\u001b[0m \u001b[1m0s\u001b[0m 4ms/step - accuracy: 0.8628 - f1_score: 0.8602 - loss: 0.6578 - precision: 0.8657 - recall: 0.8614\n",
      "Loss: 0.8669281005859375\n",
      "Precision: 0.8633168339729309\n",
      "Recall: 0.8634925484657288\n",
      "F1 Score: 0.8516905903816223\n",
      "Accuracy: 0.6217474937438965\n"
     ]
    },
    {
     "data": {
      "image/png": "[encoded data removed]",
      "text/plain": [
       "<Figure size 640x480 with 1 Axes>"
      ]
     },
     "metadata": {},
     "output_type": "display_data"
    }
   ],
   "source": [
    "# evaluate the model\n",
    "accuracy, loss, precision, recall, f1 = model.evaluate(X_test, y_test, batch_size=64)\n",
    "print(f\"Loss: {loss}\")\n",
    "print(f\"Precision: {precision}\")\n",
    "print(f\"Recall: {recall}\")\n",
    "print(f\"F1 Score: {f1}\")\n",
    "print(f\"Accuracy: {accuracy}\")\n",
    "\n",
    "# plot the training history\n",
    "plt.plot(history.history['loss'], label='train')\n",
    "plt.plot(history.history['val_loss'], label='test')\n",
    "plt.title('model loss')\n",
    "plt.legend()\n",
    "plt.show()\n"
   ]
  },
  {
   "cell_type": "markdown",
   "metadata": {},
   "source": [
    "Looking at the training set and its validation loss the following observations can be made for this graph. \n",
    "\n",
    "- The training loss is high at around 0.40 but decreases signifcantly to 0.05 by epoch 4. This means that the model is successfully learning to minimise its error on the training data as it trains. \n",
    "\n",
    "- The test loss starts at around 0.27 but increases to 0.45 at epoch 4. This signifies that the validation loss is higher than the intial value and the model is perfoming worse on the test set over time. \n",
    "\n",
    "Based on these observations the decreasing trend in training loss shows that the model is fitting the training data well and is learning the patterns in the training set. The increasing trend in the testing loss suggests overfitiing. This means that the model is learning patterns and details specific to the training data which dont generalise on the unseen data. "
   ]
  },
  {
   "cell_type": "code",
   "execution_count": 58,
   "metadata": {
    "scrolled": true
   },
   "outputs": [
    {
     "data": {
      "image/png": "[encoded data removed]",
      "text/plain": [
       "<Figure size 640x480 with 1 Axes>"
      ]
     },
     "metadata": {},
     "output_type": "display_data"
    }
   ],
   "source": [
    "import matplotlib.pyplot as plt\n",
    "\n",
    "# plot the training and validation accuracy\n",
    "plt.plot(history.history['accuracy'])\n",
    "plt.plot(history.history['val_accuracy'])\n",
    "plt.title('model accuracy')\n",
    "plt.ylabel('accuracy')\n",
    "plt.xlabel('epoch')\n",
    "plt.legend(['train', 'test'], loc='upper left')\n",
    "plt.show()"
   ]
  },
  {
   "cell_type": "markdown",
   "metadata": {},
   "source": [
    "Looking at the training set and its validation accuracy the following observations can be made for this graph. \n",
    "\n",
    "- The training accuracy starts from 0.86 to 0.98 with a steady increase by the fourth epoch. It can be said that this model is learning well from the training data and continously improving as the epoch increases. \n",
    "\n",
    "- The validation accuracy starts at 0.90 and decrease to 0.88 after four epochs with a steady decrease. This insinuates that models performance on unseen data is degrading as training profressess. \n",
    "\n",
    "- Based on the observations it can be said that model is likely overfitting. This happens when a model details in the training data that it negatively impacts performance on unseen data (test data). This suggests that model is learning too much from the training data which can be said that it is memorising instead of generalising to new data. "
   ]
  },
  {
   "cell_type": "code",
   "execution_count": 59,
   "metadata": {},
   "outputs": [
    {
     "name": "stdout",
     "output_type": "stream",
     "text": [
      "\u001b[1m121/121\u001b[0m \u001b[32m━━━━━━━━━━━━━━━━━━━━\u001b[0m\u001b[37m\u001b[0m \u001b[1m0s\u001b[0m 3ms/step\n"
     ]
    },
    {
     "data": {
      "image/png": "[encoded data removed]",
      "text/plain": [
       "<Figure size 640x480 with 2 Axes>"
      ]
     },
     "metadata": {},
     "output_type": "display_data"
    }
   ],
   "source": [
    "# plot a confusion matrix\n",
    "from sklearn.metrics import confusion_matrix\n",
    "import seaborn as sns\n",
    "\n",
    "y_pred = model.predict(X_test)\n",
    "y_pred = np.argmax(y_pred, axis=1)\n",
    "y_test = np.argmax(y_test, axis=1)\n",
    "cm = confusion_matrix(y_test, y_pred)\n",
    "\n",
    "sns.heatmap(cm, annot=True, fmt='d', cmap='Blues')\n",
    "plt.xlabel('Predicted')\n",
    "plt.ylabel('True')\n",
    "plt.title('Confusion Matrix')\n",
    "plt.show()\n"
   ]
  },
  {
   "cell_type": "markdown",
   "metadata": {},
   "source": [
    "Looking at the confusion matrix it could be said that: \n",
    "\n",
    "True:\n",
    "- Centre square which is predicted 1 and true 1 has 3600 true values. \n",
    "- These are cases where the actual label is offensive and the model correctly predicted it as offensive. \n",
    "- In offsenisve detection, this is the number of correctly predicted offensive tweets. \n",
    "\n",
    "- The bottom right corner square predicts 2 and true value is 2 has 699 true values. \n",
    "- These are cases where the actual label is hate and the model correctly predicted it as hate. \n",
    "- In hate detection, this is the number of correctly predicted hate speech tweets. \n",
    "\n",
    "- The top left corner predicts 0 and true is 0 has only 65 true values, \n",
    "- These are cases where the actual label is neither and the model correctly predicted it as neither. \n",
    "- In neither detection, this is the number of correctly predicted neither tweets. \n",
    "\n",
    "\n",
    "False:\n",
    "- The squares where the value predicted doesnt match the value that it is are false values.\n",
    "\n",
    "For example:\n",
    "- The bottom left corner square predicts the value 0 but the actual value is 13. \n",
    "- This means that the tweet is actually classfied as hate speech but is being predicted as neither. \n",
    "\n",
    "Looking at the confusion matrix the classifications which have been falsey predicted are very low in comparison to the correctly predicted. This can be due to the fact that the training data was heavily offesnive tweets then it was minimally focuse don hate speech and very few tweets being neither.This explains why the model was well trained towards detecting offensive tweets then hate speech and neither. "
   ]
  },
  {
   "cell_type": "markdown",
   "metadata": {},
   "source": [
    "The next steps could be: \n",
    "\n",
    "- Regularisation: Drop out layers, L2 regularisation or batch normalisation to prevent ovefitting \n",
    "\n",
    "- Early stopping: To stop the when validation accuracy stops improving to avoid overfitting \n",
    "\n",
    "- Data augmentation: Intorduce more diveristy and improve genralisation "
   ]
  },
  {
   "cell_type": "code",
   "execution_count": 60,
   "metadata": {},
   "outputs": [
    {
     "name": "stdout",
     "output_type": "stream",
     "text": [
      "Before one-hot encoding, y_train shape: (15361,)\n",
      "Before one-hot encoding, y_test shape: (3841,)\n",
      "After one-hot encoding, y_train shape: (15361, 3)\n",
      "After one-hot encoding, y_test shape: (3841, 3)\n"
     ]
    }
   ],
   "source": [
    "# Check if there are still extra dimensions and squeeze until fully reduced\n",
    "while len(y_train.shape) > 1:\n",
    "    y_train = np.argmax(y_train, axis=-1)  # This should reduce at least one dimension\n",
    "    y_train = np.squeeze(y_train)  # Remove any leftover 1-dimensions\n",
    "\n",
    "while len(y_test.shape) > 1:\n",
    "    y_test = np.argmax(y_test, axis=-1)  # This should reduce at least one dimension\n",
    "    y_test = np.squeeze(y_test)  # Remove any leftover 1-dimensions\n",
    "\n",
    "# Now check the shape before applying to_categorical\n",
    "print(f\"Before one-hot encoding, y_train shape: {y_train.shape}\")  # Should be (15363,)\n",
    "print(f\"Before one-hot encoding, y_test shape: {y_test.shape}\")    # Should be (3841,)\n",
    "\n",
    "# Apply to_categorical to the labels\n",
    "y_train = to_categorical(y_train, num_classes=3)\n",
    "y_test = to_categorical(y_test, num_classes=3)\n",
    "\n",
    "# Check the shape after applying to_categorical\n",
    "print(f\"After one-hot encoding, y_train shape: {y_train.shape}\")  # Should be (15363, 3)\n",
    "print(f\"After one-hot encoding, y_test shape: {y_test.shape}\")    # Should be (3841, 3)\n",
    "\n"
   ]
  },
  {
   "cell_type": "code",
   "execution_count": 61,
   "metadata": {},
   "outputs": [],
   "source": [
    "import pandas as pd\n",
    "import numpy as np\n",
    "import tensorflow as tf\n",
    "from tensorflow.keras import backend as K\n",
    "from tensorflow.keras.layers import Input, MultiHeadAttention, LayerNormalization, Dropout, Dense, Embedding, GlobalAveragePooling1D\n",
    "from tensorflow.keras.models import Model\n",
    "from tensorflow.keras.callbacks import EarlyStopping\n",
    "\n",
    "# Helper functions for metrics for the model with \n",
    "def recall_m(y_true, y_pred):\n",
    "    true_positives = tf.reduce_sum(K.round(K.clip(y_true * y_pred, 0, 1)))\n",
    "    possible_positives = tf.reduce_sum(K.round(K.clip(y_true, 0, 1)))\n",
    "    recall = true_positives / (possible_positives + K.epsilon())\n",
    "    return recall\n",
    "\n",
    "def precision_m(y_true, y_pred):\n",
    "    true_positives = tf.reduce_sum(K.round(K.clip(y_true * y_pred, 0, 1)))\n",
    "    predicted_positives = tf.reduce_sum(K.round(K.clip(y_pred, 0, 1)))\n",
    "    precision = true_positives / (predicted_positives + K.epsilon())\n",
    "    return precision\n",
    "\n",
    "def f1_m(y_true, y_pred):\n",
    "    precision = precision_m(y_true, y_pred)\n",
    "    recall = recall_m(y_true, y_pred)\n",
    "    return 2 * (precision * recall) / (precision + recall + K.epsilon())\n",
    "\n",
    "def f1_score(y_true, y_pred):\n",
    "    p = precision_m(y_true, y_pred)\n",
    "    r = recall_m(y_true, y_pred)\n",
    "    return 2 * (p * r) / (p + r + K.epsilon())\n",
    "\n",
    "def accuracy(y_true, y_pred):\n",
    "    return K.mean(K.equal(K.argmax(y_true, axis=1), K.argmax(y_pred, axis=1)))\n",
    "\n"
   ]
  },
  {
   "cell_type": "code",
   "execution_count": 62,
   "metadata": {},
   "outputs": [
    {
     "name": "stdout",
     "output_type": "stream",
     "text": [
      "Epoch 1/10\n"
     ]
    },
    {
     "name": "stderr",
     "output_type": "stream",
     "text": [
      "c:\\Users\\Admin\\AppData\\Local\\Programs\\Python\\Python311\\Lib\\site-packages\\keras\\src\\layers\\core\\embedding.py:90: UserWarning: Argument `input_length` is deprecated. Just remove it.\n",
      "  warnings.warn(\n"
     ]
    },
    {
     "name": "stdout",
     "output_type": "stream",
     "text": [
      "\u001b[1m241/241\u001b[0m \u001b[32m━━━━━━━━━━━━━━━━━━━━\u001b[0m\u001b[37m\u001b[0m \u001b[1m11s\u001b[0m 38ms/step - accuracy: 0.4356 - f1_m: 0.1884 - loss: 1.0352 - precision_m: 0.3043 - recall_m: 0.1683 - val_accuracy: 0.8788 - val_f1_m: 0.8778 - val_loss: 0.3574 - val_precision_m: 0.8885 - val_recall_m: 0.8676\n",
      "Epoch 2/10\n",
      "\u001b[1m241/241\u001b[0m \u001b[32m━━━━━━━━━━━━━━━━━━━━\u001b[0m\u001b[37m\u001b[0m \u001b[1m9s\u001b[0m 37ms/step - accuracy: 0.9267 - f1_m: 0.9263 - loss: 0.2339 - precision_m: 0.9350 - recall_m: 0.9178 - val_accuracy: 0.8824 - val_f1_m: 0.8794 - val_loss: 0.3585 - val_precision_m: 0.8924 - val_recall_m: 0.8671\n",
      "Epoch 3/10\n",
      "\u001b[1m241/241\u001b[0m \u001b[32m━━━━━━━━━━━━━━━━━━━━\u001b[0m\u001b[37m\u001b[0m \u001b[1m9s\u001b[0m 35ms/step - accuracy: 0.9641 - f1_m: 0.9637 - loss: 0.1214 - precision_m: 0.9678 - recall_m: 0.9597 - val_accuracy: 0.8614 - val_f1_m: 0.8604 - val_loss: 0.4991 - val_precision_m: 0.8636 - val_recall_m: 0.8573\n",
      "Epoch 4/10\n",
      "\u001b[1m241/241\u001b[0m \u001b[32m━━━━━━━━━━━━━━━━━━━━\u001b[0m\u001b[37m\u001b[0m \u001b[1m8s\u001b[0m 34ms/step - accuracy: 0.9728 - f1_m: 0.9730 - loss: 0.0889 - precision_m: 0.9755 - recall_m: 0.9706 - val_accuracy: 0.8694 - val_f1_m: 0.8684 - val_loss: 0.5665 - val_precision_m: 0.8715 - val_recall_m: 0.8653\n",
      "\u001b[1m61/61\u001b[0m \u001b[32m━━━━━━━━━━━━━━━━━━━━\u001b[0m\u001b[37m\u001b[0m \u001b[1m0s\u001b[0m 3ms/step - accuracy: 0.8739 - f1_m: 0.8726 - loss: 0.3591 - precision_m: 0.8836 - recall_m: 0.8620\n",
      "Loss: 0.8884850740432739\n",
      "Precision: 0.8675717115402222\n",
      "Recall: 0.8778283596038818\n",
      "F1 Score: 0.8788422346115112\n",
      "Accuracy: 0.3573658764362335\n"
     ]
    }
   ],
   "source": [
    "# Define the model\n",
    "def build_model(vocab_size, maxlen, output_dim):\n",
    "    input_layer = Input(shape=(maxlen,))\n",
    "    embedding_layer = Embedding(vocab_size, output_dim, input_length=maxlen)(input_layer)\n",
    "\n",
    "    # Transformer Encoder block with multi-head attention and dropout for regularization\n",
    "    attention_output = MultiHeadAttention(num_heads=4, key_dim=64)(embedding_layer, embedding_layer)\n",
    "    attention_output = Dropout(0.3)(attention_output)  # Added dropout\n",
    "    attention_output = LayerNormalization(epsilon=1e-6)(attention_output + embedding_layer)\n",
    "\n",
    "    # Global Average Pooling to reduce the time dimension\n",
    "    pooled_output = GlobalAveragePooling1D()(attention_output)\n",
    "\n",
    "    # Feed-forward layer with dropout for regularization\n",
    "    ffn = Dense(64, activation='relu')(pooled_output)\n",
    "    ffn = Dropout(0.3)(ffn)  # Added dropout\n",
    "    output_layer = Dense(3, activation='softmax')(ffn)\n",
    "\n",
    "    # Compile the model\n",
    "    model = Model(inputs=input_layer, outputs=output_layer)\n",
    "    model.compile(optimizer='adam', loss='categorical_crossentropy',\n",
    "                  metrics=[precision_m, recall_m, f1_m, accuracy])\n",
    "    return model\n",
    "\n",
    "# Hyperparameters\n",
    "output_dim = 200\n",
    "vocab_size = len(tokenizer.word_index) + 1\n",
    "maxlen = X_train.shape[1]\n",
    "\n",
    "# Build the model\n",
    "model = build_model(vocab_size, maxlen, output_dim)\n",
    "\n",
    "# Early stopping callback to stop training when validation performance stops improving\n",
    "early_stopping = EarlyStopping(monitor='val_loss', patience=3, restore_best_weights=True)\n",
    "\n",
    "# Train the model\n",
    "history = model.fit(X_train, y_train, epochs=10, validation_data=(X_test, y_test),\n",
    "                    batch_size=64, callbacks=[early_stopping])\n",
    "\n",
    "# Evaluate the model\n",
    "accuracy, loss, precision, recall, f1 = model.evaluate(X_test, y_test, batch_size=64)\n",
    "print(f\"Loss: {loss}\")\n",
    "print(f\"Precision: {precision}\")\n",
    "print(f\"Recall: {recall}\")\n",
    "print(f\"F1 Score: {f1}\")\n",
    "print(f\"Accuracy: {accuracy}\")\n",
    "\n"
   ]
  },
  {
   "cell_type": "code",
   "execution_count": 63,
   "metadata": {},
   "outputs": [
    {
     "data": {
      "image/png": "[encoded data removed]",
      "text/plain": [
       "<Figure size 640x480 with 1 Axes>"
      ]
     },
     "metadata": {},
     "output_type": "display_data"
    },
    {
     "name": "stdout",
     "output_type": "stream",
     "text": [
      "\u001b[1m121/121\u001b[0m \u001b[32m━━━━━━━━━━━━━━━━━━━━\u001b[0m\u001b[37m\u001b[0m \u001b[1m0s\u001b[0m 3ms/step\n"
     ]
    },
    {
     "data": {
      "image/png": "[encoded data removed]",
      "text/plain": [
       "<Figure size 640x480 with 2 Axes>"
      ]
     },
     "metadata": {},
     "output_type": "display_data"
    }
   ],
   "source": [
    "# Plot the training and validation loss\n",
    "import matplotlib.pyplot as plt\n",
    "\n",
    "plt.plot(history.history['loss'], label='train')\n",
    "plt.plot(history.history['val_loss'], label='test')\n",
    "plt.title('Training and Validation Loss')\n",
    "plt.xlabel('Epoch')\n",
    "plt.ylabel('Loss')\n",
    "plt.legend()\n",
    "plt.show()\n",
    "\n",
    "# Plot the confusion matrix\n",
    "from sklearn.metrics import confusion_matrix\n",
    "import seaborn as sns\n",
    "\n",
    "y_pred = model.predict(X_test)\n",
    "y_pred = np.argmax(y_pred, axis=1)\n",
    "\n",
    "# Ensure y_test is one-hot encoded before using np.argmax\n",
    "if len(y_test.shape) > 1:\n",
    "    y_test = np.argmax(y_test, axis=1)\n",
    "\n",
    "cm = confusion_matrix(y_test, y_pred)\n",
    "\n",
    "sns.heatmap(cm, annot=True, fmt='d', cmap='Blues')\n",
    "plt.xlabel('Predicted')\n",
    "plt.ylabel('True')\n",
    "plt.title('Confusion Matrix')\n",
    "plt.show()\n"
   ]
  },
  {
   "cell_type": "code",
   "execution_count": 64,
   "metadata": {},
   "outputs": [
    {
     "data": {
      "image/png": "[encoded data removed]",
      "text/plain": [
       "<Figure size 640x480 with 1 Axes>"
      ]
     },
     "metadata": {},
     "output_type": "display_data"
    }
   ],
   "source": [
    "# plot the training and validation accuracy\n",
    "plt.plot(history.history['accuracy'])\n",
    "plt.plot(history.history['val_accuracy'])\n",
    "plt.title('model accuracy')\n",
    "plt.ylabel('accuracy')\n",
    "plt.xlabel('epoch')\n",
    "plt.legend(['train', 'test'], loc='upper left')\n",
    "plt.show()\n"
   ]
  },
  {
   "cell_type": "code",
   "execution_count": 65,
   "metadata": {},
   "outputs": [
    {
     "name": "stdout",
     "output_type": "stream",
     "text": [
      "Before one-hot encoding, y_train shape: (15361,)\n",
      "Before one-hot encoding, y_test shape: (3841,)\n",
      "After one-hot encoding, y_train shape: (15361, 3)\n",
      "After one-hot encoding, y_test shape: (3841, 3)\n"
     ]
    }
   ],
   "source": [
    "# Check if there are still extra dimensions and squeeze until fully reduced\n",
    "while len(y_train.shape) > 1:\n",
    "    y_train = np.argmax(y_train, axis=-1)  # This should reduce at least one dimension\n",
    "    y_train = np.squeeze(y_train)  # Remove any leftover 1-dimensions\n",
    "\n",
    "while len(y_test.shape) > 1:\n",
    "    y_test = np.argmax(y_test, axis=-1)  # This should reduce at least one dimension\n",
    "    y_test = np.squeeze(y_test)  # Remove any leftover 1-dimensions\n",
    "\n",
    "# Now check the shape before applying to_categorical\n",
    "print(f\"Before one-hot encoding, y_train shape: {y_train.shape}\")  # Should be (15363,)\n",
    "print(f\"Before one-hot encoding, y_test shape: {y_test.shape}\")    # Should be (3841,)\n",
    "\n",
    "# Apply to_categorical to the labels\n",
    "y_train = to_categorical(y_train, num_classes=3)\n",
    "y_test = to_categorical(y_test, num_classes=3)\n",
    "\n",
    "# Check the shape after applying to_categorical\n",
    "print(f\"After one-hot encoding, y_train shape: {y_train.shape}\")  # Should be (15363, 3)\n",
    "print(f\"After one-hot encoding, y_test shape: {y_test.shape}\")    # Should be (3841, 3)\n",
    "\n"
   ]
  },
  {
   "cell_type": "code",
   "execution_count": 66,
   "metadata": {},
   "outputs": [
    {
     "name": "stdout",
     "output_type": "stream",
     "text": [
      "X_train shape: (15361, 27), y_train shape: (15361, 3)\n",
      "X_test shape: (3841, 27), y_test shape: (3841, 3)\n",
      "Train set class distribution:\n",
      "[5112. 5109. 5140.]\n",
      "Test set class distribution:\n",
      "[1285. 1295. 1261.]\n"
     ]
    }
   ],
   "source": [
    "print(f\"X_train shape: {X_train.shape}, y_train shape: {y_train.shape}\")\n",
    "print(f\"X_test shape: {X_test.shape}, y_test shape: {y_test.shape}\")\n",
    "# Check class distribution\n",
    "print(\"Train set class distribution:\")\n",
    "print(np.sum(y_train, axis=0))\n",
    "\n",
    "print(\"Test set class distribution:\")\n",
    "print(np.sum(y_test, axis=0))\n"
   ]
  },
  {
   "cell_type": "code",
   "execution_count": 67,
   "metadata": {},
   "outputs": [
    {
     "name": "stdout",
     "output_type": "stream",
     "text": [
      "Epoch 1/15\n"
     ]
    },
    {
     "name": "stderr",
     "output_type": "stream",
     "text": [
      "c:\\Users\\Admin\\AppData\\Local\\Programs\\Python\\Python311\\Lib\\site-packages\\keras\\src\\layers\\core\\embedding.py:90: UserWarning: Argument `input_length` is deprecated. Just remove it.\n",
      "  warnings.warn(\n"
     ]
    },
    {
     "name": "stdout",
     "output_type": "stream",
     "text": [
      "\u001b[1m241/241\u001b[0m \u001b[32m━━━━━━━━━━━━━━━━━━━━\u001b[0m\u001b[37m\u001b[0m \u001b[1m7s\u001b[0m 23ms/step - accuracy: 0.6193 - f1_m: 0.3616 - loss: 0.8561 - precision_m: 0.6174 - recall_m: 0.2937 - val_accuracy: 0.8464 - val_f1_m: 0.8455 - val_loss: 0.4397 - val_precision_m: 0.8773 - val_recall_m: 0.8163\n",
      "Epoch 2/15\n",
      "\u001b[1m241/241\u001b[0m \u001b[32m━━━━━━━━━━━━━━━━━━━━\u001b[0m\u001b[37m\u001b[0m \u001b[1m5s\u001b[0m 21ms/step - accuracy: 0.8808 - f1_m: 0.8806 - loss: 0.3660 - precision_m: 0.8984 - recall_m: 0.8638 - val_accuracy: 0.8748 - val_f1_m: 0.8743 - val_loss: 0.3792 - val_precision_m: 0.8825 - val_recall_m: 0.8663\n",
      "Epoch 3/15\n",
      "\u001b[1m241/241\u001b[0m \u001b[32m━━━━━━━━━━━━━━━━━━━━\u001b[0m\u001b[37m\u001b[0m \u001b[1m5s\u001b[0m 21ms/step - accuracy: 0.9274 - f1_m: 0.9261 - loss: 0.2473 - precision_m: 0.9334 - recall_m: 0.9190 - val_accuracy: 0.8750 - val_f1_m: 0.8763 - val_loss: 0.3799 - val_precision_m: 0.8898 - val_recall_m: 0.8635\n",
      "Epoch 4/15\n",
      "\u001b[1m241/241\u001b[0m \u001b[32m━━━━━━━━━━━━━━━━━━━━\u001b[0m\u001b[37m\u001b[0m \u001b[1m5s\u001b[0m 21ms/step - accuracy: 0.9439 - f1_m: 0.9442 - loss: 0.2025 - precision_m: 0.9490 - recall_m: 0.9395 - val_accuracy: 0.8779 - val_f1_m: 0.8788 - val_loss: 0.3983 - val_precision_m: 0.8847 - val_recall_m: 0.8732\n"
     ]
    }
   ],
   "source": [
    "from tensorflow.keras import regularizers\n",
    "from tensorflow.keras.optimizers import RMSprop\n",
    "\n",
    "def build_lstm_model(vocab_size, maxlen, output_dim):\n",
    "    model = Sequential()\n",
    "    model.add(Embedding(vocab_size, output_dim, input_length=maxlen))\n",
    "    \n",
    "    # LSTM with dropout and L2 regularization\n",
    "    model.add(LSTM(75, dropout=0.2, recurrent_dropout=0.2, kernel_regularizer=regularizers.l2(0.0001)))\n",
    "    \n",
    "    model.add(Dense(3, activation='softmax'))\n",
    "    \n",
    "    # Compile with RMSprop optimizer and already defined metrics\n",
    "    optimizer = RMSprop(learning_rate=1e-3)\n",
    "    model.compile(optimizer=optimizer, loss='categorical_crossentropy', \n",
    "                  metrics=['accuracy', precision_m, recall_m, f1_m])\n",
    "    \n",
    "    return model\n",
    "\n",
    "# Build and train the LSTM model\n",
    "lstm_model = build_lstm_model(vocab_size, maxlen, output_dim)\n",
    "\n",
    "# Early stopping\n",
    "early_stopping = EarlyStopping(monitor='val_loss', patience=2, restore_best_weights=True)\n",
    "\n",
    "# Train the model\n",
    "history = lstm_model.fit(X_train, y_train, epochs=15, validation_data=(X_test, y_test), \n",
    "                         batch_size=64, callbacks=[early_stopping])\n"
   ]
  },
  {
   "cell_type": "code",
   "execution_count": 68,
   "metadata": {},
   "outputs": [
    {
     "name": "stdout",
     "output_type": "stream",
     "text": [
      "\u001b[1m61/61\u001b[0m \u001b[32m━━━━━━━━━━━━━━━━━━━━\u001b[0m\u001b[37m\u001b[0m \u001b[1m0s\u001b[0m 5ms/step - accuracy: 0.8743 - f1_m: 0.8706 - loss: 0.3875 - precision_m: 0.8796 - recall_m: 0.8619\n",
      "Loss: 0.37917691469192505\n",
      "Accuracy: 0.8747721910476685\n",
      "Precision: 0.8824964165687561\n",
      "Recall: 0.8662909865379333\n",
      "F1 Score: 0.8742828965187073\n",
      "\u001b[1m121/121\u001b[0m \u001b[32m━━━━━━━━━━━━━━━━━━━━\u001b[0m\u001b[37m\u001b[0m \u001b[1m1s\u001b[0m 5ms/step\n",
      "Confusion Matrix:\n"
     ]
    },
    {
     "data": {
      "image/png": "[encoded data removed]",
      "text/plain": [
       "<Figure size 640x480 with 2 Axes>"
      ]
     },
     "metadata": {},
     "output_type": "display_data"
    },
    {
     "name": "stdout",
     "output_type": "stream",
     "text": [
      "Classification Report:\n",
      "              precision    recall  f1-score   support\n",
      "\n",
      "           0       0.83      0.89      0.86      1285\n",
      "           1       0.94      0.91      0.93      1295\n",
      "           2       0.86      0.82      0.84      1261\n",
      "\n",
      "    accuracy                           0.87      3841\n",
      "   macro avg       0.88      0.87      0.87      3841\n",
      "weighted avg       0.88      0.87      0.88      3841\n",
      "\n"
     ]
    }
   ],
   "source": [
    "from sklearn.metrics import confusion_matrix, classification_report\n",
    "import numpy as np\n",
    "\n",
    "# Evaluate the model on the test data\n",
    "loss, accuracy, precision, recall, f1 = lstm_model.evaluate(X_test, y_test, batch_size=64)\n",
    "print(f\"Loss: {loss}\")\n",
    "print(f\"Accuracy: {accuracy}\")\n",
    "print(f\"Precision: {precision}\")\n",
    "print(f\"Recall: {recall}\")\n",
    "print(f\"F1 Score: {f1}\")\n",
    "\n",
    "# Make predictions on the test data\n",
    "y_pred = np.argmax(lstm_model.predict(X_test), axis=1)\n",
    "y_true = np.argmax(y_test, axis=1)\n",
    "\n",
    "# Generate the confusion matrix\n",
    "cm = confusion_matrix(y_true, y_pred)\n",
    "print(\"Confusion Matrix:\")\n",
    "sns.heatmap(cm, annot=True, fmt='d', cmap='Blues')\n",
    "plt.xlabel('Predicted')\n",
    "plt.ylabel('True')\n",
    "plt.title('Confusion Matrix')\n",
    "plt.show()\n",
    "\n",
    "\n",
    "# Optional: Print classification report for more detailed metrics\n",
    "print(\"Classification Report:\")\n",
    "print(classification_report(y_true, y_pred))\n"
   ]
  },
  {
   "cell_type": "code",
   "execution_count": 69,
   "metadata": {},
   "outputs": [
    {
     "data": {
      "image/png": "[encoded data removed]",
      "text/plain": [
       "<Figure size 640x480 with 1 Axes>"
      ]
     },
     "metadata": {},
     "output_type": "display_data"
    }
   ],
   "source": [
    "import matplotlib.pyplot as plt\n",
    "\n",
    "# Plot the training and validation loss\n",
    "plt.plot(history.history['loss'], label='train')\n",
    "plt.plot(history.history['val_loss'], label='test')\n",
    "plt.title('Training and Validation Loss')\n",
    "plt.xlabel('Epoch')\n",
    "plt.ylabel('Loss')\n",
    "plt.legend()\n",
    "plt.show()\n",
    "\n"
   ]
  },
  {
   "cell_type": "code",
   "execution_count": 70,
   "metadata": {},
   "outputs": [
    {
     "name": "stdout",
     "output_type": "stream",
     "text": [
      "                    0\n",
      "0                2g1c\n",
      "1       2 girls 1 cup\n",
      "2      acrotomophilia\n",
      "3  alabama hot pocket\n",
      "4    alaskan pipeline\n"
     ]
    }
   ],
   "source": [
    "# hybrid inference model with swear word detection\n",
    "\n",
    "# Load the swear words dataset from en.txt\n",
    "swear_words = pd.read_csv('en.txt', header=None)\n",
    "\n",
    "# Display the first few rows of the swear words dataset\n",
    "print(swear_words.head())"
   ]
  },
  {
   "cell_type": "markdown",
   "metadata": {},
   "source": [
    "### HYBRID INFERENCE (HATE SPEECH DETECTION MODEL) \n",
    "\n",
    "- A dataset of swear words is imported to the notebook which is used to detect when hate speech or offensive language can be found in the tweet."
   ]
  },
  {
   "cell_type": "code",
   "execution_count": 71,
   "metadata": {},
   "outputs": [],
   "source": [
    "# convert the swear words dataset to a list\n",
    "swear_words = swear_words[0].tolist()\n"
   ]
  },
  {
   "cell_type": "code",
   "execution_count": 72,
   "metadata": {},
   "outputs": [
    {
     "name": "stdout",
     "output_type": "stream",
     "text": [
      "\u001b[1m1/1\u001b[0m \u001b[32m━━━━━━━━━━━━━━━━━━━━\u001b[0m\u001b[37m\u001b[0m \u001b[1m0s\u001b[0m 15ms/step\n",
      "Hybrid Inference Result: Potential Offensive Language (Swear Word Detected) | Model Result: Offensive Language (Model Prediction)\n"
     ]
    }
   ],
   "source": [
    "import numpy as np\n",
    "\n",
    "def hybrid_inference(tweet):\n",
    "    # Swear word-based check\n",
    "    swear_word_detected = any(swear in tweet.lower() for swear in swear_words)\n",
    "    \n",
    "    # Preprocess the tweet if required by the model (tokenizing, padding, etc.)\n",
    "    tweet_sequence = tokenizer.texts_to_sequences([tweet])\n",
    "    tweet_padded = np.array(pad_sequences(tweet_sequence, maxlen=maxlen))\n",
    "\n",
    "    # Model prediction\n",
    "    model_prediction = lstm_model.predict(tweet_padded)\n",
    "    predicted_class = np.argmax(model_prediction[0])  # softmax output\n",
    "\n",
    "    # Interpret model prediction\n",
    "    if predicted_class == 1:\n",
    "        model_result = \"Offensive Language (Model Prediction)\"\n",
    "    elif predicted_class == 0:\n",
    "        model_result = \"Neutral (Model Prediction)\"\n",
    "    elif predicted_class == 2:\n",
    "        model_result = \"Hate Speech Content (Model Prediction)\"\n",
    "    \n",
    "    # Combine rule-based and model-based results\n",
    "    if swear_word_detected:\n",
    "        return f\"Potential Offensive Language (Swear Word Detected) | Model Result: {model_result}\"\n",
    "    else:\n",
    "        return f\"No Offensive Language Detected (No Swear Word Detected) | Model Result: {model_result}\"\n",
    "\n",
    "# Example usage\n",
    "test_tweet = \"shit fuck bitch\"\n",
    "result = hybrid_inference(test_tweet)\n",
    "print(f\"Hybrid Inference Result: {result}\")\n"
   ]
  },
  {
   "cell_type": "code",
   "execution_count": 73,
   "metadata": {},
   "outputs": [
    {
     "name": "stdout",
     "output_type": "stream",
     "text": [
      "\u001b[1m1/1\u001b[0m \u001b[32m━━━━━━━━━━━━━━━━━━━━\u001b[0m\u001b[37m\u001b[0m \u001b[1m0s\u001b[0m 16ms/step\n",
      "Hybrid Inference Result: No Offensive Language Detected (No Swear Word Detected) | Model Result: Neutral (Model Prediction)\n"
     ]
    }
   ],
   "source": [
    "test_tweet = \"Today is beautiful\"\n",
    "result = hybrid_inference(test_tweet)\n",
    "print(f\"Hybrid Inference Result: {result}\")"
   ]
  },
  {
   "cell_type": "code",
   "execution_count": 74,
   "metadata": {},
   "outputs": [
    {
     "name": "stdout",
     "output_type": "stream",
     "text": [
      "\u001b[1m1/1\u001b[0m \u001b[32m━━━━━━━━━━━━━━━━━━━━\u001b[0m\u001b[37m\u001b[0m \u001b[1m0s\u001b[0m 16ms/step\n",
      "Hybrid Inference Result: No Offensive Language Detected (No Swear Word Detected) | Model Result: Hate Speech Content (Model Prediction)\n"
     ]
    }
   ],
   "source": [
    "test_tweet = \"I hate jews\"\n",
    "result = hybrid_inference(test_tweet)\n",
    "print(f\"Hybrid Inference Result: {result}\")"
   ]
  },
  {
   "cell_type": "code",
   "execution_count": 75,
   "metadata": {},
   "outputs": [
    {
     "name": "stderr",
     "output_type": "stream",
     "text": [
      "c:\\Users\\Admin\\AppData\\Local\\Programs\\Python\\Python311\\Lib\\site-packages\\tqdm\\auto.py:21: TqdmWarning: IProgress not found. Please update jupyter and ipywidgets. See https://ipywidgets.readthedocs.io/en/stable/user_install.html\n",
      "  from .autonotebook import tqdm as notebook_tqdm\n"
     ]
    },
    {
     "name": "stdout",
     "output_type": "stream",
     "text": [
      "WARNING:tensorflow:From c:\\Users\\Admin\\AppData\\Local\\Programs\\Python\\Python311\\Lib\\site-packages\\tf_keras\\src\\losses.py:2976: The name tf.losses.sparse_softmax_cross_entropy is deprecated. Please use tf.compat.v1.losses.sparse_softmax_cross_entropy instead.\n",
      "\n"
     ]
    },
    {
     "name": "stderr",
     "output_type": "stream",
     "text": [
      "c:\\Users\\Admin\\AppData\\Local\\Programs\\Python\\Python311\\Lib\\site-packages\\transformers\\tokenization_utils_base.py:1601: FutureWarning: `clean_up_tokenization_spaces` was not set. It will be set to `True` by default. This behavior will be depracted in transformers v4.45, and will be then set to `False` by default. For more details check this issue: https://github.com/huggingface/transformers/issues/31884\n",
      "  warnings.warn(\n"
     ]
    },
    {
     "name": "stdout",
     "output_type": "stream",
     "text": [
      "WARNING:tensorflow:From c:\\Users\\Admin\\AppData\\Local\\Programs\\Python\\Python311\\Lib\\site-packages\\tf_keras\\src\\backend.py:873: The name tf.get_default_graph is deprecated. Please use tf.compat.v1.get_default_graph instead.\n",
      "\n"
     ]
    },
    {
     "name": "stderr",
     "output_type": "stream",
     "text": [
      "All PyTorch model weights were used when initializing TFBertForTokenClassification.\n",
      "\n",
      "Some weights or buffers of the TF 2.0 model TFBertForTokenClassification were not initialized from the PyTorch model and are newly initialized: ['classifier.weight', 'classifier.bias']\n",
      "You should probably TRAIN this model on a down-stream task to be able to use it for predictions and inference.\n"
     ]
    }
   ],
   "source": [
    "from transformers import BertTokenizer, TFBertForTokenClassification\n",
    "import tensorflow as tf\n",
    "\n",
    "# Load pre-trained BERT tokenizer and model\n",
    "tokenizer = BertTokenizer.from_pretrained(\"bert-base-uncased\")\n",
    "model_bert = TFBertForTokenClassification.from_pretrained(\"bert-base-uncased\", num_labels=3) \n"
   ]
  },
  {
   "cell_type": "code",
   "execution_count": 76,
   "metadata": {},
   "outputs": [
    {
     "data": {
      "text/html": [
       "<div>\n",
       "<style scoped>\n",
       "    .dataframe tbody tr th:only-of-type {\n",
       "        vertical-align: middle;\n",
       "    }\n",
       "\n",
       "    .dataframe tbody tr th {\n",
       "        vertical-align: top;\n",
       "    }\n",
       "\n",
       "    .dataframe thead th {\n",
       "        text-align: right;\n",
       "    }\n",
       "</style>\n",
       "<table border=\"1\" class=\"dataframe\">\n",
       "  <thead>\n",
       "    <tr style=\"text-align: right;\">\n",
       "      <th></th>\n",
       "      <th>tweet</th>\n",
       "      <th>label</th>\n",
       "      <th>id</th>\n",
       "    </tr>\n",
       "  </thead>\n",
       "  <tbody>\n",
       "    <tr>\n",
       "      <th>0</th>\n",
       "      <td>great feedback received today thank 5 stars im pleased backyard unrecognizable would recommend anyone</td>\n",
       "      <td>0</td>\n",
       "      <td>31516.0</td>\n",
       "    </tr>\n",
       "    <tr>\n",
       "      <th>1</th>\n",
       "      <td>va boston jersey texass summer looking great</td>\n",
       "      <td>0</td>\n",
       "      <td>25440.0</td>\n",
       "    </tr>\n",
       "    <tr>\n",
       "      <th>2</th>\n",
       "      <td>grateful fun makeup lipstick hellokitty doin red reflection mad</td>\n",
       "      <td>0</td>\n",
       "      <td>28349.0</td>\n",
       "    </tr>\n",
       "    <tr>\n",
       "      <th>3</th>\n",
       "      <td>tomorrow bihday thank god thrilled bihday</td>\n",
       "      <td>0</td>\n",
       "      <td>5281.0</td>\n",
       "    </tr>\n",
       "    <tr>\n",
       "      <th>4</th>\n",
       "      <td>havent trying lot year mariners got freaking tweet binge depressed</td>\n",
       "      <td>0</td>\n",
       "      <td>13225.0</td>\n",
       "    </tr>\n",
       "  </tbody>\n",
       "</table>\n",
       "</div>"
      ],
      "text/plain": [
       "                                                                                                   tweet   \n",
       "0  great feedback received today thank 5 stars im pleased backyard unrecognizable would recommend anyone  \\\n",
       "1                                                           va boston jersey texass summer looking great   \n",
       "2                                        grateful fun makeup lipstick hellokitty doin red reflection mad   \n",
       "3                                                              tomorrow bihday thank god thrilled bihday   \n",
       "4                                     havent trying lot year mariners got freaking tweet binge depressed   \n",
       "\n",
       "   label       id  \n",
       "0      0  31516.0  \n",
       "1      0  25440.0  \n",
       "2      0  28349.0  \n",
       "3      0   5281.0  \n",
       "4      0  13225.0  "
      ]
     },
     "execution_count": 76,
     "metadata": {},
     "output_type": "execute_result"
    }
   ],
   "source": [
    "combined_data_BERT.head()"
   ]
  },
  {
   "cell_type": "code",
   "execution_count": 77,
   "metadata": {},
   "outputs": [],
   "source": [
    "data_processed_BERT = combined_data_BERT[combined_data_BERT['tweet'].str.strip().astype(bool)]\n",
    "X_train, X_test, y_train, y_test = train_test_split(data_processed_BERT['tweet'], data_processed_BERT['label'], test_size=0.2, random_state=42)"
   ]
  },
  {
   "cell_type": "code",
   "execution_count": 78,
   "metadata": {},
   "outputs": [
    {
     "name": "stderr",
     "output_type": "stream",
     "text": [
      "Some weights of the PyTorch model were not used when initializing the TF 2.0 model TFBertModel: ['cls.seq_relationship.weight', 'cls.seq_relationship.bias', 'cls.predictions.bias', 'cls.predictions.transform.dense.weight', 'cls.predictions.transform.dense.bias', 'cls.predictions.transform.LayerNorm.bias', 'cls.predictions.transform.LayerNorm.weight']\n",
      "- This IS expected if you are initializing TFBertModel from a PyTorch model trained on another task or with another architecture (e.g. initializing a TFBertForSequenceClassification model from a BertForPreTraining model).\n",
      "- This IS NOT expected if you are initializing TFBertModel from a PyTorch model that you expect to be exactly identical (e.g. initializing a TFBertForSequenceClassification model from a BertForSequenceClassification model).\n",
      "All the weights of TFBertModel were initialized from the PyTorch model.\n",
      "If your task is similar to the task the model of the checkpoint was trained on, you can already use TFBertModel for predictions without further training.\n"
     ]
    }
   ],
   "source": [
    "import tensorflow as tf\n",
    "from transformers import TFBertModel\n",
    "from tensorflow.keras.models import Model\n",
    "\n",
    "# Load pre-trained BERT model\n",
    "model_bert = TFBertModel.from_pretrained('bert-base-uncased')\n",
    "\n",
    "# Assuming you've defined your tokenizer and maxlen\n",
    "def encode_tweets_for_bert(tweets, max_len):\n",
    "    encodings = tokenizer(tweets, \n",
    "                          max_length=max_len, \n",
    "                          padding='max_length', \n",
    "                          truncation=True, \n",
    "                          return_tensors=\"tf\")\n",
    "    \n",
    "    # Convert to tf.Tensor if they are not already\n",
    "    return {\n",
    "        'input_ids': tf.convert_to_tensor(encodings['input_ids']),\n",
    "        'attention_mask': tf.convert_to_tensor(encodings['attention_mask']),\n",
    "    }\n",
    "\n",
    "# Encode the tweets\n",
    "X_train_enc = encode_tweets_for_bert(X_train.tolist(), maxlen)\n",
    "X_test_enc = encode_tweets_for_bert(X_test.tolist(), maxlen)\n",
    "\n",
    "# Pass inputs directly to the BERT model\n",
    "bert_outputs = model_bert(input_ids=X_train_enc['input_ids'], \n",
    "                          attention_mask=X_train_enc['attention_mask'])\n",
    "\n"
   ]
  },
  {
   "cell_type": "code",
   "execution_count": 79,
   "metadata": {},
   "outputs": [
    {
     "name": "stderr",
     "output_type": "stream",
     "text": [
      "c:\\Users\\Admin\\AppData\\Local\\Programs\\Python\\Python311\\Lib\\site-packages\\transformers\\tokenization_utils_base.py:1601: FutureWarning: `clean_up_tokenization_spaces` was not set. It will be set to `True` by default. This behavior will be depracted in transformers v4.45, and will be then set to `False` by default. For more details check this issue: https://github.com/huggingface/transformers/issues/31884\n",
      "  warnings.warn(\n",
      "Some weights of the PyTorch model were not used when initializing the TF 2.0 model TFBertModel: ['cls.seq_relationship.weight', 'cls.seq_relationship.bias', 'cls.predictions.bias', 'cls.predictions.transform.dense.weight', 'cls.predictions.transform.dense.bias', 'cls.predictions.transform.LayerNorm.bias', 'cls.predictions.transform.LayerNorm.weight']\n",
      "- This IS expected if you are initializing TFBertModel from a PyTorch model trained on another task or with another architecture (e.g. initializing a TFBertForSequenceClassification model from a BertForPreTraining model).\n",
      "- This IS NOT expected if you are initializing TFBertModel from a PyTorch model that you expect to be exactly identical (e.g. initializing a TFBertForSequenceClassification model from a BertForSequenceClassification model).\n",
      "All the weights of TFBertModel were initialized from the PyTorch model.\n",
      "If your task is similar to the task the model of the checkpoint was trained on, you can already use TFBertModel for predictions without further training.\n"
     ]
    },
    {
     "name": "stdout",
     "output_type": "stream",
     "text": [
      "WARNING:tensorflow:From c:\\Users\\Admin\\AppData\\Local\\Programs\\Python\\Python311\\Lib\\site-packages\\keras\\src\\backend\\tensorflow\\core.py:204: The name tf.placeholder is deprecated. Please use tf.compat.v1.placeholder instead.\n",
      "\n"
     ]
    },
    {
     "data": {
      "text/html": [
       "<pre style=\"white-space:pre;overflow-x:auto;line-height:normal;font-family:Menlo,'DejaVu Sans Mono',consolas,'Courier New',monospace\"><span style=\"font-weight: bold\">Model: \"functional_3\"</span>\n",
       "</pre>\n"
      ],
      "text/plain": [
       "\u001b[1mModel: \"functional_3\"\u001b[0m\n"
      ]
     },
     "metadata": {},
     "output_type": "display_data"
    },
    {
     "data": {
      "text/html": [
       "<pre style=\"white-space:pre;overflow-x:auto;line-height:normal;font-family:Menlo,'DejaVu Sans Mono',consolas,'Courier New',monospace\">┏━━━━━━━━━━━━━━━━━━━━━┳━━━━━━━━━━━━━━━━━━━┳━━━━━━━━━━━━┳━━━━━━━━━━━━━━━━━━━┓\n",
       "┃<span style=\"font-weight: bold\"> Layer (type)        </span>┃<span style=\"font-weight: bold\"> Output Shape      </span>┃<span style=\"font-weight: bold\">    Param # </span>┃<span style=\"font-weight: bold\"> Connected to      </span>┃\n",
       "┡━━━━━━━━━━━━━━━━━━━━━╇━━━━━━━━━━━━━━━━━━━╇━━━━━━━━━━━━╇━━━━━━━━━━━━━━━━━━━┩\n",
       "│ input_ids           │ (<span style=\"color: #00d7ff; text-decoration-color: #00d7ff\">None</span>, <span style=\"color: #00af00; text-decoration-color: #00af00\">27</span>)        │          <span style=\"color: #00af00; text-decoration-color: #00af00\">0</span> │ -                 │\n",
       "│ (<span style=\"color: #0087ff; text-decoration-color: #0087ff\">InputLayer</span>)        │                   │            │                   │\n",
       "├─────────────────────┼───────────────────┼────────────┼───────────────────┤\n",
       "│ attention_mask      │ (<span style=\"color: #00d7ff; text-decoration-color: #00d7ff\">None</span>, <span style=\"color: #00af00; text-decoration-color: #00af00\">27</span>)        │          <span style=\"color: #00af00; text-decoration-color: #00af00\">0</span> │ -                 │\n",
       "│ (<span style=\"color: #0087ff; text-decoration-color: #0087ff\">InputLayer</span>)        │                   │            │                   │\n",
       "├─────────────────────┼───────────────────┼────────────┼───────────────────┤\n",
       "│ bert_layer          │ (<span style=\"color: #00d7ff; text-decoration-color: #00d7ff\">None</span>, <span style=\"color: #00af00; text-decoration-color: #00af00\">27</span>, <span style=\"color: #00af00; text-decoration-color: #00af00\">768</span>)   │          <span style=\"color: #00af00; text-decoration-color: #00af00\">0</span> │ input_ids[<span style=\"color: #00af00; text-decoration-color: #00af00\">0</span>][<span style=\"color: #00af00; text-decoration-color: #00af00\">0</span>],  │\n",
       "│ (<span style=\"color: #0087ff; text-decoration-color: #0087ff\">BertLayer</span>)         │                   │            │ attention_mask[<span style=\"color: #00af00; text-decoration-color: #00af00\">0</span>… │\n",
       "├─────────────────────┼───────────────────┼────────────┼───────────────────┤\n",
       "│ global_average_poo… │ (<span style=\"color: #00d7ff; text-decoration-color: #00d7ff\">None</span>, <span style=\"color: #00af00; text-decoration-color: #00af00\">768</span>)       │          <span style=\"color: #00af00; text-decoration-color: #00af00\">0</span> │ bert_layer[<span style=\"color: #00af00; text-decoration-color: #00af00\">0</span>][<span style=\"color: #00af00; text-decoration-color: #00af00\">0</span>]  │\n",
       "│ (<span style=\"color: #0087ff; text-decoration-color: #0087ff\">GlobalAveragePool…</span> │                   │            │                   │\n",
       "├─────────────────────┼───────────────────┼────────────┼───────────────────┤\n",
       "│ dropout_6 (<span style=\"color: #0087ff; text-decoration-color: #0087ff\">Dropout</span>) │ (<span style=\"color: #00d7ff; text-decoration-color: #00d7ff\">None</span>, <span style=\"color: #00af00; text-decoration-color: #00af00\">768</span>)       │          <span style=\"color: #00af00; text-decoration-color: #00af00\">0</span> │ global_average_p… │\n",
       "├─────────────────────┼───────────────────┼────────────┼───────────────────┤\n",
       "│ dense_5 (<span style=\"color: #0087ff; text-decoration-color: #0087ff\">Dense</span>)     │ (<span style=\"color: #00d7ff; text-decoration-color: #00d7ff\">None</span>, <span style=\"color: #00af00; text-decoration-color: #00af00\">3</span>)         │      <span style=\"color: #00af00; text-decoration-color: #00af00\">2,307</span> │ dropout_6[<span style=\"color: #00af00; text-decoration-color: #00af00\">0</span>][<span style=\"color: #00af00; text-decoration-color: #00af00\">0</span>]   │\n",
       "└─────────────────────┴───────────────────┴────────────┴───────────────────┘\n",
       "</pre>\n"
      ],
      "text/plain": [
       "┏━━━━━━━━━━━━━━━━━━━━━┳━━━━━━━━━━━━━━━━━━━┳━━━━━━━━━━━━┳━━━━━━━━━━━━━━━━━━━┓\n",
       "┃\u001b[1m \u001b[0m\u001b[1mLayer (type)       \u001b[0m\u001b[1m \u001b[0m┃\u001b[1m \u001b[0m\u001b[1mOutput Shape     \u001b[0m\u001b[1m \u001b[0m┃\u001b[1m \u001b[0m\u001b[1m   Param #\u001b[0m\u001b[1m \u001b[0m┃\u001b[1m \u001b[0m\u001b[1mConnected to     \u001b[0m\u001b[1m \u001b[0m┃\n",
       "┡━━━━━━━━━━━━━━━━━━━━━╇━━━━━━━━━━━━━━━━━━━╇━━━━━━━━━━━━╇━━━━━━━━━━━━━━━━━━━┩\n",
       "│ input_ids           │ (\u001b[38;5;45mNone\u001b[0m, \u001b[38;5;34m27\u001b[0m)        │          \u001b[38;5;34m0\u001b[0m │ -                 │\n",
       "│ (\u001b[38;5;33mInputLayer\u001b[0m)        │                   │            │                   │\n",
       "├─────────────────────┼───────────────────┼────────────┼───────────────────┤\n",
       "│ attention_mask      │ (\u001b[38;5;45mNone\u001b[0m, \u001b[38;5;34m27\u001b[0m)        │          \u001b[38;5;34m0\u001b[0m │ -                 │\n",
       "│ (\u001b[38;5;33mInputLayer\u001b[0m)        │                   │            │                   │\n",
       "├─────────────────────┼───────────────────┼────────────┼───────────────────┤\n",
       "│ bert_layer          │ (\u001b[38;5;45mNone\u001b[0m, \u001b[38;5;34m27\u001b[0m, \u001b[38;5;34m768\u001b[0m)   │          \u001b[38;5;34m0\u001b[0m │ input_ids[\u001b[38;5;34m0\u001b[0m][\u001b[38;5;34m0\u001b[0m],  │\n",
       "│ (\u001b[38;5;33mBertLayer\u001b[0m)         │                   │            │ attention_mask[\u001b[38;5;34m0\u001b[0m… │\n",
       "├─────────────────────┼───────────────────┼────────────┼───────────────────┤\n",
       "│ global_average_poo… │ (\u001b[38;5;45mNone\u001b[0m, \u001b[38;5;34m768\u001b[0m)       │          \u001b[38;5;34m0\u001b[0m │ bert_layer[\u001b[38;5;34m0\u001b[0m][\u001b[38;5;34m0\u001b[0m]  │\n",
       "│ (\u001b[38;5;33mGlobalAveragePool…\u001b[0m │                   │            │                   │\n",
       "├─────────────────────┼───────────────────┼────────────┼───────────────────┤\n",
       "│ dropout_6 (\u001b[38;5;33mDropout\u001b[0m) │ (\u001b[38;5;45mNone\u001b[0m, \u001b[38;5;34m768\u001b[0m)       │          \u001b[38;5;34m0\u001b[0m │ global_average_p… │\n",
       "├─────────────────────┼───────────────────┼────────────┼───────────────────┤\n",
       "│ dense_5 (\u001b[38;5;33mDense\u001b[0m)     │ (\u001b[38;5;45mNone\u001b[0m, \u001b[38;5;34m3\u001b[0m)         │      \u001b[38;5;34m2,307\u001b[0m │ dropout_6[\u001b[38;5;34m0\u001b[0m][\u001b[38;5;34m0\u001b[0m]   │\n",
       "└─────────────────────┴───────────────────┴────────────┴───────────────────┘\n"
      ]
     },
     "metadata": {},
     "output_type": "display_data"
    },
    {
     "data": {
      "text/html": [
       "<pre style=\"white-space:pre;overflow-x:auto;line-height:normal;font-family:Menlo,'DejaVu Sans Mono',consolas,'Courier New',monospace\"><span style=\"font-weight: bold\"> Total params: </span><span style=\"color: #00af00; text-decoration-color: #00af00\">2,307</span> (9.01 KB)\n",
       "</pre>\n"
      ],
      "text/plain": [
       "\u001b[1m Total params: \u001b[0m\u001b[38;5;34m2,307\u001b[0m (9.01 KB)\n"
      ]
     },
     "metadata": {},
     "output_type": "display_data"
    },
    {
     "data": {
      "text/html": [
       "<pre style=\"white-space:pre;overflow-x:auto;line-height:normal;font-family:Menlo,'DejaVu Sans Mono',consolas,'Courier New',monospace\"><span style=\"font-weight: bold\"> Trainable params: </span><span style=\"color: #00af00; text-decoration-color: #00af00\">2,307</span> (9.01 KB)\n",
       "</pre>\n"
      ],
      "text/plain": [
       "\u001b[1m Trainable params: \u001b[0m\u001b[38;5;34m2,307\u001b[0m (9.01 KB)\n"
      ]
     },
     "metadata": {},
     "output_type": "display_data"
    },
    {
     "data": {
      "text/html": [
       "<pre style=\"white-space:pre;overflow-x:auto;line-height:normal;font-family:Menlo,'DejaVu Sans Mono',consolas,'Courier New',monospace\"><span style=\"font-weight: bold\"> Non-trainable params: </span><span style=\"color: #00af00; text-decoration-color: #00af00\">0</span> (0.00 B)\n",
       "</pre>\n"
      ],
      "text/plain": [
       "\u001b[1m Non-trainable params: \u001b[0m\u001b[38;5;34m0\u001b[0m (0.00 B)\n"
      ]
     },
     "metadata": {},
     "output_type": "display_data"
    }
   ],
   "source": [
    "import tensorflow as tf\n",
    "from transformers import TFBertModel, BertTokenizer\n",
    "\n",
    "# Load the tokenizer and the BERT model\n",
    "tokenizer = BertTokenizer.from_pretrained(\"bert-base-uncased\")\n",
    "model_bert = TFBertModel.from_pretrained(\"bert-base-uncased\")\n",
    "\n",
    "# Define max length\n",
    "maxlen = 27  # Adjust as needed\n",
    "\n",
    "# Define a custom layer to wrap the BERT model\n",
    "class BertLayer(tf.keras.layers.Layer):\n",
    "    def __init__(self, model, **kwargs):\n",
    "        super(BertLayer, self).__init__(**kwargs)\n",
    "        self.bert = model\n",
    "\n",
    "    def call(self, inputs):\n",
    "        input_ids, attention_mask = inputs\n",
    "        # Get outputs from BERT\n",
    "        bert_outputs = self.bert(input_ids=input_ids, attention_mask=attention_mask)\n",
    "        # Return only the last hidden state\n",
    "        return bert_outputs.last_hidden_state\n",
    "\n",
    "# Define inputs\n",
    "input_ids = tf.keras.Input(shape=(maxlen,), dtype=tf.int32, name=\"input_ids\")\n",
    "attention_mask = tf.keras.Input(shape=(maxlen,), dtype=tf.int32, name=\"attention_mask\")\n",
    "\n",
    "# Pass inputs directly to the custom BERT layer\n",
    "bert_outputs = BertLayer(model_bert)([input_ids, attention_mask])\n",
    "\n",
    "# Token-wise output\n",
    "sequence_output = bert_outputs  # This is now a tensor of shape (None, maxlen, 768)\n",
    "\n",
    "# Add classification layers\n",
    "pooled_output = GlobalAveragePooling1D()(sequence_output)\n",
    "dropout = Dropout(0.1)(pooled_output)\n",
    "output_layer = Dense(3, activation='softmax')(dropout)\n",
    "\n",
    "# Create the model\n",
    "model = Model(inputs=[input_ids, attention_mask], outputs=output_layer)\n",
    "model.compile(optimizer='adam', loss='categorical_crossentropy', metrics=['accuracy'])\n",
    "model.summary()\n",
    "\n"
   ]
  },
  {
   "cell_type": "code",
   "execution_count": 80,
   "metadata": {},
   "outputs": [
    {
     "name": "stdout",
     "output_type": "stream",
     "text": [
      "Epoch 1/5\n",
      "\u001b[1m241/241\u001b[0m \u001b[32m━━━━━━━━━━━━━━━━━━━━\u001b[0m\u001b[37m\u001b[0m \u001b[1m211s\u001b[0m 840ms/step - accuracy: 0.3467 - loss: 1.1679 - val_accuracy: 0.3759 - val_loss: 1.1080\n",
      "Epoch 2/5\n",
      "\u001b[1m241/241\u001b[0m \u001b[32m━━━━━━━━━━━━━━━━━━━━\u001b[0m\u001b[37m\u001b[0m \u001b[1m196s\u001b[0m 813ms/step - accuracy: 0.3431 - loss: 1.1406 - val_accuracy: 0.3575 - val_loss: 1.1093\n",
      "Epoch 3/5\n",
      "\u001b[1m241/241\u001b[0m \u001b[32m━━━━━━━━━━━━━━━━━━━━\u001b[0m\u001b[37m\u001b[0m \u001b[1m198s\u001b[0m 821ms/step - accuracy: 0.3456 - loss: 1.1332 - val_accuracy: 0.3674 - val_loss: 1.1013\n",
      "Epoch 4/5\n",
      "\u001b[1m241/241\u001b[0m \u001b[32m━━━━━━━━━━━━━━━━━━━━\u001b[0m\u001b[37m\u001b[0m \u001b[1m196s\u001b[0m 813ms/step - accuracy: 0.3485 - loss: 1.1293 - val_accuracy: 0.3340 - val_loss: 1.1053\n",
      "Epoch 5/5\n",
      "\u001b[1m241/241\u001b[0m \u001b[32m━━━━━━━━━━━━━━━━━━━━\u001b[0m\u001b[37m\u001b[0m \u001b[1m195s\u001b[0m 811ms/step - accuracy: 0.3491 - loss: 1.1266 - val_accuracy: 0.3442 - val_loss: 1.0965\n"
     ]
    }
   ],
   "source": [
    "# Compile your model with sparse categorical crossentropy\n",
    "model.compile(optimizer='adam', loss='sparse_categorical_crossentropy', metrics=['accuracy'])\n",
    "\n",
    "history = model.fit(\n",
    "    {\"input_ids\": X_train_enc['input_ids'], \"attention_mask\": X_train_enc['attention_mask']},\n",
    "    y_train,  # Use y_train directly if it's already in integer format\n",
    "    validation_data=(\n",
    "        {\"input_ids\": X_test_enc['input_ids'], \"attention_mask\": X_test_enc['attention_mask']},\n",
    "        y_test  # Use y_test directly if it's already in integer format\n",
    "    ),\n",
    "    epochs=5,\n",
    "    batch_size=64\n",
    ")\n",
    "\n"
   ]
  },
  {
   "cell_type": "code",
   "execution_count": 81,
   "metadata": {},
   "outputs": [
    {
     "name": "stdout",
     "output_type": "stream",
     "text": [
      "\u001b[1m1/1\u001b[0m \u001b[32m━━━━━━━━━━━━━━━━━━━━\u001b[0m\u001b[37m\u001b[0m \u001b[1m0s\u001b[0m 125ms/step\n",
      "\u001b[1m1/1\u001b[0m \u001b[32m━━━━━━━━━━━━━━━━━━━━\u001b[0m\u001b[37m\u001b[0m \u001b[1m1s\u001b[0m 1s/step\n",
      "Hybrid Inference Result: No Offensive Language Detected (No Swear Word Detected) | LSTM Result: Neutral (Model Prediction), BERT Result: Hate Speech Content (BERT Prediction)\n"
     ]
    }
   ],
   "source": [
    "# Initialize the LSTM tokenizer and fit on training data\n",
    "lstm_tokenizer = tf.keras.preprocessing.text.Tokenizer()\n",
    "lstm_tokenizer.fit_on_texts(X_train)\n",
    "\n",
    "# BERT Tokenizer Initialization\n",
    "bert_tokenizer = BertTokenizer.from_pretrained(\"bert-base-uncased\")\n",
    "maxlen = 27  # Define max length for tokenization\n",
    "\n",
    "def encode_tweet_for_bert(tweet):\n",
    "    \"\"\"Tokenize a single tweet for BERT model.\"\"\"\n",
    "    encoding = bert_tokenizer(tweet, max_length=maxlen, padding='max_length', truncation=True, return_tensors=\"tf\")\n",
    "    return {\n",
    "        'input_ids': encoding['input_ids'],\n",
    "        'attention_mask': encoding['attention_mask'],\n",
    "    }\n",
    "\n",
    "def hybrid_inference(tweet):\n",
    "    # Swear word-based check\n",
    "    swear_word_detected = any(swear in tweet.lower() for swear in swear_words)\n",
    "    \n",
    "    # LSTM Model Prediction\n",
    "    tweet_sequence = lstm_tokenizer.texts_to_sequences([tweet])\n",
    "    tweet_padded = np.array(pad_sequences(tweet_sequence, maxlen=maxlen))\n",
    "    lstm_prediction = lstm_model.predict(tweet_padded)\n",
    "    lstm_predicted_class = np.argmax(lstm_prediction[0])  # softmax output\n",
    "\n",
    "    # Interpret LSTM model prediction\n",
    "    if lstm_predicted_class == 1:\n",
    "        lstm_result = \"Offensive Language (Model Prediction)\"\n",
    "    elif lstm_predicted_class == 0:\n",
    "        lstm_result = \"Neutral (Model Prediction)\"\n",
    "    elif lstm_predicted_class == 2:\n",
    "        lstm_result = \"Hate Speech Content (Model Prediction)\"\n",
    "\n",
    "    # BERT Model Prediction\n",
    "    bert_encoded = encode_tweet_for_bert(tweet)\n",
    "    bert_prediction = model.predict(bert_encoded)\n",
    "    bert_predicted_class = np.argmax(bert_prediction[0])  # softmax output\n",
    "\n",
    "    # Interpret BERT model prediction\n",
    "    if bert_predicted_class == 1:\n",
    "        bert_result = \"Offensive Language (BERT Prediction)\"\n",
    "    elif bert_predicted_class == 0:\n",
    "        bert_result = \"Neutral (BERT Prediction)\"\n",
    "    elif bert_predicted_class == 2:\n",
    "        bert_result = \"Hate Speech Content (BERT Prediction)\"\n",
    "\n",
    "    # Combine model results\n",
    "    combined_result = f\"LSTM Result: {lstm_result}, BERT Result: {bert_result}\"\n",
    "\n",
    "    # Add rule-based output if a swear word is detected\n",
    "    if swear_word_detected:\n",
    "        return f\"Potential Offensive Language (Swear Word Detected) | {combined_result}\"\n",
    "    else:\n",
    "        return f\"No Offensive Language Detected (No Swear Word Detected) | {combined_result}\"\n",
    "\n",
    "# Example usage\n",
    "test_tweet = \"This is a sample tweet with no swearword\"\n",
    "result = hybrid_inference(test_tweet)\n",
    "print(f\"Hybrid Inference Result: {result}\")"
   ]
  },
  {
   "cell_type": "code",
   "execution_count": 83,
   "metadata": {},
   "outputs": [
    {
     "name": "stdout",
     "output_type": "stream",
     "text": [
      "\u001b[1m1/1\u001b[0m \u001b[32m━━━━━━━━━━━━━━━━━━━━\u001b[0m\u001b[37m\u001b[0m \u001b[1m0s\u001b[0m 17ms/step\n",
      "\u001b[1m1/1\u001b[0m \u001b[32m━━━━━━━━━━━━━━━━━━━━\u001b[0m\u001b[37m\u001b[0m \u001b[1m0s\u001b[0m 47ms/step\n",
      "Hybrid Inference Result: No Swear Word Detected | Final Result: Neutral (LSTM Model with 0.74 confidence)\n"
     ]
    }
   ],
   "source": [
    "# Initialize the LSTM tokenizer and fit on training data\n",
    "lstm_tokenizer = tf.keras.preprocessing.text.Tokenizer()\n",
    "lstm_tokenizer.fit_on_texts(X_train)\n",
    "\n",
    "# BERT Tokenizer Initialization\n",
    "bert_tokenizer = BertTokenizer.from_pretrained(\"bert-base-uncased\")\n",
    "maxlen = 27  # Define max length for tokenization\n",
    "\n",
    "def encode_tweet_for_bert(tweet):\n",
    "    \"\"\"Tokenize a single tweet for BERT model.\"\"\"\n",
    "    encoding = bert_tokenizer(tweet, max_length=maxlen, padding='max_length', truncation=True, return_tensors=\"tf\")\n",
    "    return {\n",
    "        'input_ids': encoding['input_ids'],\n",
    "        'attention_mask': encoding['attention_mask'],\n",
    "    }\n",
    "\n",
    "def get_model_prediction_confidence(pred):\n",
    "    \"\"\"Calculate confidence for the most probable class.\"\"\"\n",
    "    max_prob = np.max(pred, axis=-1)  # Get highest probability for each instance\n",
    "    predicted_class = np.argmax(pred, axis=-1)  # Get the predicted class\n",
    "    return predicted_class[0], max_prob[0]  # Return class and confidence of first instance\n",
    "\n",
    "def hybrid_inference(tweet):\n",
    "    # Swear word-based check\n",
    "    swear_word_detected = any(swear in tweet.lower() for swear in swear_words)\n",
    "    \n",
    "    # LSTM Model Prediction using the correct Keras tokenizer\n",
    "    tweet_sequence = lstm_tokenizer.texts_to_sequences([tweet])\n",
    "    tweet_padded = np.array(tf.keras.preprocessing.sequence.pad_sequences(tweet_sequence, maxlen=maxlen))\n",
    "    lstm_pred = lstm_model.predict(tweet_padded)\n",
    "    lstm_class, lstm_confidence = get_model_prediction_confidence(lstm_pred)\n",
    "\n",
    "    # BERT Model Prediction\n",
    "    bert_encoded = encode_tweet_for_bert(tweet)\n",
    "    bert_pred = model.predict(bert_encoded)\n",
    "    bert_class, bert_confidence = get_model_prediction_confidence(bert_pred)\n",
    "\n",
    "    # Determine the final prediction based on higher confidence\n",
    "    if lstm_confidence > bert_confidence:\n",
    "        final_prediction = lstm_class\n",
    "        model_used = \"LSTM Model\"\n",
    "    else:\n",
    "        final_prediction = bert_class\n",
    "        model_used = \"BERT Model\"\n",
    "\n",
    "    # Map predictions to readable output\n",
    "    prediction_map = {0: \"Neutral\", 1: \"Offensive Language\", 2: \"Hate Speech Content\"}\n",
    "    final_result = f\"{prediction_map[final_prediction]} ({model_used} with {max(lstm_confidence, bert_confidence):.2f} confidence)\"\n",
    "\n",
    "    # Add rule-based output if a swear word is detected\n",
    "    if swear_word_detected:\n",
    "        return f\"Potential Offensive Language (Swear Word Detected) | Final Result: {final_result}\"\n",
    "    else:\n",
    "        return f\"No Swear Word Detected | Final Result: {final_result}\"\n",
    "\n",
    "# Example usage\n",
    "test_tweet = \"This is a sample tweet with no swearword\"\n",
    "result = hybrid_inference(test_tweet)\n",
    "print(f\"Hybrid Inference Result: {result}\")"
   ]
  },
  {
   "cell_type": "code",
   "execution_count": 84,
   "metadata": {},
   "outputs": [
    {
     "name": "stdout",
     "output_type": "stream",
     "text": [
      "\u001b[1m1/1\u001b[0m \u001b[32m━━━━━━━━━━━━━━━━━━━━\u001b[0m\u001b[37m\u001b[0m \u001b[1m0s\u001b[0m 17ms/step\n",
      "\u001b[1m1/1\u001b[0m \u001b[32m━━━━━━━━━━━━━━━━━━━━\u001b[0m\u001b[37m\u001b[0m \u001b[1m0s\u001b[0m 46ms/step\n",
      "Hybrid Inference Result: Potential Offensive Language (Swear Word Detected) | Final Result: Neutral (LSTM Model with 0.69 confidence)\n"
     ]
    }
   ],
   "source": [
    "# Example usage\n",
    "test_tweet = \"Shit I dropped my book\"\n",
    "result = hybrid_inference(test_tweet)\n",
    "print(f\"Hybrid Inference Result: {result}\")"
   ]
  },
  {
   "cell_type": "code",
   "execution_count": 95,
   "metadata": {},
   "outputs": [
    {
     "name": "stdout",
     "output_type": "stream",
     "text": [
      "\u001b[1m1/1\u001b[0m \u001b[32m━━━━━━━━━━━━━━━━━━━━\u001b[0m\u001b[37m\u001b[0m \u001b[1m0s\u001b[0m 18ms/step\n",
      "\u001b[1m1/1\u001b[0m \u001b[32m━━━━━━━━━━━━━━━━━━━━\u001b[0m\u001b[37m\u001b[0m \u001b[1m0s\u001b[0m 43ms/step\n",
      "Hybrid Inference Result: Potential Offensive Language (Swear Word Detected) | Final Result: Hate Speech Content (LSTM Model with 0.54 confidence)\n"
     ]
    }
   ],
   "source": [
    "# Example usage\n",
    "test_tweet = \"all fags should go kys\"\n",
    "result = hybrid_inference(test_tweet)\n",
    "print(f\"Hybrid Inference Result: {result}\")"
   ]
  },
  {
   "cell_type": "markdown",
   "metadata": {},
   "source": [
    "### DEVELOPMENT GUIDE (Further development) \n",
    "\n",
    "### Loss Improvement:\n",
    "- The model's validation loss improved from **0.6 to 0.4** after tuning dropout, recurrent dropout, and adding L2 regularization with a value of `0.0001`.\n",
    "\n",
    "### Next Steps for Further Improvement:\n",
    "1. **Hyperparameter Tuning**: \n",
    "   - Fine-tune the **dropout** and **recurrent dropout rates** further to find the optimal values that prevent overfitting without underfitting.\n",
    "   - Fine-tune the **L2 regularization rate** for both recurrent and dense layers to minimize overfitting while maintaining performance.\n",
    "2. **Experiment with Different Architectures**: Try variations in LSTM units or explore bidirectional LSTMs for better context understanding.\n",
    "3. **Data Augmentation**: Apply techniques like data augmentation or use additional datasets to make the model more robust.\n",
    "4. **Fine-tune Pretrained Models**: Use or fine-tune a pretrained model like DistilBERT or BERT for better performance.\n"
   ]
  }
 ],
 "metadata": {
  "kernelspec": {
   "display_name": "Python 3 (ipykernel)",
   "language": "python",
   "name": "python3"
  },
  "language_info": {
   "codemirror_mode": {
    "name": "ipython",
    "version": 3
   },
   "file_extension": ".py",
   "mimetype": "text/x-python",
   "name": "python",
   "nbconvert_exporter": "python",
   "pygments_lexer": "ipython3",
   "version": "3.9.12"
  }
 },
 "nbformat": 4,
 "nbformat_minor": 2
}
